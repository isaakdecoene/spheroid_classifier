{
 "cells": [
  {
   "cell_type": "markdown",
   "id": "2f906e07-41fc-4320-981e-d1ff41ea78cd",
   "metadata": {
    "tags": [
     "parameters"
    ]
   },
   "source": [
    "# Turning a set of color RGB images to improved gray .hdf5 images for ilastik input"
   ]
  },
  {
   "cell_type": "markdown",
   "id": "e4c279eb-dcab-42de-bfe9-c98dfe7f37ae",
   "metadata": {},
   "source": [
    "## <span style=\"color:red\"> INPUT - Select images in the directory</span>\n",
    "\n",
    "```path_to_images``` is the path of the folder with all images **RELATIVE** to the location of the current notebook"
   ]
  },
  {
   "cell_type": "code",
   "execution_count": 40,
   "id": "5dfe96d5-205b-4f6e-bf7a-96a7766ec24f",
   "metadata": {},
   "outputs": [],
   "source": [
    "image_folder = \"stella/input/original/\"\n",
    "output_folder = \"stella/input/\""
   ]
  },
  {
   "cell_type": "markdown",
   "id": "d048aaeb-9d65-4db8-8ae6-3dbe8ca3b034",
   "metadata": {
    "tags": []
   },
   "source": [
    "## Load libraries"
   ]
  },
  {
   "cell_type": "code",
   "execution_count": 42,
   "id": "8aea990b-40fe-45ad-b649-3458b5c57aa3",
   "metadata": {},
   "outputs": [],
   "source": [
    "import cv2\n",
    "import os\n",
    "import numpy as np\n",
    "from pathlib import Path\n",
    "import hyperspy.api as hs"
   ]
  },
  {
   "cell_type": "markdown",
   "id": "98d04c89-c586-43de-ac27-95a69834dedf",
   "metadata": {},
   "source": [
    "## Load images"
   ]
  },
  {
   "cell_type": "code",
   "execution_count": 43,
   "id": "f47e9cb8-f2ae-467f-a560-2d8e29dc22f2",
   "metadata": {},
   "outputs": [
    {
     "data": {
      "text/plain": [
       "144"
      ]
     },
     "execution_count": 43,
     "metadata": {},
     "output_type": "execute_result"
    }
   ],
   "source": [
    "# The list of items\n",
    "files = os.listdir(image_folder)\n",
    "len(files)"
   ]
  },
  {
   "cell_type": "markdown",
   "id": "0911910c-fffd-44c3-bea0-11c365175362",
   "metadata": {},
   "source": [
    "## Convert images\n",
    "\n",
    "The images are converted to grayscale, and normalized before saving"
   ]
  },
  {
   "cell_type": "code",
   "execution_count": 44,
   "id": "599b59dc-c6c3-4c17-acd1-cf41601408ff",
   "metadata": {},
   "outputs": [],
   "source": [
    "for img in files:\n",
    "    path_to_image = image_folder + img\n",
    "    path_to_output = output_folder + img[:-4] + \".hdf5\"\n",
    "    img = cv2.imread(path_to_image)\n",
    "    img_h5 = hs.signals.Signal1D(img)\n",
    "    img_h5.save(path_to_output)"
   ]
  }
 ],
 "metadata": {
  "kernelspec": {
   "display_name": "Python 3 (ipykernel)",
   "language": "python",
   "name": "python3"
  },
  "language_info": {
   "codemirror_mode": {
    "name": "ipython",
    "version": 3
   },
   "file_extension": ".py",
   "mimetype": "text/x-python",
   "name": "python",
   "nbconvert_exporter": "python",
   "pygments_lexer": "ipython3",
   "version": "3.9.7"
  }
 },
 "nbformat": 4,
 "nbformat_minor": 5
}

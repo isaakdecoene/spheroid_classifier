{
 "cells": [
  {
   "cell_type": "markdown",
   "id": "755816f3-9e96-4f5a-9605-0933fc2a5414",
   "metadata": {},
   "source": [
    "# Workflow for spheroid classification from brightfield microscopy images"
   ]
  },
  {
   "cell_type": "markdown",
   "id": "0df038bf-2101-4f6d-b3ae-a4742fa48cf4",
   "metadata": {},
   "source": [
    "## Load packages"
   ]
  },
  {
   "cell_type": "code",
   "execution_count": 5,
   "id": "fa92fae7-2940-4885-b915-d1b275a81d6c",
   "metadata": {},
   "outputs": [],
   "source": [
    "import os\n",
    "from IPython.display import clear_output\n",
    "from subprocess import Popen, PIPE"
   ]
  },
  {
   "cell_type": "markdown",
   "id": "a83f8a02-e9b1-4e58-a440-45d7f244db37",
   "metadata": {
    "tags": []
   },
   "source": [
    "## <span style=\"color:red\"> INPUT - Select images in the directory</span>\n",
    "\n",
    "```path_to_images``` is the path of the folder with all images **RELATIVE** to the location of the current notebook"
   ]
  },
  {
   "cell_type": "code",
   "execution_count": 6,
   "id": "c54e4a2f-a466-4e04-93f4-db9c927a8a39",
   "metadata": {},
   "outputs": [
    {
     "data": {
      "text/plain": [
       "['stella/input/STELLA_sA400_semiauto_Merge_100-10_C01_D7.hdf5',\n",
       " 'stella/input/STELLA_sA400_semiauto_Merge_100-10_C03_D14.hdf5',\n",
       " 'stella/input/STELLA_sA400_semiauto_Merge_100-10_C03_D21.hdf5',\n",
       " 'stella/input/STELLA_sA400_semiauto_Merge_100-10_C03_D7.hdf5',\n",
       " 'stella/input/STELLA_sA400_semiauto_Merge_100-10_D05_D14.hdf5',\n",
       " 'stella/input/STELLA_sA400_semiauto_Merge_100-10_D05_D21.hdf5',\n",
       " 'stella/input/STELLA_sA400_semiauto_Merge_100-10_D05_D7.hdf5',\n",
       " 'stella/input/STELLA_sA400_semiauto_Merge_100-20_A02_D14.hdf5',\n",
       " 'stella/input/STELLA_sA400_semiauto_Merge_100-20_A02_D21.hdf5',\n",
       " 'stella/input/STELLA_sA400_semiauto_Merge_100-20_A02_D7.hdf5',\n",
       " 'stella/input/STELLA_sA400_semiauto_Merge_100-20_A03_D14.hdf5',\n",
       " 'stella/input/STELLA_sA400_semiauto_Merge_100-20_A03_D21.hdf5',\n",
       " 'stella/input/STELLA_sA400_semiauto_Merge_100-20_A03_D7.hdf5',\n",
       " 'stella/input/STELLA_sA400_semiauto_Merge_100-20_C01_D14.hdf5',\n",
       " 'stella/input/STELLA_sA400_semiauto_Merge_100-20_C01_D21.hdf5',\n",
       " 'stella/input/STELLA_sA400_semiauto_Merge_100-20_C06_D14.hdf5',\n",
       " 'stella/input/STELLA_sA400_semiauto_Merge_100-20_C06_D21.hdf5',\n",
       " 'stella/input/STELLA_sA400_semiauto_Merge_100-20_C06_D7.hdf5',\n",
       " 'stella/input/STELLA_sA400_semiauto_Merge_250-10_A01_D14.hdf5',\n",
       " 'stella/input/STELLA_sA400_semiauto_Merge_250-10_A01_D21.hdf5',\n",
       " 'stella/input/STELLA_sA400_semiauto_Merge_250-10_A01_D7.hdf5',\n",
       " 'stella/input/STELLA_sA400_semiauto_Merge_250-10_A05_D14.hdf5',\n",
       " 'stella/input/STELLA_sA400_semiauto_Merge_250-10_A05_D21.hdf5',\n",
       " 'stella/input/STELLA_sA400_semiauto_Merge_250-10_A05_D7.hdf5',\n",
       " 'stella/input/STELLA_sA400_semiauto_Merge_250-10_B03_D14.hdf5',\n",
       " 'stella/input/STELLA_sA400_semiauto_Merge_250-10_B03_D21.hdf5',\n",
       " 'stella/input/STELLA_sA400_semiauto_Merge_250-10_B03_D7.hdf5',\n",
       " 'stella/input/STELLA_sA400_semiauto_Merge_250-20_A04_D14.hdf5',\n",
       " 'stella/input/STELLA_sA400_semiauto_Merge_250-20_A04_D21.hdf5',\n",
       " 'stella/input/STELLA_sA400_semiauto_Merge_250-20_A04_D7.hdf5',\n",
       " 'stella/input/STELLA_sA400_semiauto_Merge_250-20_C05_D14.hdf5',\n",
       " 'stella/input/STELLA_sA400_semiauto_Merge_250-20_C05_D21.hdf5',\n",
       " 'stella/input/STELLA_sA400_semiauto_Merge_250-20_C5_D7.hdf5',\n",
       " 'stella/input/STELLA_sA400_semiauto_Merge_250-20_D02_D14.hdf5',\n",
       " 'stella/input/STELLA_sA400_semiauto_Merge_250-20_D02_D21.hdf5',\n",
       " 'stella/input/STELLA_sA400_semiauto_Merge_250-20_D02_D7.hdf5',\n",
       " 'stella/input/STELLA_sA400_semiauto_Merge_50-10_A06_D14.hdf5',\n",
       " 'stella/input/STELLA_sA400_semiauto_Merge_50-10_A06_D21.hdf5',\n",
       " 'stella/input/STELLA_sA400_semiauto_Merge_50-10_A06_D7.hdf5',\n",
       " 'stella/input/STELLA_sA400_semiauto_Merge_50-10_C02_D14.hdf5',\n",
       " 'stella/input/STELLA_sA400_semiauto_Merge_50-10_C02_D21.hdf5',\n",
       " 'stella/input/STELLA_sA400_semiauto_Merge_50-10_C02_D7.hdf5',\n",
       " 'stella/input/STELLA_sA400_semiauto_Merge_50-10_D01_D14.hdf5',\n",
       " 'stella/input/STELLA_sA400_semiauto_Merge_50-10_D01_D21.hdf5',\n",
       " 'stella/input/STELLA_sA400_semiauto_Merge_50-10_D01_D7.hdf5',\n",
       " 'stella/input/STELLA_sA400_semiauto_Merge_50-20_B05_D14.hdf5',\n",
       " 'stella/input/STELLA_sA400_semiauto_Merge_50-20_B05_D21.hdf5',\n",
       " 'stella/input/STELLA_sA400_semiauto_Merge_50-20_B05_D7.hdf5',\n",
       " 'stella/input/STELLA_sA400_semiauto_Merge_50-20_C04_D14.hdf5',\n",
       " 'stella/input/STELLA_sA400_semiauto_Merge_50-20_C04_D21.hdf5',\n",
       " 'stella/input/STELLA_sA400_semiauto_Merge_50-20_C04_D7.hdf5',\n",
       " 'stella/input/STELLA_sA400_semiauto_Merge_50-20_D06_D14.hdf5',\n",
       " 'stella/input/STELLA_sA400_semiauto_Merge_50-20_D06_D21.hdf5',\n",
       " 'stella/input/STELLA_sA400_semiauto_Merge_50-20_D06_D7.hdf5',\n",
       " 'stella/input/STELLA_sA400_semiauto_Merge_500-10_B01_D7.hdf5',\n",
       " 'stella/input/STELLA_sA400_semiauto_Merge_500-10_B06_D14.hdf5',\n",
       " 'stella/input/STELLA_sA400_semiauto_Merge_500-10_B06_D21.hdf5',\n",
       " 'stella/input/STELLA_sA400_semiauto_Merge_500-10_B06_D7.hdf5',\n",
       " 'stella/input/STELLA_sA400_semiauto_Merge_500-10_D04_D14.hdf5',\n",
       " 'stella/input/STELLA_sA400_semiauto_Merge_500-10_D04_D21.hdf5',\n",
       " 'stella/input/STELLA_sA400_semiauto_Merge_500-10_D04_D7.hdf5',\n",
       " 'stella/input/STELLA_sA400_semiauto_Merge_500-20_B01_D14.hdf5',\n",
       " 'stella/input/STELLA_sA400_semiauto_Merge_500-20_B01_D21.hdf5',\n",
       " 'stella/input/STELLA_sA400_semiauto_Merge_500-20_B02_D14.hdf5',\n",
       " 'stella/input/STELLA_sA400_semiauto_Merge_500-20_B02_D21.hdf5',\n",
       " 'stella/input/STELLA_sA400_semiauto_Merge_500-20_B02_D7.hdf5',\n",
       " 'stella/input/STELLA_sA400_semiauto_Merge_500-20_B04_D14.hdf5',\n",
       " 'stella/input/STELLA_sA400_semiauto_Merge_500-20_B04_D21.hdf5',\n",
       " 'stella/input/STELLA_sA400_semiauto_Merge_500-20_B04_D7.hdf5',\n",
       " 'stella/input/STELLA_sA400_semiauto_Merge_500-20_D03_D14.hdf5',\n",
       " 'stella/input/STELLA_sA400_semiauto_Merge_500-20_D03_D21.hdf5',\n",
       " 'stella/input/STELLA_sA400_semiauto_Merge_500-20_D03_D7.hdf5',\n",
       " 'stella/input/STELLA_sA800_semiauto_Merge_100-20_C01_D14.hdf5',\n",
       " 'stella/input/STELLA_sA800_semiauto_Merge_100-20_C01_D21.hdf5',\n",
       " 'stella/input/STELLA_sA800_semiauto_Merge_100-20_C01_D7.hdf5',\n",
       " 'stella/input/STELLA_sA800_semiauto_Merge_100-20_C03_D14.hdf5',\n",
       " 'stella/input/STELLA_sA800_semiauto_Merge_100-20_C03_D21.hdf5',\n",
       " 'stella/input/STELLA_sA800_semiauto_Merge_100-20_C03_D7.hdf5',\n",
       " 'stella/input/STELLA_sA800_semiauto_Merge_100-20_C06_D14.hdf5',\n",
       " 'stella/input/STELLA_sA800_semiauto_Merge_100-20_C06_D21.hdf5',\n",
       " 'stella/input/STELLA_sA800_semiauto_Merge_100-20_C06_D7.hdf5',\n",
       " 'stella/input/STELLA_sA800_semiauto_Merge_100-40_A02_D14.hdf5',\n",
       " 'stella/input/STELLA_sA800_semiauto_Merge_100-40_A02_D21.hdf5',\n",
       " 'stella/input/STELLA_sA800_semiauto_Merge_100-40_A02_D7.hdf5',\n",
       " 'stella/input/STELLA_sA800_semiauto_Merge_100-40_A03_D14.hdf5',\n",
       " 'stella/input/STELLA_sA800_semiauto_Merge_100-40_A03_D21.hdf5',\n",
       " 'stella/input/STELLA_sA800_semiauto_Merge_100-40_A03_D7.hdf5',\n",
       " 'stella/input/STELLA_sA800_semiauto_Merge_100-40_D05_D14.hdf5',\n",
       " 'stella/input/STELLA_sA800_semiauto_Merge_100-40_D05_D21.hdf5',\n",
       " 'stella/input/STELLA_sA800_semiauto_Merge_100-40_D05_D7.hdf5',\n",
       " 'stella/input/STELLA_sA800_semiauto_Merge_250-20_A05_D14.hdf5',\n",
       " 'stella/input/STELLA_sA800_semiauto_Merge_250-20_A05_D21.hdf5',\n",
       " 'stella/input/STELLA_sA800_semiauto_Merge_250-20_A05_D7.hdf5',\n",
       " 'stella/input/STELLA_sA800_semiauto_Merge_250-20_B03_D14.hdf5',\n",
       " 'stella/input/STELLA_sA800_semiauto_Merge_250-20_B03_D21.hdf5',\n",
       " 'stella/input/STELLA_sA800_semiauto_Merge_250-20_B03_D7.hdf5',\n",
       " 'stella/input/STELLA_sA800_semiauto_Merge_250-20_C05_D14.hdf5',\n",
       " 'stella/input/STELLA_sA800_semiauto_Merge_250-20_C05_D21.hdf5',\n",
       " 'stella/input/STELLA_sA800_semiauto_Merge_250-20_C05_D7.hdf5',\n",
       " 'stella/input/STELLA_sA800_semiauto_Merge_250-40_A01_D14.hdf5',\n",
       " 'stella/input/STELLA_sA800_semiauto_Merge_250-40_A01_D21.hdf5',\n",
       " 'stella/input/STELLA_sA800_semiauto_Merge_250-40_A01_D7.hdf5',\n",
       " 'stella/input/STELLA_sA800_semiauto_Merge_250-40_A04_D14.hdf5',\n",
       " 'stella/input/STELLA_sA800_semiauto_Merge_250-40_A04_D21.hdf5',\n",
       " 'stella/input/STELLA_sA800_semiauto_Merge_250-40_A04_D7.hdf5',\n",
       " 'stella/input/STELLA_sA800_semiauto_Merge_250-40_D02_D14.hdf5',\n",
       " 'stella/input/STELLA_sA800_semiauto_Merge_250-40_D02_D21.hdf5',\n",
       " 'stella/input/STELLA_sA800_semiauto_Merge_250-40_D02_D7.hdf5',\n",
       " 'stella/input/STELLA_sA800_semiauto_Merge_50-20_A06_D14.hdf5',\n",
       " 'stella/input/STELLA_sA800_semiauto_Merge_50-20_A06_D21.hdf5',\n",
       " 'stella/input/STELLA_sA800_semiauto_Merge_50-20_A06_D7.hdf5',\n",
       " 'stella/input/STELLA_sA800_semiauto_Merge_50-20_D01_D14.hdf5',\n",
       " 'stella/input/STELLA_sA800_semiauto_Merge_50-20_D01_D21.hdf5',\n",
       " 'stella/input/STELLA_sA800_semiauto_Merge_50-20_D01_D7.hdf5',\n",
       " 'stella/input/STELLA_sA800_semiauto_Merge_50-20_D06_D14.hdf5',\n",
       " 'stella/input/STELLA_sA800_semiauto_Merge_50-20_D06_D21.hdf5',\n",
       " 'stella/input/STELLA_sA800_semiauto_Merge_50-20_D06_D7.hdf5',\n",
       " 'stella/input/STELLA_sA800_semiauto_Merge_50-40_B05_D14.hdf5',\n",
       " 'stella/input/STELLA_sA800_semiauto_Merge_50-40_B05_D21.hdf5',\n",
       " 'stella/input/STELLA_sA800_semiauto_Merge_50-40_B05_D7.hdf5',\n",
       " 'stella/input/STELLA_sA800_semiauto_Merge_50-40_C02_D14.hdf5',\n",
       " 'stella/input/STELLA_sA800_semiauto_Merge_50-40_C02_D21.hdf5',\n",
       " 'stella/input/STELLA_sA800_semiauto_Merge_50-40_C02_D7.hdf5',\n",
       " 'stella/input/STELLA_sA800_semiauto_Merge_50-40_C04_D14.hdf5',\n",
       " 'stella/input/STELLA_sA800_semiauto_Merge_50-40_C04_D21.hdf5',\n",
       " 'stella/input/STELLA_sA800_semiauto_Merge_50-40_C04_D7.hdf5',\n",
       " 'stella/input/STELLA_sA800_semiauto_Merge_500-20_B01_D14.hdf5',\n",
       " 'stella/input/STELLA_sA800_semiauto_Merge_500-20_B01_D21.hdf5',\n",
       " 'stella/input/STELLA_sA800_semiauto_Merge_500-20_B01_D7.hdf5',\n",
       " 'stella/input/STELLA_sA800_semiauto_Merge_500-20_B02_D14.hdf5',\n",
       " 'stella/input/STELLA_sA800_semiauto_Merge_500-20_B02_D21.hdf5',\n",
       " 'stella/input/STELLA_sA800_semiauto_Merge_500-20_B02_D7.hdf5',\n",
       " 'stella/input/STELLA_sA800_semiauto_Merge_500-20_D04_D14.hdf5',\n",
       " 'stella/input/STELLA_sA800_semiauto_Merge_500-20_D04_D21.hdf5',\n",
       " 'stella/input/STELLA_sA800_semiauto_Merge_500-20_D04_D7.hdf5',\n",
       " 'stella/input/STELLA_sA800_semiauto_Merge_500-40_B04_D14.hdf5',\n",
       " 'stella/input/STELLA_sA800_semiauto_Merge_500-40_B04_D21.hdf5',\n",
       " 'stella/input/STELLA_sA800_semiauto_Merge_500-40_B04_D7.hdf5',\n",
       " 'stella/input/STELLA_sA800_semiauto_Merge_500-40_B06_D14.hdf5',\n",
       " 'stella/input/STELLA_sA800_semiauto_Merge_500-40_B06_D21.hdf5',\n",
       " 'stella/input/STELLA_sA800_semiauto_Merge_500-40_B06_D7.hdf5',\n",
       " 'stella/input/STELLA_sA800_semiauto_Merge_500-40_D03_D14.hdf5',\n",
       " 'stella/input/STELLA_sA800_semiauto_Merge_500-40_D03_D21.hdf5',\n",
       " 'stella/input/STELLA_sA800_semiauto_Merge_500-40_D03_D7.hdf5']"
      ]
     },
     "execution_count": 6,
     "metadata": {},
     "output_type": "execute_result"
    }
   ],
   "source": [
    "path_to_images = \"stella/input/\"\n",
    "all_files_in_path = os.listdir(path_to_images)\n",
    "\n",
    "all_images = [path_to_images + f for f in all_files_in_path if '.hdf5' in f]\n",
    "all_images"
   ]
  },
  {
   "cell_type": "code",
   "execution_count": 7,
   "id": "b80982a2-6a97-4fbb-bdcf-0c5b656c5297",
   "metadata": {},
   "outputs": [
    {
     "data": {
      "text/plain": [
       "144"
      ]
     },
     "execution_count": 7,
     "metadata": {},
     "output_type": "execute_result"
    }
   ],
   "source": [
    "len(all_images)"
   ]
  },
  {
   "cell_type": "markdown",
   "id": "b848e292-ac56-4261-a17a-cee32a63fe8d",
   "metadata": {
    "tags": []
   },
   "source": [
    "## Run all images"
   ]
  },
  {
   "cell_type": "code",
   "execution_count": 8,
   "id": "5883137b-e839-4c5c-8b8c-a24363bf0e7b",
   "metadata": {},
   "outputs": [
    {
     "name": "stdout",
     "output_type": "stream",
     "text": [
      "\n",
      "\n",
      "---------- Analyzing image # 144 / 144 , name: stella/input/STELLA_sA800_semiauto_Merge_500-40_D03_D7.hdf5 ----------\n",
      "\n",
      "\n"
     ]
    },
    {
     "name": "stderr",
     "output_type": "stream",
     "text": [
      "Input Notebook:  SpheroidClassifier_Manual.ipynb\n",
      "Output Notebook: Individual_Analysis.ipynb\n",
      "Generating grammar tables from /opt/conda/lib/python3.9/site-packages/blib2to3/Grammar.txt\n",
      "Writing grammar tables to /home/jovyan/.cache/black/21.12b0/Grammar3.9.7.final.0.pickle\n",
      "Writing failed: [Errno 2] No such file or directory: '/home/jovyan/.cache/black/21.12b0/tmpojujhhkn'\n",
      "Generating grammar tables from /opt/conda/lib/python3.9/site-packages/blib2to3/PatternGrammar.txt\n",
      "Writing grammar tables to /home/jovyan/.cache/black/21.12b0/PatternGrammar3.9.7.final.0.pickle\n",
      "Writing failed: [Errno 2] No such file or directory: '/home/jovyan/.cache/black/21.12b0/tmpl6cxhsjh'\n",
      "Executing:   0%|          | 0/76 [00:00<?, ?cell/s]Executing notebook with kernel: python3\n",
      "Executing:  25%|██▌       | 19/76 [00:04<00:08,  6.82cell/s]Warning: Ignoring your non-empty LD_LIBRARY_PATH\n",
      "/ilastik/ilastik-1.3.3post3-Linux/ilastik-meta/lazyflow/lazyflow/classifiers/__init__.py:20: UserWarning: init: Could not import tiktorch classifier\n",
      "  warnings.warn(\"init: Could not import tiktorch classifier\")\n"
     ]
    },
    {
     "name": "stdout",
     "output_type": "stream",
     "text": [
      "INFO ilastik_main: Starting ilastik from \"/ilastik/ilastik-1.3.3post3-Linux\".\n"
     ]
    },
    {
     "name": "stderr",
     "output_type": "stream",
     "text": [
      "WARNING 2022-05-25 20:14:11,270 opConservationTracking 12503 139927180400448 Could not find any ILP solver\n",
      "WARNING 2022-05-25 20:14:11,279 opStructuredTracking 12503 139927180400448 Could not find any ILP solver\n",
      "WARNING 2022-05-25 20:14:11,281 structuredTrackingWorkflow 12503 139927180400448 Could not find any learning solver. Tracking will use flow-based solver (DPCT). Learning for tracking will be disabled!\n"
     ]
    },
    {
     "name": "stdout",
     "output_type": "stream",
     "text": [
      "Starting ilastik from \"/ilastik/ilastik-1.3.3post3-Linux\".\n",
      "INFO ilastik.shell.projectManager: Opening Project: /home/host_home/20220513_spheroid_docker/stella/20220525_stella_manual_pixelclassification.ilp\n"
     ]
    },
    {
     "name": "stderr",
     "output_type": "stream",
     "text": [
      "WARNING dataset.py(313): H5pyDeprecationWarning: dataset.value has been deprecated. Use dataset[()] instead.\n",
      "WARNING opSimpleBlockedArrayCache.py(43): FutureWarning: Conversion of the second argument of issubdtype from `dtype` to `np.generic` is deprecated. In future, it will be treated as `np.object_ == np.dtype(dtype).type`.\n",
      "WARNING opSlicedBlockedArrayCache.py(141): FutureWarning: Conversion of the second argument of issubdtype from `dtype` to `np.generic` is deprecated. In future, it will be treated as `np.object_ == np.dtype(dtype).type`.\n"
     ]
    },
    {
     "name": "stdout",
     "output_type": "stream",
     "text": [
      "INFO ilastik.workflows.pixelClassification.pixelClassificationWorkflow: Beginning Batch Processing\n",
      "INFO ilastik.applets.batchProcessing.batchProcessingApplet: Exporting to /home/host_home/20220513_spheroid_docker/stella/output/images/STELLA_sA800_semiauto_Merge_500-40_D03_D7/ilastik/probabilities/STELLA_sA800_semiauto_Merge_500-40_D03_D7_Probabilities.h5/exported_data\n",
      "INFO lazyflow.operators.ioOperators.ioOperators.OpH5N5WriterBigDataset: Data shape: (1200, 1600, 2)\n",
      "INFO lazyflow.utility.bigRequestStreamer: Estimated RAM usage per pixel is 652.0B * safety factor (2.0)\n",
      "INFO lazyflow.utility.bigRequestStreamer: determining blockshape assuming available_ram is 3.8GiB, split between 8 threads\n",
      "INFO lazyflow.utility.bigRequestStreamer: Chose blockshape: (628, 627, 2)\n",
      "INFO lazyflow.utility.bigRequestStreamer: Estimated RAM usage per block is 489.7MiB\n",
      "DEBUG lazyflow.operators.classifierOperators: Features took 2.119936 seconds. Prediction took 2.35231 seconds. Subregion: start '[0, 0, 0]' stop '[628, 627, 2]'\n",
      "DEBUG lazyflow.operators.classifierOperators: Features took 3.393679 seconds. Prediction took 1.385342 seconds. Subregion: start '[0, 627, 0]' stop '[628, 1254, 2]'\n",
      "DEBUG lazyflow.operators.classifierOperators: Features took 5.018006 seconds. Prediction took 0.723271 seconds. Subregion: start '[0, 1254, 0]' stop '[628, 1600, 2]'\n",
      "DEBUG lazyflow.operators.classifierOperators: Features took 6.630876 seconds. Prediction took 2.100505 seconds. Subregion: start '[628, 0, 0]' stop '[1200, 627, 2]'\n",
      "DEBUG lazyflow.operators.classifierOperators: Features took 7.8512319999999995 seconds. Prediction took 1.130228 seconds. Subregion: start '[628, 627, 0]' stop '[1200, 1254, 2]'\n",
      "DEBUG lazyflow.operators.classifierOperators: Features took 9.120681 seconds. Prediction took 0.430576 seconds. Subregion: start '[628, 1254, 0]' stop '[1200, 1600, 2]'\n",
      "INFO ilastik.workflows.pixelClassification.pixelClassificationWorkflow: Completed Batch Processing\n"
     ]
    },
    {
     "name": "stderr",
     "output_type": "stream",
     "text": [
      "Executing:  30%|███       | 23/76 [00:19<01:24,  1.60s/cell]OpenJDK 64-Bit Server VM warning: ignoring option PermSize=128m; support was removed in 8.0\n",
      "OpenJDK 64-Bit Server VM warning: Using incremental CMS is deprecated and will likely be removed in a future release\n",
      "Executing:  43%|████▎     | 33/76 [00:29<00:12,  3.48cell/s]Times reported are CPU and Wall-clock times for each module\n",
      "Wed May 25 20:14:36 2022: Image # 1, module LoadData # 1: CPU_time = 2.02 secs, Wall_time = 1.17 secs\n",
      "Wed May 25 20:14:37 2022: Image # 1, module RescaleIntensity # 2: CPU_time = 1.41 secs, Wall_time = 1.35 secs\n",
      "Wed May 25 20:14:39 2022: Image # 1, module ColorToGray # 3: CPU_time = 0.04 secs, Wall_time = 0.04 secs\n",
      "Wed May 25 20:14:39 2022: Image # 1, module IdentifyPrimaryObjects # 4: CPU_time = 1.21 secs, Wall_time = 1.21 secs\n",
      "Wed May 25 20:14:40 2022: Image # 1, module MeasureObjectSizeShape # 5: CPU_time = 0.38 secs, Wall_time = 0.38 secs\n",
      "Wed May 25 20:14:40 2022: Image # 1, module FilterObjects # 6: CPU_time = 0.22 secs, Wall_time = 0.22 secs\n",
      "Wed May 25 20:14:40 2022: Image # 1, module MeasureObjectSizeShape # 7: CPU_time = 0.34 secs, Wall_time = 0.34 secs\n",
      "Wed May 25 20:14:41 2022: Image # 1, module MeasureTexture # 8: CPU_time = 11.52 secs, Wall_time = 1.51 secs\n",
      "Wed May 25 20:14:42 2022: Image # 1, module MeasureObjectIntensityDistribution # 9: CPU_time = 0.82 secs, Wall_time = 0.82 secs\n",
      "Wed May 25 20:14:43 2022: Image # 1, module MeasureObjectIntensity # 10: CPU_time = 0.22 secs, Wall_time = 0.22 secs\n",
      "Wed May 25 20:14:43 2022: Image # 1, module OverlayObjects # 11: CPU_time = 0.81 secs, Wall_time = 0.81 secs\n",
      "Wed May 25 20:14:44 2022: Image # 1, module SaveImages # 12: CPU_time = 0.36 secs, Wall_time = 0.49 secs\n",
      "Wed May 25 20:14:45 2022: Image # 1, module ExportToSpreadsheet # 13: CPU_time = 0.00 secs, Wall_time = 0.00 secs\n",
      "Executing:  51%|█████▏    | 39/76 [00:41<00:28,  1.31cell/s]Warning: Ignoring your non-empty LD_LIBRARY_PATH\n",
      "/ilastik/ilastik-1.3.3post3-Linux/ilastik-meta/lazyflow/lazyflow/classifiers/__init__.py:20: UserWarning: init: Could not import tiktorch classifier\n",
      "  warnings.warn(\"init: Could not import tiktorch classifier\")\n"
     ]
    },
    {
     "name": "stdout",
     "output_type": "stream",
     "text": [
      "INFO ilastik_main: Starting ilastik from \"/ilastik/ilastik-1.3.3post3-Linux\".\n"
     ]
    },
    {
     "name": "stderr",
     "output_type": "stream",
     "text": [
      "WARNING 2022-05-25 20:14:48,336 opConservationTracking 12604 140668295575360 Could not find any ILP solver\n",
      "WARNING 2022-05-25 20:14:48,349 opStructuredTracking 12604 140668295575360 Could not find any ILP solver\n",
      "WARNING 2022-05-25 20:14:48,351 structuredTrackingWorkflow 12604 140668295575360 Could not find any learning solver. Tracking will use flow-based solver (DPCT). Learning for tracking will be disabled!\n"
     ]
    },
    {
     "name": "stdout",
     "output_type": "stream",
     "text": [
      "Starting ilastik from \"/ilastik/ilastik-1.3.3post3-Linux\".\n",
      "INFO ilastik.shell.projectManager: Opening Project: /home/host_home/20220513_spheroid_docker/stella/20220525_stella_manual_GridDetection_pixelclassification.ilp\n"
     ]
    },
    {
     "name": "stderr",
     "output_type": "stream",
     "text": [
      "WARNING dataset.py(313): H5pyDeprecationWarning: dataset.value has been deprecated. Use dataset[()] instead.\n",
      "WARNING opSimpleBlockedArrayCache.py(43): FutureWarning: Conversion of the second argument of issubdtype from `dtype` to `np.generic` is deprecated. In future, it will be treated as `np.object_ == np.dtype(dtype).type`.\n",
      "WARNING opSlicedBlockedArrayCache.py(141): FutureWarning: Conversion of the second argument of issubdtype from `dtype` to `np.generic` is deprecated. In future, it will be treated as `np.object_ == np.dtype(dtype).type`.\n"
     ]
    },
    {
     "name": "stdout",
     "output_type": "stream",
     "text": [
      "INFO ilastik.workflows.pixelClassification.pixelClassificationWorkflow: Beginning Batch Processing\n",
      "INFO ilastik.applets.batchProcessing.batchProcessingApplet: Exporting to /home/host_home/20220513_spheroid_docker/stella/output/images/STELLA_sA800_semiauto_Merge_500-40_D03_D7/ilastik/probabilities/STELLA_sA800_semiauto_Merge_500-40_D03_D7_Simple Segmentation.tif\n",
      "INFO lazyflow.utility.bigRequestStreamer: Estimated RAM usage per pixel is 652.0B * safety factor (2.0)\n",
      "INFO lazyflow.utility.bigRequestStreamer: determining blockshape assuming available_ram is 3.8GiB, split between 8 threads\n",
      "INFO lazyflow.utility.bigRequestStreamer: Chose blockshape: (628, 627, 2)\n",
      "INFO lazyflow.utility.bigRequestStreamer: Estimated RAM usage per block is 489.7MiB\n",
      "DEBUG lazyflow.operators.classifierOperators: Features took 2.496919 seconds. Prediction took 3.014607 seconds. Subregion: start '[0, 0, 0]' stop '[628, 627, 2]'\n",
      "DEBUG lazyflow.operators.classifierOperators: Features took 2.569961 seconds. Prediction took 3.167803 seconds. Subregion: start '[0, 627, 0]' stop '[628, 1254, 2]'\n",
      "DEBUG lazyflow.operators.classifierOperators: Features took 6.099321 seconds. Prediction took 0.998681 seconds. Subregion: start '[0, 1254, 0]' stop '[628, 1600, 2]'\n",
      "DEBUG lazyflow.operators.classifierOperators: Features took 6.976761 seconds. Prediction took 2.024746 seconds. Subregion: start '[628, 0, 0]' stop '[1200, 627, 2]'\n",
      "DEBUG lazyflow.operators.classifierOperators: Features took 9.145657 seconds. Prediction took 2.314567 seconds. Subregion: start '[628, 627, 0]' stop '[1200, 1254, 2]'\n",
      "DEBUG lazyflow.operators.classifierOperators: Features took 10.689058 seconds. Prediction took 0.903802 seconds. Subregion: start '[628, 1254, 0]' stop '[1200, 1600, 2]'\n",
      "INFO ilastik.workflows.pixelClassification.pixelClassificationWorkflow: Completed Batch Processing\n"
     ]
    },
    {
     "name": "stderr",
     "output_type": "stream",
     "text": [
      "Executing:  99%|█████████▊| 75/76 [01:06<00:00,  5.21cell/s]Input Notebook:  R_image_analysis_Manual.ipynb\n",
      "Output Notebook: Image_DataAnalysis.ipynb\n",
      "Executing:   0%|          | 0/41 [00:00<?, ?cell/s]Executing notebook with kernel: ir\n",
      "Executing: 100%|██████████| 41/41 [00:08<00:00,  5.08cell/s]\n",
      "Execution halted\n",
      "Executing: 100%|██████████| 41/41 [00:08<00:00,  4.66cell/s]\n",
      "Executing: 100%|██████████| 76/76 [01:16<00:00,  1.00s/cell]\n"
     ]
    }
   ],
   "source": [
    "for n, imfile in enumerate(all_images):\n",
    "    print('\\n\\n---------- Analyzing image # ' + str(n + 1) + ' / ' + str(len(all_images)) + ' , name: ' + imfile + ' ----------\\n\\n')\n",
    "    # example: papermill SpheroidClassifier_Manual.ipynb Individual_Analysis.ipynb -p imagefile stella/input/STELLA_sA400_semiauto_Merge_50-10_A06_D14.tif\n",
    "    command = 'papermill SpheroidClassifier_Manual.ipynb Individual_Analysis.ipynb -p imagefile ' + imfile\n",
    "    \n",
    "    process = Popen(command, shell=True, stdout=PIPE)\n",
    "    # Poll process.stdout to show stdout live\n",
    "    while True:\n",
    "      output = process.stdout.readline()\n",
    "      if process.poll() is not None:\n",
    "        break\n",
    "      if output:\n",
    "        print(output.strip().decode('utf-8'))\n",
    "    \n",
    "    os.system('rm Individual_Analysis.ipynb')\n",
    "    clear_output(wait=True)    "
   ]
  }
 ],
 "metadata": {
  "kernelspec": {
   "display_name": "Python 3 (ipykernel)",
   "language": "python",
   "name": "python3"
  },
  "language_info": {
   "codemirror_mode": {
    "name": "ipython",
    "version": 3
   },
   "file_extension": ".py",
   "mimetype": "text/x-python",
   "name": "python",
   "nbconvert_exporter": "python",
   "pygments_lexer": "ipython3",
   "version": "3.9.7"
  }
 },
 "nbformat": 4,
 "nbformat_minor": 5
}

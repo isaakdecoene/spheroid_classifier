{
 "cells": [
  {
   "cell_type": "markdown",
   "id": "cf0ad97d-196a-47df-a2b8-f67e1f828741",
   "metadata": {},
   "source": [
    "# Workflow to run and validate the training data"
   ]
  },
  {
   "cell_type": "markdown",
   "id": "ae93011d-e8a0-4c30-a5d3-dce1dc499692",
   "metadata": {
    "tags": []
   },
   "source": [
    "## Select original and manually segmented image"
   ]
  },
  {
   "cell_type": "code",
   "execution_count": 25,
   "id": "5eb513a6-b50c-43b3-af61-ce0355d688ec",
   "metadata": {},
   "outputs": [],
   "source": [
    "# Training and Validation data\n",
    "# Training data\n",
    "\n",
    "imagefile = 'stella/training_data/STELLA_sA800_fullyauto_Merge_100-20_C01_D7.tif'\n",
    "imagefile_manual = 'stella/training_data/STELLA_sA800_fullyauto_Merge_100-20_C01_D7_labels.tif'\n",
    "\n",
    "# imagefile = 'stella/training_data/STELLA_sA400_fullyauto_Merge_50-20_C04_D7.tif'\n",
    "# imagefile_manual = 'stella/training_data/STELLA_sA400_fullyauto_Merge_50-20_C04_D7_labels.tif'\n",
    "\n",
    "# Validation data\n",
    "\n",
    "# imagefile = 'stella/validation_data/STELLA_sA800_fullyauto_Merge_100-20_C06_D7.tif'\n",
    "# imagefile = 'stella/validation_data/STELLA_sA800_fullyauto_Merge_100-20_C06_D7_labels.tif'\n",
    "\n",
    "# imagefile = 'stella/validation_data/STELLA_sA400_fullyauto_Merge_50-20_D06_D7.tif'\n",
    "# imagefile_manual = 'stella/validation_data/STELLA_sA400_fullyauto_Merge_50-20_D06_D7_labels.tif'"
   ]
  },
  {
   "cell_type": "markdown",
   "id": "1f6c1701-2743-4404-9a0f-8abdb063956e",
   "metadata": {},
   "source": [
    "## Run analysis flags"
   ]
  },
  {
   "cell_type": "code",
   "execution_count": 26,
   "id": "c9651f24-9d1b-48b4-97df-210f975115a6",
   "metadata": {},
   "outputs": [],
   "source": [
    "run_ilastik = True\n",
    "run_imagej_ilastik = True\n",
    "run_cellpro = True\n",
    "run_imagej_cellpro = True"
   ]
  },
  {
   "cell_type": "markdown",
   "id": "b89cf6a6-e1c3-47a2-8e22-acaab9a8e27b",
   "metadata": {},
   "source": [
    "## Preamble"
   ]
  },
  {
   "cell_type": "markdown",
   "id": "65585eba-6567-46da-a7cd-403c97ce112f",
   "metadata": {},
   "source": [
    "### Projects"
   ]
  },
  {
   "cell_type": "code",
   "execution_count": 27,
   "id": "d51a010d-f293-4ca7-a162-a0e44f4913d2",
   "metadata": {},
   "outputs": [],
   "source": [
    "ilastik_project = 'stella/20220302_stella_pixelclassification.ilp'"
   ]
  },
  {
   "cell_type": "markdown",
   "id": "5abc317d-0649-42bc-8fa8-4a5f2081e55e",
   "metadata": {},
   "source": [
    "### Software locations"
   ]
  },
  {
   "cell_type": "code",
   "execution_count": 28,
   "id": "f1148b74-6e97-45c1-b076-0b1ee30c0994",
   "metadata": {},
   "outputs": [],
   "source": [
    "ilastik_software = '/ilastik/ilastik-1.3.3post3-Linux/run_ilastik.sh'\n",
    "\n",
    "imagej_software = '/imagej/Fiji.app/ImageJ-linux64'\n",
    "\n",
    "cellprofiler_software = '/opt/conda/envs/cprofiler/bin/cellprofiler'"
   ]
  },
  {
   "cell_type": "markdown",
   "id": "8a5952c3-a1d2-4fbc-b545-2a9f20f7c002",
   "metadata": {},
   "source": [
    "## Load libraries"
   ]
  },
  {
   "cell_type": "code",
   "execution_count": 29,
   "id": "ab0a61a2-4527-47b1-832a-b9ddf35bba61",
   "metadata": {},
   "outputs": [],
   "source": [
    "import subprocess\n",
    "from pathlib import Path\n",
    "from subprocess import Popen, PIPE\n",
    "from pandas import DataFrame"
   ]
  },
  {
   "cell_type": "code",
   "execution_count": 30,
   "id": "700790aa-d3e7-4b48-a6f8-f3a2ff0371ee",
   "metadata": {},
   "outputs": [],
   "source": [
    "image_path = Path(imagefile).resolve()\n",
    "folder_path = image_path.parent\n",
    "\n",
    "image_manual_path = Path(imagefile_manual).resolve()\n",
    "folder_manual_path = image_manual_path.parent\n",
    "\n",
    "results_folder = folder_path / image_path.stem"
   ]
  },
  {
   "cell_type": "code",
   "execution_count": 31,
   "id": "12564fc8-5828-4e5b-98f0-011314a9e76f",
   "metadata": {},
   "outputs": [
    {
     "data": {
      "text/plain": [
       "PosixPath('/home/host_home/spheroid_docker/stella/training_data/STELLA_sA800_fullyauto_Merge_100-20_C01_D7')"
      ]
     },
     "execution_count": 31,
     "metadata": {},
     "output_type": "execute_result"
    }
   ],
   "source": [
    "results_folder"
   ]
  },
  {
   "cell_type": "markdown",
   "id": "99eb06cf-7265-480d-af91-f240b2f748ca",
   "metadata": {},
   "source": [
    "## Ilastik - pixel classification"
   ]
  },
  {
   "cell_type": "markdown",
   "id": "47c78eb3-3392-4d1d-a6f4-66be6840c9f6",
   "metadata": {},
   "source": [
    "### Probability calculation on original image"
   ]
  },
  {
   "cell_type": "code",
   "execution_count": 32,
   "id": "3d993b3d-af8f-4933-9591-5b9a035e9835",
   "metadata": {},
   "outputs": [],
   "source": [
    "# the following line of code tells ilastik to create \n",
    "# a folder with the same name of the image where \n",
    "# results in .h5 format will be stored\n",
    "output_format = folder_path / '{nickname}/ilastik/probabilities/{nickname}_{result_type}.h5'"
   ]
  },
  {
   "cell_type": "code",
   "execution_count": 33,
   "id": "26681e94-d735-47ca-abcc-000cb7a7360d",
   "metadata": {},
   "outputs": [
    {
     "data": {
      "text/plain": [
       "'/ilastik/ilastik-1.3.3post3-Linux/run_ilastik.sh --headless --project=/home/host_home/spheroid_docker/stella/20220302_stella_pixelclassification.ilp --export_source=probabilities --output_filename_format=/home/host_home/spheroid_docker/stella/training_data/{nickname}/ilastik/probabilities/{nickname}_{result_type}.h5 /home/host_home/spheroid_docker/stella/training_data/STELLA_sA800_fullyauto_Merge_100-20_C01_D7.tif'"
      ]
     },
     "execution_count": 33,
     "metadata": {},
     "output_type": "execute_result"
    }
   ],
   "source": [
    "ilastik_project_path = str(Path(ilastik_project).resolve())\n",
    "\n",
    "ilastikexpsource = 'probabilities'\n",
    "\n",
    "options = ['--headless',\n",
    "           '--project=' + ilastik_project_path,\n",
    "           '--export_source=' + ilastikexpsource,\n",
    "           '--output_filename_format=' + str(output_format),\n",
    "           str(image_path)\n",
    "          ]\n",
    "\n",
    "command = [ilastik_software] + options\n",
    "' '.join(command)"
   ]
  },
  {
   "cell_type": "code",
   "execution_count": 34,
   "id": "7d6be28b-4a63-443d-b3b6-aede84a67d76",
   "metadata": {},
   "outputs": [
    {
     "name": "stderr",
     "output_type": "stream",
     "text": [
      "/ilastik/ilastik-1.3.3post3-Linux/ilastik-meta/lazyflow/lazyflow/classifiers/__init__.py:20: UserWarning: init: Could not import tiktorch classifier\n",
      "  warnings.warn(\"init: Could not import tiktorch classifier\")\n"
     ]
    },
    {
     "name": "stdout",
     "output_type": "stream",
     "text": [
      "INFO ilastik_main: Starting ilastik from \"/ilastik/ilastik-1.3.3post3-Linux\".\n"
     ]
    },
    {
     "name": "stderr",
     "output_type": "stream",
     "text": [
      "WARNING 2022-03-14 14:03:05,241 opConservationTracking 1236 139998014134080 Could not find any ILP solver\n",
      "WARNING 2022-03-14 14:03:05,250 opStructuredTracking 1236 139998014134080 Could not find any ILP solver\n",
      "WARNING 2022-03-14 14:03:05,252 structuredTrackingWorkflow 1236 139998014134080 Could not find any learning solver. Tracking will use flow-based solver (DPCT). Learning for tracking will be disabled!\n"
     ]
    },
    {
     "name": "stdout",
     "output_type": "stream",
     "text": [
      "Starting ilastik from \"/ilastik/ilastik-1.3.3post3-Linux\".\n",
      "INFO ilastik.shell.projectManager: Opening Project: /home/host_home/spheroid_docker/stella/20220302_stella_pixelclassification.ilp\n"
     ]
    },
    {
     "name": "stderr",
     "output_type": "stream",
     "text": [
      "WARNING dataset.py(313): H5pyDeprecationWarning: dataset.value has been deprecated. Use dataset[()] instead.\n",
      "WARNING opSimpleBlockedArrayCache.py(43): FutureWarning: Conversion of the second argument of issubdtype from `dtype` to `np.generic` is deprecated. In future, it will be treated as `np.object_ == np.dtype(dtype).type`.\n",
      "WARNING opSlicedBlockedArrayCache.py(141): FutureWarning: Conversion of the second argument of issubdtype from `dtype` to `np.generic` is deprecated. In future, it will be treated as `np.object_ == np.dtype(dtype).type`.\n"
     ]
    },
    {
     "name": "stdout",
     "output_type": "stream",
     "text": [
      "INFO ilastik.workflows.pixelClassification.pixelClassificationWorkflow: Beginning Batch Processing\n",
      "INFO ilastik.applets.batchProcessing.batchProcessingApplet: Exporting to /home/host_home/spheroid_docker/stella/training_data/STELLA_sA800_fullyauto_Merge_100-20_C01_D7/ilastik/probabilities/STELLA_sA800_fullyauto_Merge_100-20_C01_D7_Probabilities.h5/exported_data\n",
      "INFO lazyflow.operators.ioOperators.ioOperators.OpH5N5WriterBigDataset: Data shape: (5400, 5400, 2)\n",
      "INFO lazyflow.utility.bigRequestStreamer: Estimated RAM usage per pixel is 184.0B * safety factor (2.0)\n",
      "INFO lazyflow.utility.bigRequestStreamer: determining blockshape assuming available_ram is 3.8GiB, split between 8 threads\n",
      "INFO lazyflow.utility.bigRequestStreamer: Chose blockshape: (1181, 1181, 2)\n",
      "INFO lazyflow.utility.bigRequestStreamer: Estimated RAM usage per block is 489.5MiB\n"
     ]
    },
    {
     "name": "stderr",
     "output_type": "stream",
     "text": [
      "Warning: TIFFDecoder: no TIFFTAG_SAMPLEFORMAT or TIFFTAG_DATATYPE, guessing pixeltype 'UINT16'.\n",
      "Warning: TIFFDecoder: no TIFFTAG_SAMPLEFORMAT or TIFFTAG_DATATYPE, guessing pixeltype 'UINT16'.\n"
     ]
    },
    {
     "name": "stdout",
     "output_type": "stream",
     "text": [
      "DEBUG lazyflow.operators.classifierOperators: Features took 4.413354 seconds. Prediction took 2.279367 seconds. Subregion: start '[0, 0, 0]' stop '[1181, 1181, 2]'\n",
      "DEBUG lazyflow.operators.classifierOperators: Features took 6.672975 seconds. Prediction took 5.815697 seconds. Subregion: start '[0, 1181, 0]' stop '[1181, 2362, 2]'\n",
      "DEBUG lazyflow.operators.classifierOperators: Features took 9.043362 seconds. Prediction took 7.105259 seconds. Subregion: start '[0, 2362, 0]' stop '[1181, 3543, 2]'\n",
      "DEBUG lazyflow.operators.classifierOperators: Features took 12.722339 seconds. Prediction took 4.6307 seconds. Subregion: start '[0, 3543, 0]' stop '[1181, 4724, 2]'\n",
      "DEBUG lazyflow.operators.classifierOperators: Features took 9.818809 seconds. Prediction took 5.207681 seconds. Subregion: start '[0, 4724, 0]' stop '[1181, 5400, 2]'\n",
      "DEBUG lazyflow.operators.classifierOperators: Features took 15.355269 seconds. Prediction took 4.284386 seconds. Subregion: start '[1181, 0, 0]' stop '[2362, 1181, 2]'\n",
      "DEBUG lazyflow.operators.classifierOperators: Features took 15.210711 seconds. Prediction took 13.215601 seconds. Subregion: start '[1181, 1181, 0]' stop '[2362, 2362, 2]'\n",
      "DEBUG lazyflow.operators.classifierOperators: Features took 25.124019 seconds. Prediction took 9.616841 seconds. Subregion: start '[1181, 2362, 0]' stop '[2362, 3543, 2]'\n",
      "DEBUG lazyflow.operators.classifierOperators: Features took 9.172287 seconds. Prediction took 13.165405 seconds. Subregion: start '[1181, 3543, 0]' stop '[2362, 4724, 2]'\n",
      "DEBUG lazyflow.operators.classifierOperators: Features took 0.815309 seconds. Prediction took 20.02857 seconds. Subregion: start '[1181, 4724, 0]' stop '[2362, 5400, 2]'\n",
      "DEBUG lazyflow.operators.classifierOperators: Features took 17.010118 seconds. Prediction took 5.480922 seconds. Subregion: start '[2362, 0, 0]' stop '[3543, 1181, 2]'\n",
      "DEBUG lazyflow.operators.classifierOperators: Features took 1.422715 seconds. Prediction took 14.856393 seconds. Subregion: start '[2362, 3543, 0]' stop '[3543, 4724, 2]'\n",
      "DEBUG lazyflow.operators.classifierOperators: Features took 22.258201 seconds. Prediction took 12.133837 seconds. Subregion: start '[2362, 1181, 0]' stop '[3543, 2362, 2]'\n",
      "DEBUG lazyflow.operators.classifierOperators: Features took 29.912571 seconds. Prediction took 8.211368 seconds. Subregion: start '[2362, 2362, 0]' stop '[3543, 3543, 2]'\n",
      "DEBUG lazyflow.operators.classifierOperators: Features took 10.778388 seconds. Prediction took 18.708302 seconds. Subregion: start '[2362, 4724, 0]' stop '[3543, 5400, 2]'\n",
      "DEBUG lazyflow.operators.classifierOperators: Features took 25.249862 seconds. Prediction took 11.341195 seconds. Subregion: start '[3543, 0, 0]' stop '[4724, 1181, 2]'\n",
      "DEBUG lazyflow.operators.classifierOperators: Features took 1.7047219999999998 seconds. Prediction took 13.640111 seconds. Subregion: start '[3543, 1181, 0]' stop '[4724, 2362, 2]'\n",
      "DEBUG lazyflow.operators.classifierOperators: Features took 1.180393 seconds. Prediction took 8.699546 seconds. Subregion: start '[3543, 3543, 0]' stop '[4724, 4724, 2]'\n",
      "DEBUG lazyflow.operators.classifierOperators: Features took 6.485804 seconds. Prediction took 9.643095 seconds. Subregion: start '[3543, 4724, 0]' stop '[4724, 5400, 2]'\n",
      "DEBUG lazyflow.operators.classifierOperators: Features took 16.347702 seconds. Prediction took 9.661771 seconds. Subregion: start '[3543, 2362, 0]' stop '[4724, 3543, 2]'\n",
      "DEBUG lazyflow.operators.classifierOperators: Features took 8.966538 seconds. Prediction took 4.968327 seconds. Subregion: start '[4724, 0, 0]' stop '[5400, 1181, 2]'\n",
      "DEBUG lazyflow.operators.classifierOperators: Features took 11.563812 seconds. Prediction took 5.145897 seconds. Subregion: start '[4724, 2362, 0]' stop '[5400, 3543, 2]'\n",
      "DEBUG lazyflow.operators.classifierOperators: Features took 10.123751 seconds. Prediction took 6.812359 seconds. Subregion: start '[4724, 3543, 0]' stop '[5400, 4724, 2]'\n",
      "DEBUG lazyflow.operators.classifierOperators: Features took 8.518999 seconds. Prediction took 8.567697 seconds. Subregion: start '[4724, 1181, 0]' stop '[5400, 2362, 2]'\n",
      "DEBUG lazyflow.operators.classifierOperators: Features took 15.91634 seconds. Prediction took 1.273531 seconds. Subregion: start '[4724, 4724, 0]' stop '[5400, 5400, 2]'\n",
      "INFO ilastik.workflows.pixelClassification.pixelClassificationWorkflow: Completed Batch Processing\n"
     ]
    }
   ],
   "source": [
    "if run_ilastik:\n",
    "    subprocess.call(command)"
   ]
  },
  {
   "cell_type": "markdown",
   "id": "ab535b3f-2e6e-4c9c-aa5c-0cad287e5fdc",
   "metadata": {},
   "source": [
    "## Imagej conversion of .h5 files to .tif"
   ]
  },
  {
   "cell_type": "markdown",
   "id": "ad4ced5b-0b8a-4ba3-92fa-ba991f4eb606",
   "metadata": {},
   "source": [
    "### Probability .h5 conversion to .tif"
   ]
  },
  {
   "cell_type": "code",
   "execution_count": 35,
   "id": "79044d29-b2f0-45c3-b461-9deab742efb0",
   "metadata": {},
   "outputs": [
    {
     "data": {
      "text/plain": [
       "'/imagej/Fiji.app/ImageJ-linux64 --headless --console -macro \"/home/host_home/spheroid_docker/imagej/macros/macro_ilastik/ilastik_prob2tif.ijm\" \"/home/host_home/spheroid_docker/stella/training_data/STELLA_sA800_fullyauto_Merge_100-20_C01_D7/ilastik/probabilities/STELLA_sA800_fullyauto_Merge_100-20_C01_D7_Probabilities.h5\"'"
      ]
     },
     "execution_count": 35,
     "metadata": {},
     "output_type": "execute_result"
    }
   ],
   "source": [
    "imagej_macro = 'imagej/macros/macro_ilastik/ilastik_prob2tif.ijm'\n",
    "imagej_macro_path = str(Path(imagej_macro).resolve())\n",
    "\n",
    "h5_folder = results_folder / 'ilastik/probabilities' / image_path.stem\n",
    "h5_file = str(h5_folder) + '_Probabilities.h5'\n",
    "h5_file\n",
    "\n",
    "options = ['--headless',\n",
    "           '--console',\n",
    "           '-macro \"' + imagej_macro_path + '\"',\n",
    "           '\"' + h5_file + '\"'\n",
    "          ]\n",
    "\n",
    "command = [imagej_software] + options\n",
    "command = ' '.join(command)\n",
    "command"
   ]
  },
  {
   "cell_type": "code",
   "execution_count": 36,
   "id": "81f4fc45-7c69-49b2-bec9-c22704444025",
   "metadata": {},
   "outputs": [
    {
     "name": "stderr",
     "output_type": "stream",
     "text": [
      "Java HotSpot(TM) 64-Bit Server VM warning: ignoring option PermSize=128m; support was removed in 8.0\n",
      "Java HotSpot(TM) 64-Bit Server VM warning: Using incremental CMS is deprecated and will likely be removed in a future release\n"
     ]
    },
    {
     "name": "stdout",
     "output_type": "stream",
     "text": [
      "[INFO] Trying to open: /home/host_home/spheroid_docker/stella/training_data/STELLA_sA800_fullyauto_Merge_100-20_C01_D7/ilastik/probabilities/STELLA_sA800_fullyauto_Merge_100-20_C01_D7_Probabilities.h5\n",
      "[INFO] Detected internal path /exported_data\n",
      "[INFO] Found dataset '/exported_data' of type 'float32'\n",
      "[INFO] Constructing output image of shape (5400, 5400, 1, 2, 1). Axis order: 'XYCZT'\n",
      "[INFO] Loading HDF5 dataset took: 12824ms\n",
      "######\n",
      "\n",
      "Saving STELLA_sA800_fullyauto_Merge_100-20_C01_D7_Probabilities_ch1.tif\n",
      "\n",
      "######\n",
      "\n",
      "######\n",
      "\n",
      "Saving STELLA_sA800_fullyauto_Merge_100-20_C01_D7_Probabilities_ch2.tif\n",
      "\n",
      "######\n",
      "\n"
     ]
    }
   ],
   "source": [
    "if run_imagej_ilastik:\n",
    "    process = Popen(command, shell=True, stdout=PIPE)\n",
    "    # Poll process.stdout to show stdout live\n",
    "    while True:\n",
    "      output = process.stdout.readline()\n",
    "      if process.poll() is not None:\n",
    "        break\n",
    "      if output:\n",
    "        print(output.strip().decode('utf-8'))"
   ]
  },
  {
   "cell_type": "markdown",
   "id": "1e92c32e-f3ef-4a2a-831a-911b21c22b1b",
   "metadata": {},
   "source": [
    "# Cellprofiler"
   ]
  },
  {
   "cell_type": "markdown",
   "id": "b5efd0f0-1e6f-40c3-b5f4-019ce9a1ac08",
   "metadata": {},
   "source": [
    "## input preparation"
   ]
  },
  {
   "cell_type": "markdown",
   "id": "3d210a6c-0deb-4c10-b0b6-0a99d21d38b2",
   "metadata": {},
   "source": [
    "Create a ```load_input.csv``` file that inputs:\n",
    "\n",
    "- image files to process\n",
    "- ilastik probability .tiff output for dense spheroids (default: ```'{imagename}/ilastik/probabilities/{imagename}__Probabilities Stage 2_ch1.tiff'```)\n",
    "- ilastik probability .tiff output for transparent spheroids (default: ```'{imagename}/ilastik/probabilities/{imagename}__Probabilities Stage 2_ch2.tiff'```)"
   ]
  },
  {
   "cell_type": "markdown",
   "id": "abcbecfa-4ff4-42a1-85d3-5a9a26fd7c4a",
   "metadata": {},
   "source": [
    "See '20220304_cp_validation_load_input.csv'"
   ]
  },
  {
   "cell_type": "code",
   "execution_count": 37,
   "id": "e2c78fbf-77c5-43a1-9ead-b74a907b78dc",
   "metadata": {},
   "outputs": [
    {
     "data": {
      "text/html": [
       "<div>\n",
       "<style scoped>\n",
       "    .dataframe tbody tr th:only-of-type {\n",
       "        vertical-align: middle;\n",
       "    }\n",
       "\n",
       "    .dataframe tbody tr th {\n",
       "        vertical-align: top;\n",
       "    }\n",
       "\n",
       "    .dataframe thead th {\n",
       "        text-align: right;\n",
       "    }\n",
       "</style>\n",
       "<table border=\"1\" class=\"dataframe\">\n",
       "  <thead>\n",
       "    <tr style=\"text-align: right;\">\n",
       "      <th></th>\n",
       "      <th>Group_Number</th>\n",
       "      <th>Group_Index</th>\n",
       "      <th>URL_ilastik_probabilities</th>\n",
       "      <th>URL_manual_labels</th>\n",
       "      <th>PathName_ilastik_probabilities</th>\n",
       "      <th>PathName_manual_labels</th>\n",
       "      <th>FileName_ilastik_probabilities</th>\n",
       "      <th>FileName_manual_labels</th>\n",
       "      <th>Series_ilastik_probabilities</th>\n",
       "      <th>Series_manual_labels</th>\n",
       "      <th>...</th>\n",
       "      <th>Frame_manual_labels</th>\n",
       "      <th>Channel_ilastik_probabilities</th>\n",
       "      <th>Channel_manual_labels</th>\n",
       "      <th>Metadata_ChannelNumber</th>\n",
       "      <th>Metadata_FileLocation</th>\n",
       "      <th>Metadata_Frame</th>\n",
       "      <th>Metadata_Plate</th>\n",
       "      <th>Metadata_Series</th>\n",
       "      <th>Metadata_Site</th>\n",
       "      <th>Metadata_Well</th>\n",
       "    </tr>\n",
       "  </thead>\n",
       "  <tbody>\n",
       "    <tr>\n",
       "      <th>0</th>\n",
       "      <td>1</td>\n",
       "      <td>1</td>\n",
       "      <td>file:///home/host_home/spheroid_docker/stella/...</td>\n",
       "      <td>file:///home/host_home/spheroid_docker/stella/...</td>\n",
       "      <td>/home/host_home/spheroid_docker/stella/trainin...</td>\n",
       "      <td>/home/host_home/spheroid_docker/stella/trainin...</td>\n",
       "      <td>STELLA_sA800_fullyauto_Merge_100-20_C01_D7_Pro...</td>\n",
       "      <td>STELLA_sA800_fullyauto_Merge_100-20_C01_D7_lab...</td>\n",
       "      <td>0</td>\n",
       "      <td>0</td>\n",
       "      <td>...</td>\n",
       "      <td>0</td>\n",
       "      <td>-1</td>\n",
       "      <td>-1</td>\n",
       "      <td>nan</td>\n",
       "      <td>nan</td>\n",
       "      <td>0</td>\n",
       "      <td>nan</td>\n",
       "      <td>0</td>\n",
       "      <td>nan</td>\n",
       "      <td>nan</td>\n",
       "    </tr>\n",
       "  </tbody>\n",
       "</table>\n",
       "<p>1 rows × 21 columns</p>\n",
       "</div>"
      ],
      "text/plain": [
       "   Group_Number  Group_Index  \\\n",
       "0             1            1   \n",
       "\n",
       "                           URL_ilastik_probabilities  \\\n",
       "0  file:///home/host_home/spheroid_docker/stella/...   \n",
       "\n",
       "                                   URL_manual_labels  \\\n",
       "0  file:///home/host_home/spheroid_docker/stella/...   \n",
       "\n",
       "                      PathName_ilastik_probabilities  \\\n",
       "0  /home/host_home/spheroid_docker/stella/trainin...   \n",
       "\n",
       "                              PathName_manual_labels  \\\n",
       "0  /home/host_home/spheroid_docker/stella/trainin...   \n",
       "\n",
       "                      FileName_ilastik_probabilities  \\\n",
       "0  STELLA_sA800_fullyauto_Merge_100-20_C01_D7_Pro...   \n",
       "\n",
       "                              FileName_manual_labels  \\\n",
       "0  STELLA_sA800_fullyauto_Merge_100-20_C01_D7_lab...   \n",
       "\n",
       "   Series_ilastik_probabilities  Series_manual_labels  ...  \\\n",
       "0                             0                     0  ...   \n",
       "\n",
       "   Frame_manual_labels  Channel_ilastik_probabilities  Channel_manual_labels  \\\n",
       "0                    0                             -1                     -1   \n",
       "\n",
       "   Metadata_ChannelNumber Metadata_FileLocation Metadata_Frame  \\\n",
       "0                     nan                   nan              0   \n",
       "\n",
       "   Metadata_Plate Metadata_Series  Metadata_Site Metadata_Well  \n",
       "0             nan               0            nan           nan  \n",
       "\n",
       "[1 rows x 21 columns]"
      ]
     },
     "execution_count": 37,
     "metadata": {},
     "output_type": "execute_result"
    }
   ],
   "source": [
    "probabilitiestif = results_folder / 'ilastik/probabilities' / Path(image_path.stem + '_Probabilities_ch2.tif')\n",
    "\n",
    "d = {'Group_Number': [1],\n",
    "     'Group_Index': [1],\n",
    "     'URL_ilastik_probabilities': [probabilitiestif.as_uri()],\n",
    "     'URL_manual_labels': [image_manual_path.as_uri()],\n",
    "     'PathName_ilastik_probabilities': [str(probabilitiestif.parents[0])],\n",
    "     'PathName_manual_labels': [str(image_manual_path.parents[0])],\n",
    "     'FileName_ilastik_probabilities': [probabilitiestif.name],\n",
    "     'FileName_manual_labels': [image_manual_path.name],\n",
    "     'Series_ilastik_probabilities': [0],\n",
    "     'Series_manual_labels': [0],\n",
    "     'Frame_ilastik_probabilities': [0],\n",
    "     'Frame_manual_labels': [0],\n",
    "     'Channel_ilastik_probabilities': [-1],\n",
    "     'Channel_manual_labels': [-1],\n",
    "     'Metadata_ChannelNumber': ['nan'],\n",
    "     'Metadata_FileLocation': ['nan'],\n",
    "     'Metadata_Frame': [0],\n",
    "     'Metadata_Plate':['nan'],\n",
    "     'Metadata_Series':[0],\n",
    "     'Metadata_Site':['nan'],\n",
    "     'Metadata_Well':['nan']\n",
    "    }\n",
    "\n",
    "df = DataFrame(d)\n",
    "\n",
    "df"
   ]
  },
  {
   "cell_type": "markdown",
   "id": "bf59f56f-532e-4acd-81d8-464d4eded264",
   "metadata": {},
   "source": [
    "Write ```load_input.csv``` file"
   ]
  },
  {
   "cell_type": "code",
   "execution_count": 38,
   "id": "f5f158da-6197-47f5-aaaf-4a304daf0444",
   "metadata": {},
   "outputs": [],
   "source": [
    "loadinput_file = results_folder / Path('cellprofiler/load_validation_input.csv')\n",
    "\n",
    "loadinput_file.parent.mkdir(parents=True, exist_ok=True)\n",
    "\n",
    "df.to_csv(str(loadinput_file), index=False)"
   ]
  },
  {
   "cell_type": "code",
   "execution_count": 39,
   "id": "507e88a4-55ce-4999-81fc-7d77431c002e",
   "metadata": {},
   "outputs": [],
   "source": [
    "# cellpro_folder_path\n",
    "# results_folder\n",
    "# cellpro_pipeline_path\n",
    "# cellpro_folder_path"
   ]
  },
  {
   "cell_type": "markdown",
   "id": "4b167dfb-b141-469b-8724-83450366dc23",
   "metadata": {},
   "source": [
    "if \"A800\" in imagefile:\n",
    "    cellpro_pipeline = 'stella/20220309_cp_stella_filters.cpproj'\n",
    "    print(\"It is an image from an Aggrewell800\")\n",
    "else:\n",
    "    if \"A400\" in imagefile:\n",
    "        cellpro_pipeline = 'stella/20220315_cp_stella_filters_A400.cpproj'\n",
    "        print(\"It is an image from an Aggrewell400\")\n",
    "    else: \n",
    "        print(\"Image path must contain A800 or A400\")### Run Cell Profiler analysis for comparing manual and ilastik segmentation"
   ]
  },
  {
   "cell_type": "code",
   "execution_count": null,
   "id": "46917d08-9909-405e-821e-21c81704855d",
   "metadata": {},
   "outputs": [],
   "source": [
    "if \"A800\" in imagefile:\n",
    "    cellpro_pipeline = 'stella/20220315_cp_validate_trainingdata_A800.cpproj'\n",
    "    print(\"It is an image from an Aggrewell800\")\n",
    "else:\n",
    "    if \"A400\" in imagefile:\n",
    "        cellpro_pipeline = 'stella/20220315_cp_validate_trainingdata_A800.cpproj'\n",
    "        print(\"It is an image from an Aggrewell400\")\n",
    "    else: \n",
    "        print(\"Image path must contain A800 or A400\")"
   ]
  },
  {
   "cell_type": "code",
   "execution_count": 40,
   "id": "4a80a817-d7b4-4f05-b90c-1117eff3e986",
   "metadata": {},
   "outputs": [
    {
     "data": {
      "text/plain": [
       "'/opt/conda/envs/cprofiler/bin/cellprofiler -c -p \"/home/host_home/spheroid_docker/stella/20220304_cp_validate_trainingdata.cpproj\" -o \"/home/host_home/spheroid_docker/stella/training_data/STELLA_sA800_fullyauto_Merge_100-20_C01_D7/cellprofiler\" --data-file \"/home/host_home/spheroid_docker/stella/training_data/STELLA_sA800_fullyauto_Merge_100-20_C01_D7/cellprofiler/load_validation_input.csv\"'"
      ]
     },
     "execution_count": 40,
     "metadata": {},
     "output_type": "execute_result"
    }
   ],
   "source": [
    "cellpro_pipeline_path = str(Path(cellpro_pipeline).resolve())\n",
    "\n",
    "cellpro_folder = results_folder / 'cellprofiler'\n",
    "cellpro_folder_path = str(Path(cellpro_folder).resolve())\n",
    "# cellpro_folder_path = str(Path('stella/training_data/STELLA_sA800_fullyauto_Merge_100-20_C01_D7').resolve())\n",
    "options = ['-c',\n",
    "           '-p \"' + cellpro_pipeline_path + '\"',\n",
    "           '-o \"' + cellpro_folder_path + '\"',\n",
    "           '--data-file \"' + str(loadinput_file) + '\"'\n",
    "          ]\n",
    "\n",
    "command = [cellprofiler_software] + options\n",
    "command = ' '.join(command)\n",
    "command"
   ]
  },
  {
   "cell_type": "markdown",
   "id": "c92c3d6b-c436-4c08-938d-9441dade7e9a",
   "metadata": {},
   "source": [
    "## This command works, but not on my laptop... "
   ]
  },
  {
   "cell_type": "code",
   "execution_count": 41,
   "id": "c1e458de-dc71-4c68-ab76-8a3f7db03e1e",
   "metadata": {},
   "outputs": [
    {
     "name": "stderr",
     "output_type": "stream",
     "text": [
      "Times reported are CPU and Wall-clock times for each module\n",
      "Mon Mar 14 14:05:07 2022: Image # 1, module LoadData # 1: CPU_time = 4.77 secs, Wall_time = 4.42 secs\n",
      "Mon Mar 14 14:05:11 2022: Image # 1, module IdentifyPrimaryObjects # 2: CPU_time = 33.94 secs, Wall_time = 33.93 secs\n",
      "Mon Mar 14 14:05:45 2022: Image # 1, module IdentifyPrimaryObjects # 3: CPU_time = 24.69 secs, Wall_time = 24.72 secs\n",
      "Killed\n"
     ]
    }
   ],
   "source": [
    "if run_cellpro:\n",
    "    process = Popen(command, shell=True, stdout=PIPE)\n",
    "    # Poll process.stdout to show stdout live\n",
    "    while True:\n",
    "      output = process.stdout.readline()\n",
    "      if process.poll() is not None:\n",
    "        break\n",
    "      if output:\n",
    "        print(output.strip().decode('utf-8'))"
   ]
  }
 ],
 "metadata": {
  "kernelspec": {
   "display_name": "Python 3 (ipykernel)",
   "language": "python",
   "name": "python3"
  },
  "language_info": {
   "codemirror_mode": {
    "name": "ipython",
    "version": 3
   },
   "file_extension": ".py",
   "mimetype": "text/x-python",
   "name": "python",
   "nbconvert_exporter": "python",
   "pygments_lexer": "ipython3",
   "version": "3.9.7"
  }
 },
 "nbformat": 4,
 "nbformat_minor": 5
}

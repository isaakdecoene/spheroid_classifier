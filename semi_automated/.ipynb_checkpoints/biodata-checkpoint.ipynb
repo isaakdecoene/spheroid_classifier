{
 "cells": [
  {
   "cell_type": "markdown",
   "id": "07c6c62c-5dc5-4683-a327-a1b941c9c66b",
   "metadata": {},
   "source": [
    "# This notebook will run through the analysis of biological data\n",
    "\n",
    "- qPCR analysis ddCT compared to GAPDH& monolayer: COL2A1\tBMP2\tRUNX2\tBMP4\tCD200\tPDGF\tTGFb1\n",
    "- DNA quantification\n",
    "- RNA quantification\n",
    "- explant quantification"
   ]
  },
  {
   "cell_type": "markdown",
   "id": "3674dba8-262a-4e5b-b279-6e24e43763b2",
   "metadata": {},
   "source": [
    "# Dependencies"
   ]
  },
  {
   "cell_type": "code",
   "execution_count": 51,
   "id": "2248088e-8543-4cbc-8142-d3e1ec107a02",
   "metadata": {},
   "outputs": [
    {
     "data": {
      "text/html": [
       "'/home/host_home/figures/automated_image_analysis/semi_automated'"
      ],
      "text/latex": [
       "'/home/host\\_home/figures/automated\\_image\\_analysis/semi\\_automated'"
      ],
      "text/markdown": [
       "'/home/host_home/figures/automated_image_analysis/semi_automated'"
      ],
      "text/plain": [
       "[1] \"/home/host_home/figures/automated_image_analysis/semi_automated\""
      ]
     },
     "metadata": {},
     "output_type": "display_data"
    }
   ],
   "source": [
    "require(\"tidyr\")\n",
    "require(\"dplyr\")\n",
    "require(\"ggpubr\")\n",
    "getwd()"
   ]
  },
  {
   "cell_type": "markdown",
   "id": "65fea0c3-a705-451b-a31a-99aa8b097a43",
   "metadata": {},
   "source": [
    "# Data"
   ]
  },
  {
   "cell_type": "code",
   "execution_count": 52,
   "id": "b8171f6e-dbfa-4cdb-abb3-1e7a0837019a",
   "metadata": {},
   "outputs": [
    {
     "name": "stdout",
     "output_type": "stream",
     "text": [
      "Rows: 6\n",
      "Columns: 19\n",
      "$ Platform        \u001b[3m\u001b[90m<fct>\u001b[39m\u001b[23m A800, A800, A800, A400, A400, A400\n",
      "$ Needle.Depth    \u001b[3m\u001b[90m<chr>\u001b[39m\u001b[23m \"85%\", \"85%\", \"85%\", \"85%\", \"85%\", \"85%\"\n",
      "$ Needle.Position \u001b[3m\u001b[90m<chr>\u001b[39m\u001b[23m \"2mm\", \"2mm\", \"2mm\", \"2mm\", \"2mm\", \"2mm\"\n",
      "$ Cells           \u001b[3m\u001b[90m<chr>\u001b[39m\u001b[23m \"Sheep.Pool\", \"Sheep.Pool\", \"Sheep.Pool\", \"Sheep.Pool\"…\n",
      "$ Handling        \u001b[3m\u001b[90m<chr>\u001b[39m\u001b[23m \"robotic\", \"robotic\", \"robotic\", \"robotic\", \"robotic\",…\n",
      "$ Well1           \u001b[3m\u001b[90m<chr>\u001b[39m\u001b[23m \"A1\", \"A4\", \"B1\", \"C2\", \"C4\", \"C1\"\n",
      "$ Well2           \u001b[3m\u001b[90m<chr>\u001b[39m\u001b[23m \"B5\", \"B2\", \"B4\", \"D1\", \"D5\", \"A1\"\n",
      "$ Day             \u001b[3m\u001b[90m<int>\u001b[39m\u001b[23m 21, 21, 21, 21, 21, 21\n",
      "$ name            \u001b[3m\u001b[90m<chr>\u001b[39m\u001b[23m \"A800 - Semi-1\", \"A800 - Semi-2\", \"A800 - Semi-3\", \"A4…\n",
      "$ COL2A1          \u001b[3m\u001b[90m<dbl>\u001b[39m\u001b[23m 3.54, 6.70, 4.77, 4.20, 4.23, 12.64\n",
      "$ BMP2            \u001b[3m\u001b[90m<dbl>\u001b[39m\u001b[23m 2.08, 1.55, 2.77, 5.48, 3.93, 10.59\n",
      "$ RUNX2           \u001b[3m\u001b[90m<dbl>\u001b[39m\u001b[23m 0.25, 0.43, 0.30, 0.43, 0.44, 0.87\n",
      "$ BMP4            \u001b[3m\u001b[90m<dbl>\u001b[39m\u001b[23m 2.75, 2.74, 1.95, 14.22, 7.52, 15.83\n",
      "$ CD200           \u001b[3m\u001b[90m<dbl>\u001b[39m\u001b[23m 0.11, 0.20, 0.13, 0.18, 0.19, 0.31\n",
      "$ PDGF            \u001b[3m\u001b[90m<dbl>\u001b[39m\u001b[23m 0.08, 0.11, 0.18, 0.35, 0.20, 0.40\n",
      "$ TGFb1           \u001b[3m\u001b[90m<dbl>\u001b[39m\u001b[23m 0.66, 0.75, 1.14, 1.68, 2.33, 2.57\n",
      "$ DNA.ng          \u001b[3m\u001b[90m<int>\u001b[39m\u001b[23m 3008, 1840, 5680, 7680, 3736, 5640\n",
      "$ Cells.1         \u001b[3m\u001b[90m<dbl>\u001b[39m\u001b[23m 306938.8, 187755.1, 579591.8, 783673.5, 381224.5, 5755…\n",
      "$ RNA.ng          \u001b[3m\u001b[90m<int>\u001b[39m\u001b[23m 4572, 3213, 4227, 5985, 5472, 5916\n"
     ]
    }
   ],
   "source": [
    "datafile <- \"stella/biodata/biodata.csv\"\n",
    "df <- read.csv(datafile, sep = \";\")\n",
    "df <- df %>% filter(Platform == \"Aggrewell800\" | Platform == \"Aggrewell400\") %>%\n",
    "            filter(Cells == \"Sheep.Pool\") %>%\n",
    "            filter(Day == \"21\") %>%\n",
    "            filter(Handling == \"robotic\")\n",
    "df$Platform <- factor(df$Platform, levels =c(\"Aggrewell400\", \"Aggrewell800\"))\n",
    "levels(df$Platform) <- c(\"A400\", \"A800\")\n",
    "glimpse(df)"
   ]
  },
  {
   "cell_type": "code",
   "execution_count": null,
   "id": "519ab70f-b2ee-41b8-9693-fe55f0d8a33e",
   "metadata": {},
   "outputs": [],
   "source": []
  },
  {
   "cell_type": "markdown",
   "id": "027ba55c-b865-44d8-8291-b054273548b5",
   "metadata": {},
   "source": [
    "# Visualisations"
   ]
  },
  {
   "cell_type": "markdown",
   "id": "4c406a61-ef49-4642-beb7-662cd3f3714f",
   "metadata": {},
   "source": [
    "## Gene expression A400 vs A800"
   ]
  },
  {
   "cell_type": "markdown",
   "id": "58d76e01-999b-4e5b-b241-78cacde6eef2",
   "metadata": {},
   "source": [
    "### COL2A1"
   ]
  },
  {
   "cell_type": "code",
   "execution_count": 53,
   "id": "19985583-d1fa-401b-adee-3825eb59ea6d",
   "metadata": {},
   "outputs": [
    {
     "data": {
      "image/png": "[encoded data removed]",
      "text/plain": [
       "plot without title"
      ]
     },
     "metadata": {
      "image/png": {
       "height": 420,
       "width": 420
      }
     },
     "output_type": "display_data"
    }
   ],
   "source": [
    "p <- ggplot(df, aes(x=Platform, y=COL2A1, group = Platform))+\n",
    "    # stat_summary(fun = mean,geom = \"point\", color = \"black\",size = 4, shape = 1)+\n",
    "    stat_summary(fun.data = mean_se,geom = \"errorbar\", color = \"black\",fun.args = list(mult = 1))+\n",
    "    geom_jitter(size = 1, shape = 1, width = 0.2)+\n",
    "    stat_compare_means(method = \"t.test\",label.x = 1.3,label.y = 1.1*max(df$COL2A1), size = 2, label = \"p.signif\", comparisons = list(c(\"A400\", \"A800\")))+\n",
    "    ylim(0,1.2*max(df$COL2A1))+\n",
    "    theme_bw()+\n",
    "    labs(title = \"COL2A1\", x = \"\", y = \"Relative expression (monolayer, GAPDH)\")+\n",
    "    theme(plot.title = element_text(hjust = 0.5), \n",
    "        text = element_text(size = 6),\n",
    "        strip.text = element_text(size = 6), \n",
    "        axis.text = element_text(size = 6, color = \"black\"),\n",
    "        panel.grid.major = element_blank(),\n",
    "        panel.grid.minor = element_blank())\n",
    "p\n",
    "\n",
    "ggsave(filename = \"stella/output/experiment/biodata_d21_COL2A1.png\", plot = p, dpi = 300, width = 45, height = 45, unit = \"mm\")"
   ]
  },
  {
   "cell_type": "markdown",
   "id": "d8f28514-172d-4e0e-96cd-0a4963024e8d",
   "metadata": {},
   "source": [
    "### BMP2"
   ]
  },
  {
   "cell_type": "code",
   "execution_count": 54,
   "id": "d67db4a0-2a68-4010-9ada-039914176c84",
   "metadata": {},
   "outputs": [
    {
     "data": {
      "image/png": "[encoded data removed]",
      "text/plain": [
       "plot without title"
      ]
     },
     "metadata": {
      "image/png": {
       "height": 420,
       "width": 420
      }
     },
     "output_type": "display_data"
    }
   ],
   "source": [
    "p <- ggplot(df, aes(x=Platform, y=BMP2, group = Platform))+\n",
    "    # stat_summary(fun = mean,geom = \"point\", color = \"black\",size = 4, shape = 1)+\n",
    "    stat_summary(fun.data = mean_se,geom = \"errorbar\", color = \"black\",fun.args = list(mult = 1))+\n",
    "    geom_jitter(size = 1, shape = 1, width = 0.2)+\n",
    "    stat_compare_means(method = \"t.test\",label.x = 1.3,label.y = 1.1*max(df$BMP2), size = 2, label = \"p.signif\", comparisons = list(c(\"A400\", \"A800\")))+\n",
    "    ylim(0,1.2*max(df$BMP2))+\n",
    "    theme_bw()+\n",
    "    labs(title = \"BMP2\", x = \"\", y = \"Relative expression (monolayer, GAPDH)\")+\n",
    "    theme(plot.title = element_text(hjust = 0.5), \n",
    "        text = element_text(size = 6),\n",
    "        strip.text = element_text(size = 6), \n",
    "        axis.text = element_text(size = 6, color = \"black\"),\n",
    "        panel.grid.major = element_blank(),\n",
    "        panel.grid.minor = element_blank())\n",
    "p\n",
    "\n",
    "ggsave(filename = \"stella/output/experiment/biodata_d21_BMP2.png\", plot = p, dpi = 300, width = 45, height = 45, unit = \"mm\")"
   ]
  },
  {
   "cell_type": "markdown",
   "id": "092da98b-2fb4-4a8b-b7e6-a8ea45ec78cd",
   "metadata": {},
   "source": [
    "### RUNX2"
   ]
  },
  {
   "cell_type": "code",
   "execution_count": 55,
   "id": "f1af42b6-2829-4467-8727-605b6543372d",
   "metadata": {},
   "outputs": [
    {
     "data": {
      "image/png": "[encoded data removed]",
      "text/plain": [
       "plot without title"
      ]
     },
     "metadata": {
      "image/png": {
       "height": 420,
       "width": 420
      }
     },
     "output_type": "display_data"
    }
   ],
   "source": [
    "p <- ggplot(df, aes(x=Platform, y=RUNX2, group = Platform))+\n",
    "    # stat_summary(fun = mean,geom = \"point\", color = \"black\",size = 4, shape = 1)+\n",
    "    stat_summary(fun.data = mean_se,geom = \"errorbar\", color = \"black\",fun.args = list(mult = 1))+\n",
    "    geom_jitter(size = 1, shape = 1, width = 0.2)+\n",
    "    stat_compare_means(method = \"t.test\",label.x = 1.3,label.y = 1.1*max(df$RUNX2), size = 2, label = \"p.signif\", comparisons = list(c(\"A400\", \"A800\")))+\n",
    "    ylim(0,1.2*max(df$RUNX2))+\n",
    "    theme_bw()+\n",
    "    labs(title = \"RUNX2\", x = \"\", y = \"Relative expression (monolayer, GAPDH)\")+\n",
    "    theme(plot.title = element_text(hjust = 0.5), \n",
    "        text = element_text(size = 6),\n",
    "        strip.text = element_text(size = 6), \n",
    "        axis.text = element_text(size = 6, color = \"black\"),\n",
    "        panel.grid.major = element_blank(),\n",
    "        panel.grid.minor = element_blank())\n",
    "p\n",
    "\n",
    "ggsave(filename = \"stella/output/experiment/biodata_d21_RUNX2.png\", plot = p, dpi = 300, width = 45, height = 45, unit = \"mm\")"
   ]
  },
  {
   "cell_type": "markdown",
   "id": "37dae476-8f1e-41b5-bc07-936aec711f69",
   "metadata": {},
   "source": [
    "### BMP4"
   ]
  },
  {
   "cell_type": "code",
   "execution_count": 56,
   "id": "d15060be-6fdc-4946-a9d6-eff8d550321f",
   "metadata": {},
   "outputs": [
    {
     "data": {
      "image/png": "[encoded data removed]",
      "text/plain": [
       "plot without title"
      ]
     },
     "metadata": {
      "image/png": {
       "height": 420,
       "width": 420
      }
     },
     "output_type": "display_data"
    }
   ],
   "source": [
    "p <- ggplot(df, aes(x=Platform, y=BMP4, group = Platform))+\n",
    "    # stat_summary(fun = mean,geom = \"point\", color = \"black\",size = 4, shape = 1)+\n",
    "    stat_summary(fun.data = mean_se,geom = \"errorbar\", color = \"black\",fun.args = list(mult = 1))+\n",
    "    geom_jitter(size = 1, shape = 1, width = 0.2)+\n",
    "    stat_compare_means(method = \"t.test\",label.x = 1.3,label.y = 1.1*max(df$BMP4), size = 2, label = \"p.signif\", comparisons = list(c(\"A400\", \"A800\")))+\n",
    "    ylim(0,1.2*max(df$BMP4))+\n",
    "    theme_bw()+\n",
    "    labs(title = \"BMP4\", x = \"\", y = \"Relative expression (monolayer, GAPDH)\")+\n",
    "    theme(plot.title = element_text(hjust = 0.5), \n",
    "        text = element_text(size = 6),\n",
    "        strip.text = element_text(size = 6), \n",
    "        axis.text = element_text(size = 6, color = \"black\"),\n",
    "        panel.grid.major = element_blank(),\n",
    "        panel.grid.minor = element_blank())\n",
    "p\n",
    "\n",
    "ggsave(filename = \"stella/output/experiment/biodata_d21_BMP4.png\", plot = p, dpi = 300, width = 45, height = 45, unit = \"mm\")"
   ]
  },
  {
   "cell_type": "markdown",
   "id": "22e882c8-6649-4cf0-9b90-74334bb68b98",
   "metadata": {},
   "source": [
    "### CD200"
   ]
  },
  {
   "cell_type": "code",
   "execution_count": 57,
   "id": "647496e5-d34b-4cef-9e5c-a0e951a7711b",
   "metadata": {},
   "outputs": [
    {
     "data": {
      "image/png": "[encoded data removed]",
      "text/plain": [
       "plot without title"
      ]
     },
     "metadata": {
      "image/png": {
       "height": 420,
       "width": 420
      }
     },
     "output_type": "display_data"
    }
   ],
   "source": [
    "p <- ggplot(df, aes(x=Platform, y=CD200, group = Platform))+\n",
    "    # stat_summary(fun = mean,geom = \"point\", color = \"black\",size = 4, shape = 1)+\n",
    "    stat_summary(fun.data = mean_se,geom = \"errorbar\", color = \"black\",fun.args = list(mult = 1))+\n",
    "    geom_jitter(size = 1, shape = 1, width = 0.2)+\n",
    "    stat_compare_means(method = \"t.test\",label.x = 1.3,label.y = 1.1*max(df$CD200), size = 2, label = \"p.signif\", comparisons = list(c(\"A400\", \"A800\")))+\n",
    "    ylim(0,1.2*max(df$CD200))+\n",
    "    theme_bw()+\n",
    "    labs(title = \"CD200\", x = \"\", y = \"Relative expression (monolayer, GAPDH)\")+\n",
    "    theme(plot.title = element_text(hjust = 0.5), \n",
    "        text = element_text(size = 6),\n",
    "        strip.text = element_text(size = 6), \n",
    "        axis.text = element_text(size = 6, color = \"black\"),\n",
    "        panel.grid.major = element_blank(),\n",
    "        panel.grid.minor = element_blank())\n",
    "p\n",
    "\n",
    "ggsave(filename = \"stella/output/experiment/biodata_d21_CD200.png\", plot = p, dpi = 300, width = 45, height = 45, unit = \"mm\")"
   ]
  },
  {
   "cell_type": "markdown",
   "id": "30590293-1fde-4c81-9dd2-674c1c6d8711",
   "metadata": {},
   "source": [
    "### PDGF"
   ]
  },
  {
   "cell_type": "code",
   "execution_count": 58,
   "id": "5a51cfde-3916-4943-925a-2b82f31cf067",
   "metadata": {},
   "outputs": [
    {
     "data": {
      "image/png": "[encoded data removed]",
      "text/plain": [
       "plot without title"
      ]
     },
     "metadata": {
      "image/png": {
       "height": 420,
       "width": 420
      }
     },
     "output_type": "display_data"
    }
   ],
   "source": [
    "p <- ggplot(df, aes(x=Platform, y=PDGF, group = Platform))+\n",
    "    # stat_summary(fun = mean,geom = \"point\", color = \"black\",size = 4, shape = 1)+\n",
    "    stat_summary(fun.data = mean_se,geom = \"errorbar\", color = \"black\",fun.args = list(mult = 1))+\n",
    "    geom_jitter(size = 1, shape = 1, width = 0.2)+\n",
    "    stat_compare_means(method = \"t.test\",label.x = 1.3,label.y = 1.1*max(df$PDGF), size = 2, label = \"p.signif\", comparisons = list(c(\"A400\", \"A800\")))+\n",
    "    ylim(0,1.2*max(df$PDGF))+\n",
    "    theme_bw()+\n",
    "    labs(title = \"PDGF\", x = \"\", y = \"Relative expression (monolayer, GAPDH)\")+\n",
    "    theme(plot.title = element_text(hjust = 0.5), \n",
    "        text = element_text(size = 6),\n",
    "        strip.text = element_text(size = 6), \n",
    "        axis.text = element_text(size = 6, color = \"black\"),\n",
    "        panel.grid.major = element_blank(),\n",
    "        panel.grid.minor = element_blank())\n",
    "p\n",
    "\n",
    "ggsave(filename = \"stella/output/experiment/biodata_d21_PDGF.png\", plot = p, dpi = 300, width = 45, height = 45, unit = \"mm\")"
   ]
  },
  {
   "cell_type": "markdown",
   "id": "4a46f10e-ec7e-4769-8cd1-4275be658f74",
   "metadata": {},
   "source": [
    "### TGFb1"
   ]
  },
  {
   "cell_type": "code",
   "execution_count": 59,
   "id": "3aa73888-8fa5-4eb2-b9d7-403a359fadbe",
   "metadata": {},
   "outputs": [
    {
     "data": {
      "image/png": "[encoded data removed]",
      "text/plain": [
       "plot without title"
      ]
     },
     "metadata": {
      "image/png": {
       "height": 420,
       "width": 420
      }
     },
     "output_type": "display_data"
    }
   ],
   "source": [
    "p <- ggplot(df, aes(x=Platform, y=TGFb1, group = Platform))+\n",
    "    # stat_summary(fun = mean,geom = \"point\", color = \"black\",size = 4, shape = 1)+\n",
    "    stat_summary(fun.data = mean_se,geom = \"errorbar\", color = \"black\",fun.args = list(mult = 1))+\n",
    "    geom_jitter(size = 1, shape = 1, width = 0.2)+\n",
    "    stat_compare_means(method = \"t.test\",label.x = 1.3,label.y = 1.1*max(df$TGFb1), size = 2, label = \"p.signif\", comparisons = list(c(\"A400\", \"A800\")))+\n",
    "    ylim(0,1.2*max(df$TGFb1))+\n",
    "    theme_bw()+\n",
    "    labs(title = \"TGFb1\", x = \"\", y = \"Relative expression (monolayer, GAPDH)\")+\n",
    "    theme(plot.title = element_text(hjust = 0.5), \n",
    "        text = element_text(size = 6),\n",
    "        strip.text = element_text(size = 6), \n",
    "        axis.text = element_text(size = 6, color = \"black\"),\n",
    "        panel.grid.major = element_blank(),\n",
    "        panel.grid.minor = element_blank())\n",
    "p\n",
    "\n",
    "ggsave(filename = \"stella/output/experiment/biodata_d21_TGFb1.png\", plot = p, dpi = 300, width = 45, height = 45, unit = \"mm\")"
   ]
  },
  {
   "cell_type": "markdown",
   "id": "d63b1941-b088-4c77-a0fa-7979f7fe14cf",
   "metadata": {},
   "source": [
    "### DNA"
   ]
  },
  {
   "cell_type": "code",
   "execution_count": 60,
   "id": "8adff704-8f45-4775-9357-bca748d021ec",
   "metadata": {},
   "outputs": [
    {
     "data": {
      "image/png": "[encoded data removed]",
      "text/plain": [
       "plot without title"
      ]
     },
     "metadata": {
      "image/png": {
       "height": 420,
       "width": 420
      }
     },
     "output_type": "display_data"
    }
   ],
   "source": [
    "p <- ggplot(df, aes(x=Platform, y=DNA.ng, group = Platform))+\n",
    "    # stat_summary(fun = mean,geom = \"point\", color = \"black\",size = 4, shape = 1)+\n",
    "    stat_summary(fun.data = mean_se,geom = \"errorbar\", color = \"black\",fun.args = list(mult = 1))+\n",
    "    geom_jitter(size = 1, shape = 1, width = 0.2)+\n",
    "    stat_compare_means(method = \"t.test\",label.x = 1.3,label.y = 1.1*max(df$DNA.ng), size = 2, label = \"p.signif\", comparisons = list(c(\"A400\", \"A800\")))+\n",
    "    ylim(0,1.2*max(df$DNA.ng))+\n",
    "    theme_bw()+\n",
    "    labs(title = \"DNA\", x = \"\", y = \"DNA content (ng)\")+\n",
    "    theme(plot.title = element_text(hjust = 0.5), \n",
    "        text = element_text(size = 6),\n",
    "        strip.text = element_text(size = 6), \n",
    "        axis.text = element_text(size = 6, color = \"black\"),\n",
    "        panel.grid.major = element_blank(),\n",
    "        panel.grid.minor = element_blank())\n",
    "p\n",
    "\n",
    "ggsave(filename = \"stella/output/experiment/biodata_d21_DNA.png\", plot = p, dpi = 300, width = 45, height = 45, unit = \"mm\")"
   ]
  },
  {
   "cell_type": "markdown",
   "id": "ce4e5681-b294-45f0-88fa-a7e247658d6c",
   "metadata": {},
   "source": [
    "### RNA"
   ]
  },
  {
   "cell_type": "code",
   "execution_count": 61,
   "id": "b56866fe-8b2e-4b21-98b6-350c06a19370",
   "metadata": {},
   "outputs": [
    {
     "data": {
      "image/png": "[encoded data removed]",
      "text/plain": [
       "plot without title"
      ]
     },
     "metadata": {
      "image/png": {
       "height": 420,
       "width": 420
      }
     },
     "output_type": "display_data"
    }
   ],
   "source": [
    "p <- ggplot(df, aes(x=Platform, y=RNA.ng, group = Platform))+\n",
    "    # stat_summary(fun = mean,geom = \"point\", color = \"black\",size = 4, shape = 1)+\n",
    "    stat_summary(fun.data = mean_se,geom = \"errorbar\", color = \"black\",fun.args = list(mult = 1))+\n",
    "    geom_jitter(size = 1, shape = 1, width = 0.2)+\n",
    "    stat_compare_means(method = \"t.test\",label.x = 1.3,label.y = 1.1*max(df$RNA.ng), size = 2, label = \"p.signif\", comparisons = list(c(\"A400\", \"A800\")))+\n",
    "    ylim(0,1.2*max(df$RNA.ng))+\n",
    "    theme_bw()+\n",
    "    labs(title = \"RNA\", x = \"\", y = \"Relative expression (monolayer, GAPDH)\")+\n",
    "    theme(plot.title = element_text(hjust = 0.5), \n",
    "        text = element_text(size = 6),\n",
    "        strip.text = element_text(size = 6), \n",
    "        axis.text = element_text(size = 6, color = \"black\"),\n",
    "        panel.grid.major = element_blank(),\n",
    "        panel.grid.minor = element_blank())\n",
    "p\n",
    "\n",
    "ggsave(filename = \"stella/output/experiment/biodata_d21_RNA.png\", plot = p, dpi = 300, width = 45, height = 45, unit = \"mm\")"
   ]
  }
 ],
 "metadata": {
  "kernelspec": {
   "display_name": "R",
   "language": "R",
   "name": "ir"
  },
  "language_info": {
   "codemirror_mode": "r",
   "file_extension": ".r",
   "mimetype": "text/x-r-source",
   "name": "R",
   "pygments_lexer": "r",
   "version": "4.1.2"
  }
 },
 "nbformat": 4,
 "nbformat_minor": 5
}

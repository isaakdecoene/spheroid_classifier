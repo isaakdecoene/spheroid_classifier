{
 "cells": [
  {
   "cell_type": "markdown",
   "id": "755816f3-9e96-4f5a-9605-0933fc2a5414",
   "metadata": {},
   "source": [
    "# Workflow for spheroid classification from brightfield microscopy images"
   ]
  },
  {
   "cell_type": "markdown",
   "id": "0df038bf-2101-4f6d-b3ae-a4742fa48cf4",
   "metadata": {},
   "source": [
    "## Load packages"
   ]
  },
  {
   "cell_type": "code",
   "execution_count": 1,
   "id": "fa92fae7-2940-4885-b915-d1b275a81d6c",
   "metadata": {},
   "outputs": [],
   "source": [
    "import os\n",
    "from IPython.display import clear_output\n",
    "from subprocess import Popen, PIPE"
   ]
  },
  {
   "cell_type": "markdown",
   "id": "a83f8a02-e9b1-4e58-a440-45d7f244db37",
   "metadata": {
    "tags": []
   },
   "source": [
    "## <span style=\"color:red\"> INPUT - Select images in the directory</span>\n",
    "\n",
    "```path_to_images``` is the path of the folder with all images **RELATIVE** to the location of the current notebook"
   ]
  },
  {
   "cell_type": "code",
   "execution_count": 2,
   "id": "c54e4a2f-a466-4e04-93f4-db9c927a8a39",
   "metadata": {},
   "outputs": [
    {
     "data": {
      "text/plain": [
       "['stella/input/STELLA_sA400_fullyauto_Merge_50-10_A06_D14.tif']"
      ]
     },
     "execution_count": 2,
     "metadata": {},
     "output_type": "execute_result"
    }
   ],
   "source": [
    "path_to_images = \"stella/input/\"\n",
    "all_files_in_path = os.listdir(path_to_images)\n",
    "\n",
    "all_images = [path_to_images + f for f in all_files_in_path if '.tif' in f]\n",
    "all_images"
   ]
  },
  {
   "cell_type": "code",
   "execution_count": 3,
   "id": "b80982a2-6a97-4fbb-bdcf-0c5b656c5297",
   "metadata": {},
   "outputs": [
    {
     "data": {
      "text/plain": [
       "1"
      ]
     },
     "execution_count": 3,
     "metadata": {},
     "output_type": "execute_result"
    }
   ],
   "source": [
    "len(all_images)"
   ]
  },
  {
   "cell_type": "markdown",
   "id": "b848e292-ac56-4261-a17a-cee32a63fe8d",
   "metadata": {
    "tags": []
   },
   "source": [
    "## Run all images"
   ]
  },
  {
   "cell_type": "code",
   "execution_count": 4,
   "id": "5883137b-e839-4c5c-8b8c-a24363bf0e7b",
   "metadata": {},
   "outputs": [
    {
     "name": "stdout",
     "output_type": "stream",
     "text": [
      "\n",
      "\n",
      "---------- Analyzing image # 1 / 1 , name: stella/input/STELLA_sA400_fullyauto_Merge_50-10_A06_D14.tif ----------\n",
      "\n",
      "\n"
     ]
    },
    {
     "name": "stderr",
     "output_type": "stream",
     "text": [
      "Input Notebook:  SpheroidClassifier.ipynb\n",
      "Output Notebook: Individual_Analysis.ipynb\n",
      "Generating grammar tables from /opt/conda/lib/python3.9/site-packages/blib2to3/Grammar.txt\n",
      "Writing grammar tables to /home/jovyan/.cache/black/21.12b0/Grammar3.9.7.final.0.pickle\n",
      "Writing failed: [Errno 2] No such file or directory: '/home/jovyan/.cache/black/21.12b0/tmpx1dfst1c'\n",
      "Generating grammar tables from /opt/conda/lib/python3.9/site-packages/blib2to3/PatternGrammar.txt\n",
      "Writing grammar tables to /home/jovyan/.cache/black/21.12b0/PatternGrammar3.9.7.final.0.pickle\n",
      "Writing failed: [Errno 2] No such file or directory: '/home/jovyan/.cache/black/21.12b0/tmpssv3t2ng'\n",
      "Executing:   0%|          | 0/76 [00:00<?, ?cell/s]Executing notebook with kernel: python3\n",
      "Executing:  25%|██▌       | 19/76 [00:04<00:08,  7.12cell/s]Warning: Ignoring your non-empty LD_LIBRARY_PATH\n",
      "/ilastik/ilastik-1.3.3post3-Linux/ilastik-meta/lazyflow/lazyflow/classifiers/__init__.py:20: UserWarning: init: Could not import tiktorch classifier\n",
      "  warnings.warn(\"init: Could not import tiktorch classifier\")\n"
     ]
    },
    {
     "name": "stdout",
     "output_type": "stream",
     "text": [
      "INFO ilastik_main: Starting ilastik from \"/ilastik/ilastik-1.3.3post3-Linux\".\n"
     ]
    },
    {
     "name": "stderr",
     "output_type": "stream",
     "text": [
      "WARNING 2022-05-12 16:38:19,252 opConservationTracking 11937 140480890836800 Could not find any ILP solver\n",
      "WARNING 2022-05-12 16:38:19,259 opStructuredTracking 11937 140480890836800 Could not find any ILP solver\n",
      "WARNING 2022-05-12 16:38:19,261 structuredTrackingWorkflow 11937 140480890836800 Could not find any learning solver. Tracking will use flow-based solver (DPCT). Learning for tracking will be disabled!\n"
     ]
    },
    {
     "name": "stdout",
     "output_type": "stream",
     "text": [
      "Starting ilastik from \"/ilastik/ilastik-1.3.3post3-Linux\".\n",
      "INFO ilastik.shell.projectManager: Opening Project: /home/host_home/OneDrive/KULeuven/People/Isaak_Decoene/20220512_Gabriele_Nasello/stella/20220302_stella_pixelclassification.ilp\n"
     ]
    },
    {
     "name": "stderr",
     "output_type": "stream",
     "text": [
      "WARNING dataset.py(313): H5pyDeprecationWarning: dataset.value has been deprecated. Use dataset[()] instead.\n",
      "WARNING opSimpleBlockedArrayCache.py(43): FutureWarning: Conversion of the second argument of issubdtype from `dtype` to `np.generic` is deprecated. In future, it will be treated as `np.object_ == np.dtype(dtype).type`.\n",
      "WARNING opSlicedBlockedArrayCache.py(141): FutureWarning: Conversion of the second argument of issubdtype from `dtype` to `np.generic` is deprecated. In future, it will be treated as `np.object_ == np.dtype(dtype).type`.\n"
     ]
    },
    {
     "name": "stdout",
     "output_type": "stream",
     "text": [
      "INFO ilastik.workflows.pixelClassification.pixelClassificationWorkflow: Beginning Batch Processing\n",
      "INFO ilastik.applets.batchProcessing.batchProcessingApplet: Exporting to /home/host_home/OneDrive/KULeuven/People/Isaak_Decoene/20220512_Gabriele_Nasello/stella/output/images/STELLA_sA400_fullyauto_Merge_50-10_A06_D14/ilastik/probabilities/STELLA_sA400_fullyauto_Merge_50-10_A06_D14_Probabilities.h5/exported_data\n",
      "INFO lazyflow.operators.ioOperators.ioOperators.OpH5N5WriterBigDataset: Data shape: (5400, 5400, 2)\n",
      "INFO lazyflow.utility.bigRequestStreamer: Estimated RAM usage per pixel is 184.0B * safety factor (2.0)\n",
      "INFO lazyflow.utility.bigRequestStreamer: determining blockshape assuming available_ram is 10.8GiB, split between 8 threads\n",
      "INFO lazyflow.utility.bigRequestStreamer: Chose blockshape: (1985, 1985, 2)\n",
      "INFO lazyflow.utility.bigRequestStreamer: Estimated RAM usage per block is 1.4GiB\n"
     ]
    },
    {
     "name": "stderr",
     "output_type": "stream",
     "text": [
      "Warning: TIFFDecoder: no TIFFTAG_SAMPLEFORMAT or TIFFTAG_DATATYPE, guessing pixeltype 'UINT16'.\n",
      "Warning: TIFFDecoder: no TIFFTAG_SAMPLEFORMAT or TIFFTAG_DATATYPE, guessing pixeltype 'UINT16'.\n",
      "Executing:  25%|██▌       | 19/76 [00:20<00:08,  7.12cell/s]"
     ]
    },
    {
     "name": "stdout",
     "output_type": "stream",
     "text": [
      "DEBUG lazyflow.operators.classifierOperators: Features took 2.529019 seconds. Prediction took 21.692731 seconds. Subregion: start '[0, 0, 0]' stop '[1985, 1985, 2]'\n",
      "DEBUG lazyflow.operators.classifierOperators: Features took 10.228923 seconds. Prediction took 22.103182 seconds. Subregion: start '[0, 1985, 0]' stop '[1985, 3970, 2]'\n",
      "DEBUG lazyflow.operators.classifierOperators: Features took 25.509430000000002 seconds. Prediction took 20.055617 seconds. Subregion: start '[0, 3970, 0]' stop '[1985, 5400, 2]'\n",
      "DEBUG lazyflow.operators.classifierOperators: Features took 30.585168 seconds. Prediction took 28.052358 seconds. Subregion: start '[1985, 0, 0]' stop '[3970, 1985, 2]'\n",
      "DEBUG lazyflow.operators.classifierOperators: Features took 45.705708 seconds. Prediction took 23.294336 seconds. Subregion: start '[1985, 1985, 0]' stop '[3970, 3970, 2]'\n",
      "DEBUG lazyflow.operators.classifierOperators: Features took 61.993192 seconds. Prediction took 24.941178 seconds. Subregion: start '[1985, 3970, 0]' stop '[3970, 5400, 2]'\n",
      "DEBUG lazyflow.operators.classifierOperators: Features took 61.01804 seconds. Prediction took 27.182899 seconds. Subregion: start '[3970, 0, 0]' stop '[5400, 1985, 2]'\n",
      "DEBUG lazyflow.operators.classifierOperators: Features took 67.095863 seconds. Prediction took 26.483331 seconds. Subregion: start '[3970, 1985, 0]' stop '[5400, 3970, 2]'\n",
      "DEBUG lazyflow.operators.classifierOperators: Features took 63.965053 seconds. Prediction took 6.056949 seconds. Subregion: start '[3970, 3970, 0]' stop '[5400, 5400, 2]'\n",
      "INFO ilastik.workflows.pixelClassification.pixelClassificationWorkflow: Completed Batch Processing\n"
     ]
    },
    {
     "name": "stderr",
     "output_type": "stream",
     "text": [
      "Executing:  29%|██▉       | 22/76 [01:42<10:40, 11.86s/cell]OpenJDK 64-Bit Server VM warning: ignoring option PermSize=128m; support was removed in 8.0\n",
      "OpenJDK 64-Bit Server VM warning: Using incremental CMS is deprecated and will likely be removed in a future release\n",
      "Executing:  42%|████▏     | 32/76 [02:01<01:50,  2.52s/cell]Times reported are CPU and Wall-clock times for each module\n",
      "Thu May 12 16:40:17 2022: Image # 1, module LoadData # 1: CPU_time = 2.80 secs, Wall_time = 1.70 secs\n",
      "Thu May 12 16:40:19 2022: Image # 1, module RescaleIntensity # 2: CPU_time = 3.00 secs, Wall_time = 2.98 secs\n",
      "Executing:  43%|████▎     | 33/76 [02:20<01:48,  2.52s/cell]Thu May 12 16:40:22 2022: Image # 1, module IdentifyPrimaryObjects # 3: CPU_time = 24.18 secs, Wall_time = 24.19 secs\n",
      "Thu May 12 16:40:46 2022: Image # 1, module MeasureObjectSizeShape # 4: CPU_time = 6.38 secs, Wall_time = 6.38 secs\n",
      "Thu May 12 16:40:52 2022: Image # 1, module FilterObjects # 5: CPU_time = 3.06 secs, Wall_time = 3.06 secs\n",
      "Thu May 12 16:40:55 2022: Image # 1, module MeasureObjectSizeShape # 6: CPU_time = 1.07 secs, Wall_time = 1.07 secs\n",
      "Thu May 12 16:40:56 2022: Image # 1, module MeasureTexture # 7: CPU_time = 20.68 secs, Wall_time = 2.76 secs\n",
      "Thu May 12 16:40:59 2022: Image # 1, module MeasureObjectIntensityDistribution # 8: CPU_time = 13.00 secs, Wall_time = 13.00 secs\n",
      "Thu May 12 16:41:12 2022: Image # 1, module MeasureObjectIntensity # 9: CPU_time = 1.60 secs, Wall_time = 1.61 secs\n",
      "Thu May 12 16:41:14 2022: Image # 1, module OverlayObjects # 10: CPU_time = 3.10 secs, Wall_time = 3.10 secs\n",
      "Error detected during run of module SaveImages\n",
      "Traceback (most recent call last):\n",
      "  File \"/opt/conda/envs/cprofiler/lib/python3.8/site-packages/cellprofiler_core/pipeline/_pipeline.py\", line 976, in run_with_yield\n",
      "    self.run_module(module, workspace)\n",
      "  File \"/opt/conda/envs/cprofiler/lib/python3.8/site-packages/cellprofiler_core/pipeline/_pipeline.py\", line 1298, in run_module\n",
      "    module.run(workspace)\n",
      "  File \"/opt/conda/envs/cprofiler/lib/python3.8/site-packages/cellprofiler/modules/saveimages.py\", line 565, in run\n",
      "    should_save = self.run_image(workspace)\n",
      "  File \"/opt/conda/envs/cprofiler/lib/python3.8/site-packages/cellprofiler/modules/saveimages.py\", line 609, in run_image\n",
      "    self.save_image(workspace)\n",
      "  File \"/opt/conda/envs/cprofiler/lib/python3.8/site-packages/cellprofiler/modules/saveimages.py\", line 768, in save_image\n",
      "    skimage.io.imsave(filename, pixels, **save_kwargs)\n",
      "  File \"/opt/conda/envs/cprofiler/lib/python3.8/site-packages/skimage/io/_io.py\", line 143, in imsave\n",
      "    return call_plugin('imsave', fname, arr, plugin=plugin, **plugin_args)\n",
      "  File \"/opt/conda/envs/cprofiler/lib/python3.8/site-packages/skimage/io/manage_plugins.py\", line 207, in call_plugin\n",
      "    return func(*args, **kwargs)\n",
      "TypeError: imwrite() got an unexpected keyword argument 'compress'\n",
      "Thu May 12 16:41:17 2022: Image # 1, module SaveImages # 11: CPU_time = 10.14 secs, Wall_time = 2.09 secs\n",
      "Executing:  50%|█████     | 38/76 [03:06<03:35,  5.68s/cell]Warning: Ignoring your non-empty LD_LIBRARY_PATH\n",
      "/ilastik/ilastik-1.3.3post3-Linux/ilastik-meta/lazyflow/lazyflow/classifiers/__init__.py:20: UserWarning: init: Could not import tiktorch classifier\n",
      "  warnings.warn(\"init: Could not import tiktorch classifier\")\n"
     ]
    },
    {
     "name": "stdout",
     "output_type": "stream",
     "text": [
      "INFO ilastik_main: Starting ilastik from \"/ilastik/ilastik-1.3.3post3-Linux\".\n"
     ]
    },
    {
     "name": "stderr",
     "output_type": "stream",
     "text": [
      "WARNING 2022-05-12 16:41:21,516 opConservationTracking 12075 140295287670592 Could not find any ILP solver\n",
      "WARNING 2022-05-12 16:41:21,523 opStructuredTracking 12075 140295287670592 Could not find any ILP solver\n",
      "WARNING 2022-05-12 16:41:21,525 structuredTrackingWorkflow 12075 140295287670592 Could not find any learning solver. Tracking will use flow-based solver (DPCT). Learning for tracking will be disabled!\n"
     ]
    },
    {
     "name": "stdout",
     "output_type": "stream",
     "text": [
      "Starting ilastik from \"/ilastik/ilastik-1.3.3post3-Linux\".\n",
      "INFO ilastik.shell.projectManager: Opening Project: /home/host_home/OneDrive/KULeuven/People/Isaak_Decoene/20220512_Gabriele_Nasello/stella/20220408_GridDetection_pixelclassification.ilp\n"
     ]
    },
    {
     "name": "stderr",
     "output_type": "stream",
     "text": [
      "WARNING dataset.py(313): H5pyDeprecationWarning: dataset.value has been deprecated. Use dataset[()] instead.\n",
      "WARNING opSimpleBlockedArrayCache.py(43): FutureWarning: Conversion of the second argument of issubdtype from `dtype` to `np.generic` is deprecated. In future, it will be treated as `np.object_ == np.dtype(dtype).type`.\n",
      "WARNING opSlicedBlockedArrayCache.py(141): FutureWarning: Conversion of the second argument of issubdtype from `dtype` to `np.generic` is deprecated. In future, it will be treated as `np.object_ == np.dtype(dtype).type`.\n"
     ]
    },
    {
     "name": "stdout",
     "output_type": "stream",
     "text": [
      "INFO ilastik.workflows.pixelClassification.pixelClassificationWorkflow: Beginning Batch Processing\n",
      "INFO ilastik.applets.batchProcessing.batchProcessingApplet: Exporting to /home/host_home/OneDrive/KULeuven/People/Isaak_Decoene/20220512_Gabriele_Nasello/stella/output/images/STELLA_sA400_fullyauto_Merge_50-10_A06_D14/ilastik/probabilities/STELLA_sA400_fullyauto_Merge_50-10_A06_D14_Simple Segmentation.tif\n",
      "INFO lazyflow.utility.bigRequestStreamer: Estimated RAM usage per pixel is 160.0B * safety factor (2.0)\n",
      "INFO lazyflow.utility.bigRequestStreamer: determining blockshape assuming available_ram is 10.8GiB, split between 8 threads\n",
      "INFO lazyflow.utility.bigRequestStreamer: Chose blockshape: (2129, 2128, 2)\n",
      "INFO lazyflow.utility.bigRequestStreamer: Estimated RAM usage per block is 1.4GiB\n"
     ]
    },
    {
     "name": "stderr",
     "output_type": "stream",
     "text": [
      "Warning: TIFFDecoder: no TIFFTAG_SAMPLEFORMAT or TIFFTAG_DATATYPE, guessing pixeltype 'UINT16'.\n",
      "Warning: TIFFDecoder: no TIFFTAG_SAMPLEFORMAT or TIFFTAG_DATATYPE, guessing pixeltype 'UINT16'.\n",
      "Executing:  51%|█████▏    | 39/76 [03:20<03:30,  5.68s/cell]"
     ]
    },
    {
     "name": "stdout",
     "output_type": "stream",
     "text": [
      "DEBUG lazyflow.operators.classifierOperators: Features took 2.185768 seconds. Prediction took 37.073086 seconds. Subregion: start '[0, 0, 0]' stop '[2129, 2128, 2]'\n",
      "DEBUG lazyflow.operators.classifierOperators: Features took 17.739466 seconds. Prediction took 26.243362 seconds. Subregion: start '[0, 2128, 0]' stop '[2129, 4256, 2]'\n",
      "DEBUG lazyflow.operators.classifierOperators: Features took 37.567978 seconds. Prediction took 61.182817 seconds. Subregion: start '[0, 4256, 0]' stop '[2129, 5400, 2]'\n",
      "DEBUG lazyflow.operators.classifierOperators: Features took 44.519683 seconds. Prediction took 54.303317 seconds. Subregion: start '[2129, 0, 0]' stop '[4258, 2128, 2]'\n",
      "DEBUG lazyflow.operators.classifierOperators: Features took 70.908145 seconds. Prediction took 39.331594 seconds. Subregion: start '[2129, 2128, 0]' stop '[4258, 4256, 2]'\n",
      "DEBUG lazyflow.operators.classifierOperators: Features took 69.74415 seconds. Prediction took 40.596527 seconds. Subregion: start '[2129, 4256, 0]' stop '[4258, 5400, 2]'\n",
      "DEBUG lazyflow.operators.classifierOperators: Features took 0.42881 seconds. Prediction took 48.369179 seconds. Subregion: start '[4258, 4256, 0]' stop '[5400, 5400, 2]'\n",
      "DEBUG lazyflow.operators.classifierOperators: Features took 69.742036 seconds. Prediction took 47.294058 seconds. Subregion: start '[4258, 0, 0]' stop '[5400, 2128, 2]'\n",
      "DEBUG lazyflow.operators.classifierOperators: Features took 117.017502 seconds. Prediction took 12.520625 seconds. Subregion: start '[4258, 2128, 0]' stop '[5400, 4256, 2]'\n",
      "INFO ilastik.workflows.pixelClassification.pixelClassificationWorkflow: Completed Batch Processing\n"
     ]
    },
    {
     "name": "stderr",
     "output_type": "stream",
     "text": [
      "Executing:  99%|█████████▊| 75/76 [05:26<00:00,  8.67cell/s]Input Notebook:  R_image_analysis.ipynb\n",
      "Output Notebook: Image_DataAnalysis.ipynb\n",
      "Executing:   0%|          | 0/41 [00:00<?, ?cell/s]Executing notebook with kernel: ir\n",
      "Executing:  27%|██▋       | 11/41 [00:02<00:06,  4.56cell/s]\n",
      "Traceback (most recent call last):\n",
      "  File \"/opt/conda/bin/papermill\", line 8, in <module>\n",
      "    sys.exit(papermill())\n",
      "  File \"/opt/conda/lib/python3.9/site-packages/click/core.py\", line 1128, in __call__\n",
      "    return self.main(*args, **kwargs)\n",
      "  File \"/opt/conda/lib/python3.9/site-packages/click/core.py\", line 1053, in main\n",
      "    rv = self.invoke(ctx)\n",
      "  File \"/opt/conda/lib/python3.9/site-packages/click/core.py\", line 1395, in invoke\n",
      "    return ctx.invoke(self.callback, **ctx.params)\n",
      "  File \"/opt/conda/lib/python3.9/site-packages/click/core.py\", line 754, in invoke\n",
      "    return __callback(*args, **kwargs)\n",
      "  File \"/opt/conda/lib/python3.9/site-packages/click/decorators.py\", line 26, in new_func\n",
      "    return f(get_current_context(), *args, **kwargs)\n",
      "  File \"/opt/conda/lib/python3.9/site-packages/papermill/cli.py\", line 250, in papermill\n",
      "    execute_notebook(\n",
      "  File \"/opt/conda/lib/python3.9/site-packages/papermill/execute.py\", line 122, in execute_notebook\n",
      "    raise_for_execution_errors(nb, output_path)\n",
      "  File \"/opt/conda/lib/python3.9/site-packages/papermill/execute.py\", line 234, in raise_for_execution_errors\n",
      "    raise error\n",
      "papermill.exceptions.PapermillExecutionError: \n",
      "---------------------------------------------------------------------------\n",
      "Exception encountered at \"In [5]\":\n",
      "Error in file(file, \"rt\"): cannot open the connection\n",
      "Traceback:\n",
      "\n",
      "1. read.csv(spheroids_file)\n",
      "2. read.table(file = file, header = header, sep = sep, quote = quote, \n",
      " .     dec = dec, fill = fill, comment.char = comment.char, ...)\n",
      "3. file(file, \"rt\")\n",
      "\n",
      "Executing: 100%|██████████| 76/76 [05:29<00:00,  4.34s/cell]\n"
     ]
    }
   ],
   "source": [
    "for n, imfile in enumerate(all_images):\n",
    "    print('\\n\\n---------- Analyzing image # ' + str(n + 1) + ' / ' + str(len(all_images)) + ' , name: ' + imfile + ' ----------\\n\\n')\n",
    "    # example: papermill SpheroidClassifier.ipynb Individual_Analysis.ipynb -p imagefile stella/input/STELLA_sA400_fullyauto_Merge_50-10_A06_D14.tif\n",
    "    command = 'papermill SpheroidClassifier.ipynb Individual_Analysis.ipynb -p imagefile ' + imfile\n",
    "    \n",
    "    process = Popen(command, shell=True, stdout=PIPE)\n",
    "    # Poll process.stdout to show stdout live\n",
    "    while True:\n",
    "      output = process.stdout.readline()\n",
    "      if process.poll() is not None:\n",
    "        break\n",
    "      if output:\n",
    "        print(output.strip().decode('utf-8'))\n",
    "    \n",
    "    os.system('rm Individual_Analysis.ipynb')\n",
    "    clear_output(wait=True)    "
   ]
  },
  {
   "cell_type": "code",
   "execution_count": null,
   "id": "7bff6d38-0a10-4589-a034-2d2e15490a03",
   "metadata": {},
   "outputs": [],
   "source": []
  }
 ],
 "metadata": {
  "kernelspec": {
   "display_name": "Python 3 (ipykernel)",
   "language": "python",
   "name": "python3"
  },
  "language_info": {
   "codemirror_mode": {
    "name": "ipython",
    "version": 3
   },
   "file_extension": ".py",
   "mimetype": "text/x-python",
   "name": "python",
   "nbconvert_exporter": "python",
   "pygments_lexer": "ipython3",
   "version": "3.9.7"
  }
 },
 "nbformat": 4,
 "nbformat_minor": 5
}

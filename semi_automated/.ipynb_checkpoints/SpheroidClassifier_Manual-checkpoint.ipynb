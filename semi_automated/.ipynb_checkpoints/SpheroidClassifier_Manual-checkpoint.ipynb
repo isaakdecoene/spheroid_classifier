{
 "cells": [
  {
   "cell_type": "markdown",
   "id": "755816f3-9e96-4f5a-9605-0933fc2a5414",
   "metadata": {},
   "source": [
    "# Workflow for spheroid classification from brightfield microscopy images"
   ]
  },
  {
   "cell_type": "markdown",
   "id": "a83f8a02-e9b1-4e58-a440-45d7f244db37",
   "metadata": {
    "tags": []
   },
   "source": [
    "## <span style=\"color:red\"> INPUT - Select single image </span>\n",
    "\n",
    "```path_to_images``` is the path of the image **RELATIVE** to the location of the current notebook"
   ]
  },
  {
   "cell_type": "code",
   "execution_count": 421,
   "id": "c54e4a2f-a466-4e04-93f4-db9c927a8a39",
   "metadata": {
    "tags": [
     "parameters"
    ]
   },
   "outputs": [],
   "source": [
    "# Example\n",
    "imagefile = \"stella/input/STELLA_sA800_semiauto_Merge_50-20_A06_D7.hdf5\""
   ]
  },
  {
   "cell_type": "markdown",
   "id": "b848e292-ac56-4261-a17a-cee32a63fe8d",
   "metadata": {},
   "source": [
    "## Run analysis flags"
   ]
  },
  {
   "cell_type": "code",
   "execution_count": 422,
   "id": "8dcb8c45-9a6f-4dec-9b23-44f81a9f145e",
   "metadata": {},
   "outputs": [],
   "source": [
    "run_ilastik = True\n",
    "run_imagej_ilastik = True\n",
    "run_cellpro = True\n",
    "run_imagej_cellpro = True"
   ]
  },
  {
   "cell_type": "markdown",
   "id": "714d01ac-e999-499e-ac6b-23fe0d5e5ef8",
   "metadata": {},
   "source": [
    "## Preamble"
   ]
  },
  {
   "cell_type": "markdown",
   "id": "9a7dbe83-abb3-4a4b-8d6d-b8b8a23f9e8f",
   "metadata": {},
   "source": [
    "### Software locations"
   ]
  },
  {
   "cell_type": "code",
   "execution_count": 423,
   "id": "1f33c092-108e-41a4-9694-1f9f2f9004c0",
   "metadata": {},
   "outputs": [],
   "source": [
    "ilastik_software = '/ilastik/ilastik-1.3.3post3-Linux/run_ilastik.sh'\n",
    "\n",
    "imagej_software = '/imagej/Fiji.app/ImageJ-linux64'\n",
    "\n",
    "cellprofiler_software = '/opt/conda/envs/cprofiler/bin/cellprofiler'"
   ]
  },
  {
   "cell_type": "markdown",
   "id": "538f0e3a-e69b-4b1d-b271-cbdfd2db62b9",
   "metadata": {
    "tags": []
   },
   "source": [
    "## Load libraries"
   ]
  },
  {
   "cell_type": "code",
   "execution_count": 424,
   "id": "8d42bd85-3458-454f-824f-7562c9054616",
   "metadata": {},
   "outputs": [],
   "source": [
    "import imageio\n",
    "import cv2\n",
    "import numpy as np\n",
    "from pandas import DataFrame\n",
    "import matplotlib.pyplot as plt\n",
    "import subprocess\n",
    "from pathlib import Path\n",
    "from subprocess import Popen, PIPE\n",
    "import os\n",
    "plt.rcParams[\"figure.figsize\"] = (10,10)"
   ]
  },
  {
   "cell_type": "markdown",
   "id": "9e35a86c-c5de-4722-8811-4bd7793bbea3",
   "metadata": {},
   "source": [
    "## Load imagefile"
   ]
  },
  {
   "cell_type": "code",
   "execution_count": 425,
   "id": "be1c8498-3496-406c-a4e5-2104b182bb96",
   "metadata": {},
   "outputs": [],
   "source": [
    "# Define ouput folder\n",
    "image_path = Path(imagefile).resolve()\n",
    "folder_path = image_path.parent.parent / 'output/images'\n",
    "results_folder = folder_path / image_path.stem"
   ]
  },
  {
   "cell_type": "markdown",
   "id": "83096079-4fc8-4363-87d8-7ac5afad6cb2",
   "metadata": {
    "tags": []
   },
   "source": [
    "### Projects\n",
    "\n",
    "There are separate Ilastik classifiers for the manual and the automated images"
   ]
  },
  {
   "cell_type": "code",
   "execution_count": 426,
   "id": "1fb3f9ee-bfff-41a8-a525-9f2f7e788222",
   "metadata": {},
   "outputs": [],
   "source": [
    "ilastik_project = 'stella/20220525_stella_manual_pixelclassification.ilp'\n",
    "grid_ilastik_project = 'stella/20220525_stella_manual_GridDetection_pixelclassification.ilp'"
   ]
  },
  {
   "cell_type": "markdown",
   "id": "d563818a-51dd-4799-b4c9-02aa7d435101",
   "metadata": {},
   "source": [
    "## Ilastik - pixel classification"
   ]
  },
  {
   "cell_type": "markdown",
   "id": "debfc147-592c-418e-875b-083dc30b8ddd",
   "metadata": {},
   "source": [
    "### Probability"
   ]
  },
  {
   "cell_type": "code",
   "execution_count": 427,
   "id": "6a3c54e1-2b33-410b-88b8-1b210cebfa3b",
   "metadata": {},
   "outputs": [],
   "source": [
    "# the following line of code tells ilastik to create \n",
    "# a folder with the same name of the image where \n",
    "# results in .h5 format will be stored\n",
    "output_format = folder_path / '{nickname}/ilastik/probabilities/{nickname}_{result_type}.h5'"
   ]
  },
  {
   "cell_type": "code",
   "execution_count": 428,
   "id": "27013838-0f42-468e-8773-c65bf890fa8f",
   "metadata": {},
   "outputs": [
    {
     "data": {
      "text/plain": [
       "'/ilastik/ilastik-1.3.3post3-Linux/run_ilastik.sh --headless --project=/home/host_home/figures/automated_image_analysis/semi_automated/stella/20220525_stella_manual_pixelclassification.ilp --export_source=probabilities --output_filename_format=/home/host_home/figures/automated_image_analysis/semi_automated/stella/output/images/{nickname}/ilastik/probabilities/{nickname}_{result_type}.h5 /home/host_home/figures/automated_image_analysis/semi_automated/stella/input/STELLA_sA800_semiauto_Merge_50-20_A06_D7.hdf5'"
      ]
     },
     "execution_count": 428,
     "metadata": {},
     "output_type": "execute_result"
    }
   ],
   "source": [
    "ilastik_project_path = str(Path(ilastik_project).resolve())\n",
    "\n",
    "ilastikexpsource = 'probabilities'\n",
    "\n",
    "options = ['--headless',\n",
    "           '--project=' + ilastik_project_path,\n",
    "           '--export_source=' + ilastikexpsource,\n",
    "           '--output_filename_format=' + str(output_format),\n",
    "           str(image_path)\n",
    "          ]\n",
    "\n",
    "command = [ilastik_software] + options\n",
    "' '.join(command)"
   ]
  },
  {
   "cell_type": "code",
   "execution_count": 429,
   "id": "6b225010-920c-4f53-8258-2ccd66e52207",
   "metadata": {},
   "outputs": [
    {
     "name": "stderr",
     "output_type": "stream",
     "text": [
      "Warning: Ignoring your non-empty LD_LIBRARY_PATH\n",
      "/ilastik/ilastik-1.3.3post3-Linux/ilastik-meta/lazyflow/lazyflow/classifiers/__init__.py:20: UserWarning: init: Could not import tiktorch classifier\n",
      "  warnings.warn(\"init: Could not import tiktorch classifier\")\n"
     ]
    },
    {
     "name": "stdout",
     "output_type": "stream",
     "text": [
      "INFO ilastik_main: Starting ilastik from \"/ilastik/ilastik-1.3.3post3-Linux\".\n"
     ]
    },
    {
     "name": "stderr",
     "output_type": "stream",
     "text": [
      "WARNING 2022-08-22 11:38:31,850 opConservationTracking 4002 140106841835328 Could not find any ILP solver\n",
      "WARNING 2022-08-22 11:38:31,856 opStructuredTracking 4002 140106841835328 Could not find any ILP solver\n",
      "WARNING 2022-08-22 11:38:31,857 structuredTrackingWorkflow 4002 140106841835328 Could not find any learning solver. Tracking will use flow-based solver (DPCT). Learning for tracking will be disabled!\n"
     ]
    },
    {
     "name": "stdout",
     "output_type": "stream",
     "text": [
      "Starting ilastik from \"/ilastik/ilastik-1.3.3post3-Linux\".\n",
      "INFO ilastik.shell.projectManager: Opening Project: /home/host_home/figures/automated_image_analysis/semi_automated/stella/20220525_stella_manual_pixelclassification.ilp\n"
     ]
    },
    {
     "name": "stderr",
     "output_type": "stream",
     "text": [
      "WARNING dataset.py(313): H5pyDeprecationWarning: dataset.value has been deprecated. Use dataset[()] instead.\n",
      "WARNING opSimpleBlockedArrayCache.py(43): FutureWarning: Conversion of the second argument of issubdtype from `dtype` to `np.generic` is deprecated. In future, it will be treated as `np.object_ == np.dtype(dtype).type`.\n",
      "WARNING opSlicedBlockedArrayCache.py(141): FutureWarning: Conversion of the second argument of issubdtype from `dtype` to `np.generic` is deprecated. In future, it will be treated as `np.object_ == np.dtype(dtype).type`.\n"
     ]
    },
    {
     "name": "stdout",
     "output_type": "stream",
     "text": [
      "INFO ilastik.workflows.pixelClassification.pixelClassificationWorkflow: Beginning Batch Processing\n",
      "INFO ilastik.applets.batchProcessing.batchProcessingApplet: Exporting to /home/host_home/figures/automated_image_analysis/semi_automated/stella/output/images/STELLA_sA800_semiauto_Merge_50-20_A06_D7/ilastik/probabilities/STELLA_sA800_semiauto_Merge_50-20_A06_D7_Probabilities.h5/exported_data\n",
      "INFO lazyflow.operators.ioOperators.ioOperators.OpH5N5WriterBigDataset: Data shape: (1200, 1600, 2)\n",
      "INFO lazyflow.utility.bigRequestStreamer: Estimated RAM usage per pixel is 652.0B * safety factor (2.0)\n",
      "INFO lazyflow.utility.bigRequestStreamer: determining blockshape assuming available_ram is 4.8GiB, split between 8 threads\n",
      "INFO lazyflow.utility.bigRequestStreamer: Chose blockshape: (704, 704, 2)\n",
      "INFO lazyflow.utility.bigRequestStreamer: Estimated RAM usage per block is 616.3MiB\n",
      "DEBUG lazyflow.operators.classifierOperators: Features took 3.714718 seconds. Prediction took 1.3847019999999999 seconds. Subregion: start '[0, 1408, 0]' stop '[704, 1600, 2]'\n",
      "DEBUG lazyflow.operators.classifierOperators: Features took 1.9142299999999999 seconds. Prediction took 3.213848 seconds. Subregion: start '[0, 0, 0]' stop '[704, 704, 2]'\n",
      "DEBUG lazyflow.operators.classifierOperators: Features took 4.10597 seconds. Prediction took 1.827326 seconds. Subregion: start '[0, 704, 0]' stop '[704, 1408, 2]'\n",
      "DEBUG lazyflow.operators.classifierOperators: Features took 5.075159 seconds. Prediction took 0.907133 seconds. Subregion: start '[704, 0, 0]' stop '[1200, 704, 2]'\n",
      "DEBUG lazyflow.operators.classifierOperators: Features took 6.28027 seconds. Prediction took 0.732442 seconds. Subregion: start '[704, 704, 0]' stop '[1200, 1408, 2]'\n",
      "DEBUG lazyflow.operators.classifierOperators: Features took 6.835956 seconds. Prediction took 0.261777 seconds. Subregion: start '[704, 1408, 0]' stop '[1200, 1600, 2]'\n",
      "INFO ilastik.workflows.pixelClassification.pixelClassificationWorkflow: Completed Batch Processing\n"
     ]
    }
   ],
   "source": [
    "if run_ilastik:\n",
    "    subprocess.call(command)"
   ]
  },
  {
   "cell_type": "markdown",
   "id": "a14ac98c-a4d4-4d44-ad83-cde64460b53f",
   "metadata": {},
   "source": [
    "## Imagej conversion of .h5 files to .tif"
   ]
  },
  {
   "cell_type": "markdown",
   "id": "a5ec7fcc-6da5-4714-ab7c-65883ce6fbf2",
   "metadata": {},
   "source": [
    "### Probability .h5 conversion to .tif"
   ]
  },
  {
   "cell_type": "code",
   "execution_count": 430,
   "id": "98904fa4-46d6-4401-8ebb-2c739cfd4499",
   "metadata": {},
   "outputs": [
    {
     "data": {
      "text/plain": [
       "'/imagej/Fiji.app/ImageJ-linux64 --headless --console -macro \"/home/host_home/figures/automated_image_analysis/semi_automated/imagej/macros/macro_ilastik/ilastik_prob2tif.ijm\" \"/home/host_home/figures/automated_image_analysis/semi_automated/stella/output/images/STELLA_sA800_semiauto_Merge_50-20_A06_D7/ilastik/probabilities/STELLA_sA800_semiauto_Merge_50-20_A06_D7_Probabilities.h5\"'"
      ]
     },
     "execution_count": 430,
     "metadata": {},
     "output_type": "execute_result"
    }
   ],
   "source": [
    "imagej_macro = 'imagej/macros/macro_ilastik/ilastik_prob2tif.ijm'\n",
    "imagej_macro_path = str(Path(imagej_macro).resolve())\n",
    "\n",
    "h5_folder = results_folder / 'ilastik/probabilities' / image_path.stem\n",
    "h5_file = str(h5_folder) + '_Probabilities.h5'\n",
    "h5_file\n",
    "\n",
    "options = ['--headless',\n",
    "           '--console',\n",
    "           '-macro \"' + imagej_macro_path + '\"',\n",
    "           '\"' + h5_file + '\"'\n",
    "          ]\n",
    "\n",
    "command = [imagej_software] + options\n",
    "command = ' '.join(command)\n",
    "command"
   ]
  },
  {
   "cell_type": "code",
   "execution_count": 431,
   "id": "1f9e9697-7640-434a-89ee-4e4592c911fb",
   "metadata": {},
   "outputs": [
    {
     "name": "stderr",
     "output_type": "stream",
     "text": [
      "OpenJDK 64-Bit Server VM warning: ignoring option PermSize=128m; support was removed in 8.0\n",
      "OpenJDK 64-Bit Server VM warning: Using incremental CMS is deprecated and will likely be removed in a future release\n"
     ]
    },
    {
     "name": "stdout",
     "output_type": "stream",
     "text": [
      "[INFO] Trying to open: /home/host_home/figures/automated_image_analysis/semi_automated/stella/output/images/STELLA_sA800_semiauto_Merge_50-20_A06_D7/ilastik/probabilities/STELLA_sA800_semiauto_Merge_50-20_A06_D7_Probabilities.h5\n",
      "[INFO] Detected internal path /exported_data\n",
      "[INFO] Found dataset '/exported_data' of type 'float32'\n",
      "[INFO] Constructing output image of shape (1600, 1200, 1, 2, 1). Axis order: 'XYCZT'\n",
      "[INFO] Loading HDF5 dataset took: 1093ms\n",
      "######\n",
      "\n",
      "Saving STELLA_sA800_semiauto_Merge_50-20_A06_D7_Probabilities_ch1.tif\n",
      "\n",
      "######\n",
      "\n",
      "######\n",
      "\n",
      "Saving STELLA_sA800_semiauto_Merge_50-20_A06_D7_Probabilities_ch2.tif\n",
      "\n",
      "######\n",
      "\n"
     ]
    }
   ],
   "source": [
    "if run_imagej_ilastik:\n",
    "    process = Popen(command, shell=True, stdout=PIPE)\n",
    "    # Poll process.stdout to show stdout live\n",
    "    while True:\n",
    "      output = process.stdout.readline()\n",
    "      if process.poll() is not None:\n",
    "        break\n",
    "      if output:\n",
    "        print(output.strip().decode('utf-8'))"
   ]
  },
  {
   "cell_type": "markdown",
   "id": "4167e38a-aad9-4cf0-b2e2-0f279f3d7d17",
   "metadata": {},
   "source": [
    "## Cell Profiler"
   ]
  },
  {
   "cell_type": "markdown",
   "id": "26f93d8c-39a3-4d68-9434-37eb24c4574f",
   "metadata": {},
   "source": [
    "### Input preparation"
   ]
  },
  {
   "cell_type": "markdown",
   "id": "02f63313-647e-49ff-97d7-b59eefe6bd22",
   "metadata": {},
   "source": [
    "Create a ```load_input.csv``` file that inputs:\n",
    "\n",
    "- image files to process\n",
    "- ilastik probability .tif output for background (default: ```'{imagename}/ilastik/probabilities/{imagename}__Probabilities Stage 2_ch1.tif'```)\n",
    "- ilastik probability .tif output for spheroids (default: ```'{imagename}/ilastik/probabilities/{imagename}__Probabilities Stage 2_ch2.tif'```)"
   ]
  },
  {
   "cell_type": "code",
   "execution_count": 432,
   "id": "d805ab78-da82-4fae-a43e-811b1f556540",
   "metadata": {},
   "outputs": [
    {
     "data": {
      "text/html": [
       "<div>\n",
       "<style scoped>\n",
       "    .dataframe tbody tr th:only-of-type {\n",
       "        vertical-align: middle;\n",
       "    }\n",
       "\n",
       "    .dataframe tbody tr th {\n",
       "        vertical-align: top;\n",
       "    }\n",
       "\n",
       "    .dataframe thead th {\n",
       "        text-align: right;\n",
       "    }\n",
       "</style>\n",
       "<table border=\"1\" class=\"dataframe\">\n",
       "  <thead>\n",
       "    <tr style=\"text-align: right;\">\n",
       "      <th></th>\n",
       "      <th>Group_Number</th>\n",
       "      <th>Group_Index</th>\n",
       "      <th>URL_probabilities</th>\n",
       "      <th>URL_original</th>\n",
       "      <th>PathName_probabilities</th>\n",
       "      <th>PathName_original</th>\n",
       "      <th>FileName_probabilities</th>\n",
       "      <th>FileName_original</th>\n",
       "      <th>Series_probabilities</th>\n",
       "      <th>Series_original</th>\n",
       "      <th>Frame_probabilities</th>\n",
       "      <th>Frame_original</th>\n",
       "      <th>Channel_probabilities</th>\n",
       "      <th>Channel_original</th>\n",
       "      <th>Metadata_Frame</th>\n",
       "    </tr>\n",
       "  </thead>\n",
       "  <tbody>\n",
       "    <tr>\n",
       "      <th>0</th>\n",
       "      <td>1</td>\n",
       "      <td>1</td>\n",
       "      <td>file:///home/host_home/figures/automated_image...</td>\n",
       "      <td>file:///home/host_home/figures/automated_image...</td>\n",
       "      <td>/home/host_home/figures/automated_image_analys...</td>\n",
       "      <td>/home/host_home/figures/automated_image_analys...</td>\n",
       "      <td>STELLA_sA800_semiauto_Merge_50-20_A06_D7_Proba...</td>\n",
       "      <td>STELLA_sA800_semiauto_Merge_50-20_A06_D7.tif</td>\n",
       "      <td>0</td>\n",
       "      <td>0</td>\n",
       "      <td>0</td>\n",
       "      <td>0</td>\n",
       "      <td>-1</td>\n",
       "      <td>-1</td>\n",
       "      <td>0</td>\n",
       "    </tr>\n",
       "  </tbody>\n",
       "</table>\n",
       "</div>"
      ],
      "text/plain": [
       "   Group_Number  Group_Index  \\\n",
       "0             1            1   \n",
       "\n",
       "                                   URL_probabilities  \\\n",
       "0  file:///home/host_home/figures/automated_image...   \n",
       "\n",
       "                                        URL_original  \\\n",
       "0  file:///home/host_home/figures/automated_image...   \n",
       "\n",
       "                              PathName_probabilities  \\\n",
       "0  /home/host_home/figures/automated_image_analys...   \n",
       "\n",
       "                                   PathName_original  \\\n",
       "0  /home/host_home/figures/automated_image_analys...   \n",
       "\n",
       "                              FileName_probabilities  \\\n",
       "0  STELLA_sA800_semiauto_Merge_50-20_A06_D7_Proba...   \n",
       "\n",
       "                              FileName_original  Series_probabilities  \\\n",
       "0  STELLA_sA800_semiauto_Merge_50-20_A06_D7.tif                     0   \n",
       "\n",
       "   Series_original  Frame_probabilities  Frame_original  \\\n",
       "0                0                    0               0   \n",
       "\n",
       "   Channel_probabilities  Channel_original  Metadata_Frame  \n",
       "0                     -1                -1               0  "
      ]
     },
     "execution_count": 432,
     "metadata": {},
     "output_type": "execute_result"
    }
   ],
   "source": [
    "probabilitiestif = results_folder / 'ilastik/probabilities' / Path(image_path.stem + '_Probabilities_ch2.tif')\n",
    "original_image_path = image_path.parents[0] / 'original' / str(image_path.name[:-5]+'.tif')\n",
    "\n",
    "d = {'Group_Number': [1],\n",
    "     'Group_Index': [1],\n",
    "     'URL_probabilities': [probabilitiestif.as_uri()],\n",
    "     'URL_original': [original_image_path.as_uri()],\n",
    "     'PathName_probabilities': [str(probabilitiestif.parents[0])],\n",
    "     'PathName_original': [str(original_image_path.parents[0])],\n",
    "     'FileName_probabilities': [probabilitiestif.name],\n",
    "     'FileName_original': [original_image_path.name],\n",
    "     'Series_probabilities': [0],\n",
    "     'Series_original': [0],\n",
    "     'Frame_probabilities': [0],\n",
    "     'Frame_original': [0],\n",
    "     'Channel_probabilities': [-1],\n",
    "     'Channel_original': [-1],\n",
    "     # 'Metadata_ChannelNumber': ['nan']\n",
    "     # 'Metadata_FileLocation': ['nan'],\n",
    "     'Metadata_Frame': [0],\n",
    "     # 'Metadata_Plate':['nan'],\n",
    "     # 'Metadata_Series':[0],\n",
    "     # 'Metadata_Site':['nan'],\n",
    "     # 'Metadata_Well':['nan']\n",
    "    }\n",
    "\n",
    "df = DataFrame(d)\n",
    "\n",
    "df"
   ]
  },
  {
   "cell_type": "markdown",
   "id": "4fb86e50-deea-46c8-8866-8d67d8335e17",
   "metadata": {},
   "source": [
    "Write ```load_input.csv``` file"
   ]
  },
  {
   "cell_type": "code",
   "execution_count": 433,
   "id": "cc9d173b-fe72-444a-9f16-afc2cdeed18b",
   "metadata": {},
   "outputs": [],
   "source": [
    "loadinput_file = results_folder / Path('cellprofiler/load_input.csv')\n",
    "\n",
    "loadinput_file.parent.mkdir(parents=True, exist_ok=True)\n",
    "\n",
    "df.to_csv(str(loadinput_file), index=False)"
   ]
  },
  {
   "cell_type": "markdown",
   "id": "77509c6d-7cd3-453f-8f22-324565f4adc7",
   "metadata": {},
   "source": [
    "### Run Cell Profiler analysis for spheroid segmentation"
   ]
  },
  {
   "cell_type": "code",
   "execution_count": 434,
   "id": "92df2f2a-1975-4ae0-8d5c-781e3f2281e4",
   "metadata": {},
   "outputs": [
    {
     "name": "stdout",
     "output_type": "stream",
     "text": [
      "It is an image from an Aggrewell800\n"
     ]
    }
   ],
   "source": [
    "if \"A800\" in imagefile:\n",
    "    cellpro_pipeline = 'stella/20220315_cp_stella_filters_manual_A800.cpproj'\n",
    "    print(\"It is an image from an Aggrewell800\")\n",
    "else:\n",
    "    if \"A400\" in imagefile:\n",
    "        cellpro_pipeline = 'stella/20220315_cp_stella_filters_manual_A400.cpproj'\n",
    "        print(\"It is an image from an Aggrewell400\")\n",
    "    else: \n",
    "        print(\"Image path must contain A800 or A400\")"
   ]
  },
  {
   "cell_type": "code",
   "execution_count": 435,
   "id": "c68caa6b-4281-4b07-9f6b-5b66be5b8a07",
   "metadata": {},
   "outputs": [
    {
     "data": {
      "text/plain": [
       "'/opt/conda/envs/cprofiler/bin/cellprofiler -c -p \"/home/host_home/figures/automated_image_analysis/semi_automated/stella/20220315_cp_stella_filters_manual_A800.cpproj\" -o \"/home/host_home/figures/automated_image_analysis/semi_automated/stella/output/images/STELLA_sA800_semiauto_Merge_50-20_A06_D7/cellprofiler\" --data-file \"/home/host_home/figures/automated_image_analysis/semi_automated/stella/output/images/STELLA_sA800_semiauto_Merge_50-20_A06_D7/cellprofiler/load_input.csv\"'"
      ]
     },
     "execution_count": 435,
     "metadata": {},
     "output_type": "execute_result"
    }
   ],
   "source": [
    "cellpro_pipeline_path = str(Path(cellpro_pipeline).resolve())\n",
    "cellpro_folder = results_folder / 'cellprofiler'\n",
    "cellpro_folder_path = str(Path(cellpro_folder).resolve())\n",
    "\n",
    "options = ['-c',\n",
    "           '-p \"' + cellpro_pipeline_path + '\"',\n",
    "           '-o \"' + cellpro_folder_path + '\"',\n",
    "           '--data-file \"' + str(loadinput_file) + '\"'\n",
    "          ]\n",
    "\n",
    "command = [cellprofiler_software] + options\n",
    "command = ' '.join(command)\n",
    "command"
   ]
  },
  {
   "cell_type": "code",
   "execution_count": 436,
   "id": "6dbdb8ac-d40e-4a47-b8f6-723314f8fe93",
   "metadata": {},
   "outputs": [
    {
     "name": "stderr",
     "output_type": "stream",
     "text": [
      "Times reported are CPU and Wall-clock times for each module\n",
      "Mon Aug 22 11:38:50 2022: Image # 1, module LoadData # 1: CPU_time = 1.68 secs, Wall_time = 0.81 secs\n",
      "Mon Aug 22 11:38:51 2022: Image # 1, module RescaleIntensity # 2: CPU_time = 0.68 secs, Wall_time = 0.56 secs\n",
      "Mon Aug 22 11:38:52 2022: Image # 1, module ColorToGray # 3: CPU_time = 0.04 secs, Wall_time = 0.04 secs\n",
      "Mon Aug 22 11:38:52 2022: Image # 1, module IdentifyPrimaryObjects # 4: CPU_time = 1.04 secs, Wall_time = 1.04 secs\n",
      "Mon Aug 22 11:38:53 2022: Image # 1, module MeasureObjectSizeShape # 5: CPU_time = 0.27 secs, Wall_time = 0.27 secs\n",
      "Mon Aug 22 11:38:53 2022: Image # 1, module FilterObjects # 6: CPU_time = 0.24 secs, Wall_time = 0.24 secs\n",
      "Mon Aug 22 11:38:53 2022: Image # 1, module MeasureObjectSizeShape # 7: CPU_time = 0.22 secs, Wall_time = 0.21 secs\n",
      "Mon Aug 22 11:38:53 2022: Image # 1, module MeasureTexture # 8: CPU_time = 25.37 secs, Wall_time = 1.64 secs\n",
      "Mon Aug 22 11:38:55 2022: Image # 1, module MeasureObjectIntensityDistribution # 9: CPU_time = 0.55 secs, Wall_time = 0.55 secs\n",
      "Mon Aug 22 11:38:56 2022: Image # 1, module MeasureObjectIntensity # 10: CPU_time = 0.16 secs, Wall_time = 0.17 secs\n",
      "Mon Aug 22 11:38:56 2022: Image # 1, module OverlayObjects # 11: CPU_time = 0.78 secs, Wall_time = 0.78 secs\n",
      "Mon Aug 22 11:38:57 2022: Image # 1, module SaveImages # 12: CPU_time = 0.38 secs, Wall_time = 0.42 secs\n",
      "Mon Aug 22 11:38:57 2022: Image # 1, module ExportToSpreadsheet # 13: CPU_time = 0.00 secs, Wall_time = 0.00 secs\n"
     ]
    }
   ],
   "source": [
    "if run_cellpro:\n",
    "    process = Popen(command, shell=True, stdout=PIPE)\n",
    "    # Poll process.stdout to show stdout live\n",
    "    while True:\n",
    "      output = process.stdout.readline()\n",
    "      if process.poll() is not None:\n",
    "        break\n",
    "      if output:\n",
    "        print(output.strip().decode('utf-8'))"
   ]
  },
  {
   "cell_type": "markdown",
   "id": "0ce11346-21d4-41e7-97eb-740df04ed553",
   "metadata": {},
   "source": [
    "# Workflow for grid detection from brightfield microscopy images"
   ]
  },
  {
   "cell_type": "markdown",
   "id": "62e37913-20ba-45a2-9721-886dcf46df0f",
   "metadata": {},
   "source": [
    "## Ilastik - pixel classification"
   ]
  },
  {
   "cell_type": "markdown",
   "id": "a35436d0-5348-4269-af77-07f5b77e26b3",
   "metadata": {},
   "source": [
    "### Simple segmentation\n",
    "\n",
    "Ilastik outputs a binary tif file. "
   ]
  },
  {
   "cell_type": "code",
   "execution_count": 437,
   "id": "1e5f9072-b203-4e8b-9b8b-62d09ca7af7c",
   "metadata": {},
   "outputs": [],
   "source": [
    "# the following line of code tells ilastik to create \n",
    "# a folder with the same name of the image where \n",
    "# results in .h5 format will be stored\n",
    "output_format = folder_path / '{nickname}/ilastik/probabilities/{nickname}_{result_type}.tif'"
   ]
  },
  {
   "cell_type": "code",
   "execution_count": 438,
   "id": "5cff8117-6e3f-4b39-a65d-25970a7b5251",
   "metadata": {},
   "outputs": [
    {
     "data": {
      "text/plain": [
       "'/ilastik/ilastik-1.3.3post3-Linux/run_ilastik.sh --headless --project=/home/host_home/figures/automated_image_analysis/semi_automated/stella/20220525_stella_manual_GridDetection_pixelclassification.ilp --export_source=simple segmentation --output_filename_format=/home/host_home/figures/automated_image_analysis/semi_automated/stella/output/images/{nickname}/ilastik/probabilities/{nickname}_{result_type}.tif /home/host_home/figures/automated_image_analysis/semi_automated/stella/input/STELLA_sA800_semiauto_Merge_50-20_A06_D7.hdf5'"
      ]
     },
     "execution_count": 438,
     "metadata": {},
     "output_type": "execute_result"
    }
   ],
   "source": [
    "ilastik_project_path = str(Path(grid_ilastik_project).resolve())\n",
    "\n",
    "# ilastikexpsource = 'probabilities'\n",
    "ilastikexpsource = 'simple segmentation'\n",
    "\n",
    "options = ['--headless',\n",
    "           '--project=' + ilastik_project_path,\n",
    "           '--export_source=' + ilastikexpsource,\n",
    "           '--output_filename_format=' + str(output_format),\n",
    "           str(image_path)\n",
    "          ]\n",
    "\n",
    "command = [ilastik_software] + options\n",
    "' '.join(command)"
   ]
  },
  {
   "cell_type": "code",
   "execution_count": 439,
   "id": "8c00f3ec-10a3-4992-86bb-18e683c8da00",
   "metadata": {},
   "outputs": [
    {
     "name": "stderr",
     "output_type": "stream",
     "text": [
      "Warning: Ignoring your non-empty LD_LIBRARY_PATH\n",
      "/ilastik/ilastik-1.3.3post3-Linux/ilastik-meta/lazyflow/lazyflow/classifiers/__init__.py:20: UserWarning: init: Could not import tiktorch classifier\n",
      "  warnings.warn(\"init: Could not import tiktorch classifier\")\n"
     ]
    },
    {
     "name": "stdout",
     "output_type": "stream",
     "text": [
      "INFO ilastik_main: Starting ilastik from \"/ilastik/ilastik-1.3.3post3-Linux\".\n"
     ]
    },
    {
     "name": "stderr",
     "output_type": "stream",
     "text": [
      "WARNING 2022-08-22 11:38:59,290 opConservationTracking 4144 140286657107776 Could not find any ILP solver\n",
      "WARNING 2022-08-22 11:38:59,298 opStructuredTracking 4144 140286657107776 Could not find any ILP solver\n",
      "WARNING 2022-08-22 11:38:59,299 structuredTrackingWorkflow 4144 140286657107776 Could not find any learning solver. Tracking will use flow-based solver (DPCT). Learning for tracking will be disabled!\n"
     ]
    },
    {
     "name": "stdout",
     "output_type": "stream",
     "text": [
      "Starting ilastik from \"/ilastik/ilastik-1.3.3post3-Linux\".\n",
      "INFO ilastik.shell.projectManager: Opening Project: /home/host_home/figures/automated_image_analysis/semi_automated/stella/20220525_stella_manual_GridDetection_pixelclassification.ilp\n"
     ]
    },
    {
     "name": "stderr",
     "output_type": "stream",
     "text": [
      "WARNING dataset.py(313): H5pyDeprecationWarning: dataset.value has been deprecated. Use dataset[()] instead.\n",
      "WARNING opSimpleBlockedArrayCache.py(43): FutureWarning: Conversion of the second argument of issubdtype from `dtype` to `np.generic` is deprecated. In future, it will be treated as `np.object_ == np.dtype(dtype).type`.\n",
      "WARNING opSlicedBlockedArrayCache.py(141): FutureWarning: Conversion of the second argument of issubdtype from `dtype` to `np.generic` is deprecated. In future, it will be treated as `np.object_ == np.dtype(dtype).type`.\n"
     ]
    },
    {
     "name": "stdout",
     "output_type": "stream",
     "text": [
      "INFO ilastik.workflows.pixelClassification.pixelClassificationWorkflow: Beginning Batch Processing\n",
      "INFO ilastik.applets.batchProcessing.batchProcessingApplet: Exporting to /home/host_home/figures/automated_image_analysis/semi_automated/stella/output/images/STELLA_sA800_semiauto_Merge_50-20_A06_D7/ilastik/probabilities/STELLA_sA800_semiauto_Merge_50-20_A06_D7_Simple Segmentation.tif\n",
      "INFO lazyflow.utility.bigRequestStreamer: Estimated RAM usage per pixel is 652.0B * safety factor (2.0)\n",
      "INFO lazyflow.utility.bigRequestStreamer: determining blockshape assuming available_ram is 4.8GiB, split between 8 threads\n",
      "INFO lazyflow.utility.bigRequestStreamer: Chose blockshape: (704, 704, 2)\n",
      "INFO lazyflow.utility.bigRequestStreamer: Estimated RAM usage per block is 616.3MiB\n",
      "DEBUG lazyflow.operators.classifierOperators: Features took 2.233556 seconds. Prediction took 2.283727 seconds. Subregion: start '[0, 0, 0]' stop '[704, 704, 2]'\n",
      "DEBUG lazyflow.operators.classifierOperators: Features took 2.261537 seconds. Prediction took 2.417404 seconds. Subregion: start '[0, 1408, 0]' stop '[704, 1600, 2]'\n",
      "DEBUG lazyflow.operators.classifierOperators: Features took 3.536192 seconds. Prediction took 1.324941 seconds. Subregion: start '[0, 704, 0]' stop '[704, 1408, 2]'\n",
      "DEBUG lazyflow.operators.classifierOperators: Features took 5.254445 seconds. Prediction took 0.780534 seconds. Subregion: start '[704, 0, 0]' stop '[1200, 704, 2]'\n",
      "DEBUG lazyflow.operators.classifierOperators: Features took 6.056212 seconds. Prediction took 0.890443 seconds. Subregion: start '[704, 704, 0]' stop '[1200, 1408, 2]'\n",
      "DEBUG lazyflow.operators.classifierOperators: Features took 6.703488 seconds. Prediction took 0.236103 seconds. Subregion: start '[704, 1408, 0]' stop '[1200, 1600, 2]'\n",
      "INFO ilastik.workflows.pixelClassification.pixelClassificationWorkflow: Completed Batch Processing\n"
     ]
    }
   ],
   "source": [
    "if run_ilastik:\n",
    "    subprocess.call(command)"
   ]
  },
  {
   "cell_type": "markdown",
   "id": "6404cfde-0bd8-45c8-b259-98cc64f5d273",
   "metadata": {},
   "source": [
    "## Python grid detection and well identification"
   ]
  },
  {
   "cell_type": "markdown",
   "id": "f3cf8475-0d61-4f6e-aed0-b382f4a2e7d0",
   "metadata": {},
   "source": [
    "### Select grid image"
   ]
  },
  {
   "cell_type": "code",
   "execution_count": 440,
   "id": "134fd0e8-4bf8-4c8b-9761-98c1b96a3d1e",
   "metadata": {},
   "outputs": [],
   "source": [
    "grid_image_folder = results_folder/'ilastik'/'probabilities'\n",
    "grid_image_name = image_path.stem + '_Simple Segmentation.tif'\n",
    "grid_image_file = grid_image_folder/grid_image_name\n",
    "grid_filepath = str(grid_image_file)"
   ]
  },
  {
   "cell_type": "code",
   "execution_count": 441,
   "id": "365ae826-a03b-4dee-8b73-f1f15ffa5b3f",
   "metadata": {},
   "outputs": [
    {
     "name": "stdout",
     "output_type": "stream",
     "text": [
      "It is an aggrewell800 image.\n"
     ]
    }
   ],
   "source": [
    "if \"A400\" in grid_filepath:\n",
    "    platform = \"A400\"\n",
    "    print(\"It is an aggrewell400 image.\")\n",
    "else:\n",
    "    if \"A800\" in grid_filepath:\n",
    "        platform = \"A800\"\n",
    "        print(\"It is an aggrewell800 image.\")\n",
    "    else:\n",
    "        print(\"Define the platform by specifying 'A400' or 'A800' in the filename.\")"
   ]
  },
  {
   "cell_type": "code",
   "execution_count": 442,
   "id": "cd6391f2-1d4d-4bec-b00a-d9a01f812bd0",
   "metadata": {
    "tags": []
   },
   "outputs": [
    {
     "data": {
      "text/plain": [
       "(1200, 1600)"
      ]
     },
     "execution_count": 442,
     "metadata": {},
     "output_type": "execute_result"
    }
   ],
   "source": [
    "im = imageio.imread(grid_filepath) - 1\n",
    "im.shape"
   ]
  },
  {
   "cell_type": "code",
   "execution_count": 443,
   "id": "c2ac3fa9-26b3-4883-a937-2a030d67c694",
   "metadata": {},
   "outputs": [
    {
     "data": {
      "text/plain": [
       "<matplotlib.image.AxesImage at 0x7f5c048c49d0>"
      ]
     },
     "execution_count": 443,
     "metadata": {},
     "output_type": "execute_result"
    },
    {
     "data": {
      "image/png": "[encoded data removed]",
      "text/plain": [
       "<Figure size 720x720 with 1 Axes>"
      ]
     },
     "metadata": {
      "needs_background": "light"
     },
     "output_type": "display_data"
    }
   ],
   "source": [
    "plt.imshow(im)"
   ]
  },
  {
   "cell_type": "markdown",
   "id": "b0c30bb3-40b5-49f9-b3bc-7a44447beabe",
   "metadata": {},
   "source": [
    "### Dilate image to connect all grids"
   ]
  },
  {
   "cell_type": "markdown",
   "id": "850498a6-cb58-4c61-96fa-bc55c7419dd7",
   "metadata": {},
   "source": [
    "[link](https://www.geeksforgeeks.org/erosion-dilation-images-using-opencv-python/)"
   ]
  },
  {
   "cell_type": "code",
   "execution_count": 444,
   "id": "63e6f6ac-4784-491a-9503-2be4a4028a1a",
   "metadata": {},
   "outputs": [],
   "source": [
    "# Taking a matrix of size 5 as the kernel\n",
    "kernel = np.ones((5,5), np.uint8)"
   ]
  },
  {
   "cell_type": "code",
   "execution_count": 445,
   "id": "161af3c4-f53a-4528-82ff-6b2b4cbe3d49",
   "metadata": {},
   "outputs": [
    {
     "data": {
      "text/plain": [
       "(1200, 1600)"
      ]
     },
     "execution_count": 445,
     "metadata": {},
     "output_type": "execute_result"
    }
   ],
   "source": [
    "# The first parameter is the original image,\n",
    "# kernel is the matrix with which image is\n",
    "# convolved and third parameter is the number\n",
    "# of iterations, which will determine how much\n",
    "# you want to erode/dilate a given image.\n",
    "img_dilation = cv2.dilate(im, kernel, iterations=2)\n",
    "img_dilation.shape"
   ]
  },
  {
   "cell_type": "markdown",
   "id": "aeb0291e-e53a-4427-bcb2-b611b752e6dc",
   "metadata": {},
   "source": [
    "### Extract the largest connected component in the image\n",
    "\n",
    "[link](https://stackoverflow.com/questions/47055771/how-to-extract-the-largest-connected-component-using-opencv-and-python)"
   ]
  },
  {
   "cell_type": "code",
   "execution_count": 446,
   "id": "58a53f8b-156d-4c00-887d-62a735d31533",
   "metadata": {},
   "outputs": [],
   "source": [
    "# connectedComponentsWithStats expects a uint8 image as imput. \n",
    "img_dilation = np.uint8(img_dilation)"
   ]
  },
  {
   "cell_type": "code",
   "execution_count": 447,
   "id": "f0b67032-9dd6-4330-b77f-53de30845991",
   "metadata": {},
   "outputs": [],
   "source": [
    "nb_components, output, stats, centroids = cv2.connectedComponentsWithStats(img_dilation, connectivity=8)"
   ]
  },
  {
   "cell_type": "code",
   "execution_count": 448,
   "id": "0857aaf7-7cc6-45cb-a9da-614112f6d518",
   "metadata": {},
   "outputs": [],
   "source": [
    "sizes = stats[:, -1]"
   ]
  },
  {
   "cell_type": "code",
   "execution_count": 449,
   "id": "071a73fe-8f98-41ee-a5fb-952605327781",
   "metadata": {},
   "outputs": [],
   "source": [
    "max_label = 1\n",
    "max_size = sizes[1]\n",
    "for i in range(2, nb_components):\n",
    "    if sizes[i] > max_size:\n",
    "        max_label = i\n",
    "        max_size = sizes[i]"
   ]
  },
  {
   "cell_type": "code",
   "execution_count": 450,
   "id": "472a6f73-babb-4b3f-b345-a495a340c58b",
   "metadata": {},
   "outputs": [],
   "source": [
    "img_largest_component = np.zeros(output.shape).astype(np.uint8)\n",
    "img_largest_component[output == max_label] = 1"
   ]
  },
  {
   "cell_type": "markdown",
   "id": "0707b2c3-862c-415e-9e38-72ba351302db",
   "metadata": {},
   "source": [
    "### Contour detection in openCV\n",
    "[link](https://www.thepythoncode.com/article/contour-detection-opencv-python)"
   ]
  },
  {
   "cell_type": "code",
   "execution_count": 451,
   "id": "fc584967-975d-47d9-8597-13359b21bcfc",
   "metadata": {},
   "outputs": [],
   "source": [
    "# find the contours from the skeletonized image\n",
    "contours, hierarchy = cv2.findContours(img_largest_component, cv2.RETR_TREE, cv2.CHAIN_APPROX_SIMPLE)"
   ]
  },
  {
   "cell_type": "markdown",
   "id": "e42dd370-718a-4293-ab9c-3e6527948180",
   "metadata": {},
   "source": [
    "Each individual contour is a Numpy array of (x,y) coordinates of boundary points of the object."
   ]
  },
  {
   "cell_type": "code",
   "execution_count": 452,
   "id": "251ea984-862e-44f0-82fe-3e14b73a3ca0",
   "metadata": {},
   "outputs": [
    {
     "data": {
      "text/plain": [
       "176"
      ]
     },
     "execution_count": 452,
     "metadata": {},
     "output_type": "execute_result"
    }
   ],
   "source": [
    "len(contours)"
   ]
  },
  {
   "cell_type": "markdown",
   "id": "f7adb131-7e6a-45e9-a65d-7e1c1d121d44",
   "metadata": {},
   "source": [
    "### Get contour points for all contours"
   ]
  },
  {
   "cell_type": "markdown",
   "id": "a5aa1ba1-2a82-43c4-951a-2e856768754c",
   "metadata": {},
   "source": [
    "As an A400 has a theoretical maximum of 1200 µwells, an A800 has a maximum of 300 µwells, and their dimensions are known, we can filter some of the false contours that are too small or not in the correct shape. "
   ]
  },
  {
   "cell_type": "code",
   "execution_count": 453,
   "id": "fb526a65-c1f1-48be-80a9-c5faf902d15d",
   "metadata": {},
   "outputs": [
    {
     "name": "stdout",
     "output_type": "stream",
     "text": [
      "[[nan nan nan ... nan nan nan]\n",
      " [nan nan nan ... nan nan nan]\n",
      " [nan nan nan ... nan nan nan]\n",
      " ...\n",
      " [nan nan nan ... nan nan nan]\n",
      " [nan nan nan ... nan nan nan]\n",
      " [nan nan nan ... nan nan nan]]\n"
     ]
    },
    {
     "data": {
      "text/plain": [
       "(177, 12)"
      ]
     },
     "execution_count": 453,
     "metadata": {},
     "output_type": "execute_result"
    }
   ],
   "source": [
    "# Initialize array\n",
    "# columns: \"contour_nr\", \"perimeter\", \"wellwidth\",\"to_filter\"\n",
    "# \"X1\",\"Y1\",\"X2\",\"Y2\",\"X3\",\"Y3\",\"X4\",\"Y4\"\n",
    "nparr = np.empty([len(contours)+1,12])\n",
    "nparr[:] = np.NaN\n",
    "print(nparr)\n",
    "nparr.shape\n",
    "# contour_well_width = list(range(0,len(contours[0:20])))"
   ]
  },
  {
   "cell_type": "code",
   "execution_count": 454,
   "id": "dec343f8-bc7d-43dc-97cb-2e9ab61f5370",
   "metadata": {},
   "outputs": [],
   "source": [
    "for i in list(range(0,len(contours))):\n",
    "    id_cont = i\n",
    "    # Contour approximation to 4 points\n",
    "    epsilon = 0.1*cv2.arcLength(contours[id_cont],True)\n",
    "    approx = cv2.approxPolyDP(contours[id_cont],epsilon,True)\n",
    "    approx = approx.reshape((-1, 2))\n",
    "    perimeter_approx = cv2.arcLength(approx,True)\n",
    "    positions = np.concatenate(approx)\n",
    "    \n",
    "    # First filter: select only the contours with 4 corners.\n",
    "    if len(positions) == 8:\n",
    "        nparr[i,0] = i # contour number\n",
    "        nparr[i,1] = perimeter_approx # approximated perimeter\n",
    "        nparr[i,2] = perimeter_approx/4 # approximated well width\n",
    "        nparr[i,4:12] = positions\n",
    "        # Second filter based on known well width (+-130 for A400 and +-260 for A800)\n",
    "        if platform == \"A400\" and nparr[i,2] > 30 and nparr[i,2] < 60:\n",
    "            nparr[i,3] = 1\n",
    "        else:\n",
    "            if platform == \"A800\" and nparr[i,2] > 60 and nparr[i,2] < 90 :\n",
    "                nparr[i,3] = 1\n",
    "            else:\n",
    "                nparr[i,3] = 0 "
   ]
  },
  {
   "cell_type": "code",
   "execution_count": 455,
   "id": "d61dd700-9c17-422d-91ec-2696f2adb7b7",
   "metadata": {},
   "outputs": [
    {
     "name": "stdout",
     "output_type": "stream",
     "text": [
      "Amount of microwells detected: 170\n",
      "Average microwell size (pxl): 79.18951136084164\n"
     ]
    }
   ],
   "source": [
    "filtered = nparr[:,3] == 1\n",
    "filtered_contours = nparr[filtered]\n",
    "print('Amount of microwells detected: ' + str(len(filtered_contours)))\n",
    "print('Average microwell size (pxl): ' + str(np.average(filtered_contours[:,2])))"
   ]
  },
  {
   "cell_type": "markdown",
   "id": "e663bc8b-f3c0-4f7a-8a26-3177d5598b3f",
   "metadata": {},
   "source": [
    "The inner microwell size of an A400 is 40 pxl. \n",
    "\n",
    "The inner microwell size of an A800 is 80 pxl."
   ]
  },
  {
   "cell_type": "code",
   "execution_count": 456,
   "id": "013373c3-afdd-4158-b13c-a79e0e802b2d",
   "metadata": {},
   "outputs": [],
   "source": [
    "# plt.hist(filtered_contours[:,2],bins=10)"
   ]
  },
  {
   "cell_type": "markdown",
   "id": "555a4a2b-75f5-4393-a804-b9d7c4047ab4",
   "metadata": {},
   "source": [
    "### Draw detected contours"
   ]
  },
  {
   "cell_type": "code",
   "execution_count": 457,
   "id": "9ec858e9-e723-4f9c-993f-0766ada40ee1",
   "metadata": {},
   "outputs": [],
   "source": [
    "# plt.scatter(x=filtered_contours[:,4], y=filtered_contours[:,5])\n",
    "# plt.scatter(x=filtered_contours[:,6], y=filtered_contours[:,7])\n",
    "# plt.scatter(x=filtered_contours[:,8], y=filtered_contours[:,9])\n",
    "# plt.scatter(x=filtered_contours[:,10], y=filtered_contours[:,11])\n",
    "# plt.show()"
   ]
  },
  {
   "cell_type": "markdown",
   "id": "f34d3450-3242-4a15-9bfb-a4b4b90b6cd8",
   "metadata": {
    "tags": []
   },
   "source": [
    "# Save the results as a .csv dataframe with Pandas"
   ]
  },
  {
   "cell_type": "code",
   "execution_count": 458,
   "id": "5caf7ee7-174a-432c-9836-ddfbf57975a7",
   "metadata": {},
   "outputs": [],
   "source": [
    "results_csv = image_path.stem + '_grid.csv'"
   ]
  },
  {
   "cell_type": "code",
   "execution_count": 459,
   "id": "b128534b-4058-4fec-bdb0-10a3bd5d1989",
   "metadata": {},
   "outputs": [],
   "source": [
    "# columns: \"contour_nr\", \"perimeter\", \"wellwidth\",\"to_filter\"\n",
    "# \"X1\",\"Y1\",\"X2\",\"Y2\",\"X3\",\"Y3\",\"X4\",\"Y4\"\n",
    "\n",
    "df = DataFrame({\"nr\" : filtered_contours[:,0],\n",
    "                   \"perimeter\" : filtered_contours[:,1], \n",
    "                   \"wellwidth\" : filtered_contours[:,2],\n",
    "                   \"X1\" : filtered_contours[:,4],\n",
    "                   \"Y1\" : filtered_contours[:,5],\n",
    "                   \"X2\" : filtered_contours[:,6],\n",
    "                   \"Y2\" : filtered_contours[:,7],\n",
    "                   \"X3\" : filtered_contours[:,8],\n",
    "                   \"Y3\" : filtered_contours[:,9],\n",
    "                   \"X4\" : filtered_contours[:,10],\n",
    "                   \"Y4\" : filtered_contours[:,11]})\n",
    "df.to_csv(results_folder/results_csv)"
   ]
  },
  {
   "cell_type": "markdown",
   "id": "722cb148-09d6-4d50-ad60-db6c65e8af34",
   "metadata": {},
   "source": [
    "# Run R script for image analysis"
   ]
  },
  {
   "cell_type": "code",
   "execution_count": 460,
   "id": "cb2b3e07-30b3-49a6-b80d-9d6181b4cc4e",
   "metadata": {},
   "outputs": [
    {
     "data": {
      "text/plain": [
       "PosixPath('/home/host_home/figures/automated_image_analysis/semi_automated/stella/output/images/STELLA_sA800_semiauto_Merge_50-20_A06_D7')"
      ]
     },
     "execution_count": 460,
     "metadata": {},
     "output_type": "execute_result"
    }
   ],
   "source": [
    "results_folder"
   ]
  },
  {
   "cell_type": "code",
   "execution_count": 461,
   "id": "81258127-da5a-4270-886a-cb41a22e6d76",
   "metadata": {},
   "outputs": [],
   "source": [
    "notebookname = 'R_image_analysis_Manual.ipynb'"
   ]
  },
  {
   "cell_type": "code",
   "execution_count": 462,
   "id": "cd9d72ca-62e8-4bc5-8bb3-d23696ff3ca2",
   "metadata": {},
   "outputs": [
    {
     "name": "stdout",
     "output_type": "stream",
     "text": [
      "\n",
      "\n",
      "---------- Processing image data /home/host_home/figures/automated_image_analysis/semi_automated/stella/output/images/STELLA_sA800_semiauto_Merge_50-20_A06_D7 ----------\n",
      "\n",
      "\n"
     ]
    },
    {
     "name": "stderr",
     "output_type": "stream",
     "text": [
      "Input Notebook:  R_image_analysis_Manual.ipynb\n",
      "Output Notebook: Image_DataAnalysis.ipynb\n",
      "Executing:   0%|          | 0/44 [00:00<?, ?cell/s]Executing notebook with kernel: ir\n",
      "Executing: 100%|██████████| 44/44 [00:07<00:00,  6.13cell/s]\n"
     ]
    },
    {
     "data": {
      "text/plain": [
       "0"
      ]
     },
     "execution_count": 462,
     "metadata": {},
     "output_type": "execute_result"
    }
   ],
   "source": [
    "print('\\n\\n---------- Processing image data ' + str(results_folder) + ' ----------\\n\\n')\n",
    "\n",
    "command = 'papermill ' + notebookname + ' Image_DataAnalysis.ipynb -p results_folder ' + str(results_folder) + ' -k ir'\n",
    "\n",
    "process = Popen(command, shell=True, stdout=PIPE)\n",
    "# Poll process.stdout to show stdout live\n",
    "while True:\n",
    "  output = process.stdout.readline()\n",
    "  if process.poll() is not None:\n",
    "    break\n",
    "  if output:\n",
    "    print(output.strip().decode('utf-8'))\n",
    "        \n",
    "#subprocess.call(command)\n",
    "os.system('rm Image_DataAnalysis.ipynb')"
   ]
  }
 ],
 "metadata": {
  "kernelspec": {
   "display_name": "Python 3 (ipykernel)",
   "language": "python",
   "name": "python3"
  },
  "language_info": {
   "codemirror_mode": {
    "name": "ipython",
    "version": 3
   },
   "file_extension": ".py",
   "mimetype": "text/x-python",
   "name": "python",
   "nbconvert_exporter": "python",
   "pygments_lexer": "ipython3",
   "version": "3.9.7"
  }
 },
 "nbformat": 4,
 "nbformat_minor": 5
}

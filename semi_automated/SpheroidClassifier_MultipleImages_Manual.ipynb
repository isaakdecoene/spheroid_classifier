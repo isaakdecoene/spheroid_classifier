{
 "cells": [
  {
   "cell_type": "markdown",
   "id": "755816f3-9e96-4f5a-9605-0933fc2a5414",
   "metadata": {},
   "source": [
    "# Workflow for spheroid classification from brightfield microscopy images"
   ]
  },
  {
   "cell_type": "markdown",
   "id": "0df038bf-2101-4f6d-b3ae-a4742fa48cf4",
   "metadata": {},
   "source": [
    "## Load packages"
   ]
  },
  {
   "cell_type": "code",
   "execution_count": 5,
   "id": "fa92fae7-2940-4885-b915-d1b275a81d6c",
   "metadata": {},
   "outputs": [],
   "source": [
    "import os\n",
    "from IPython.display import clear_output\n",
    "from subprocess import Popen, PIPE"
   ]
  },
  {
   "cell_type": "markdown",
   "id": "a83f8a02-e9b1-4e58-a440-45d7f244db37",
   "metadata": {
    "tags": []
   },
   "source": [
    "## <span style=\"color:red\"> INPUT - Select images in the directory</span>\n",
    "\n",
    "```path_to_images``` is the path of the folder with all images **RELATIVE** to the location of the current notebook"
   ]
  },
  {
   "cell_type": "code",
   "execution_count": 6,
   "id": "c54e4a2f-a466-4e04-93f4-db9c927a8a39",
   "metadata": {},
   "outputs": [
    {
     "data": {
      "text/plain": [
       "['stella/input/STELLA_sA400_semiauto_Merge_100-10_C01_D7.hdf5',\n",
       " 'stella/input/STELLA_sA400_semiauto_Merge_100-10_C03_D14.hdf5',\n",
       " 'stella/input/STELLA_sA400_semiauto_Merge_100-10_C03_D21.hdf5',\n",
       " 'stella/input/STELLA_sA400_semiauto_Merge_100-10_C03_D7.hdf5',\n",
       " 'stella/input/STELLA_sA400_semiauto_Merge_100-10_D05_D14.hdf5',\n",
       " 'stella/input/STELLA_sA400_semiauto_Merge_100-10_D05_D21.hdf5',\n",
       " 'stella/input/STELLA_sA400_semiauto_Merge_100-10_D05_D7.hdf5',\n",
       " 'stella/input/STELLA_sA400_semiauto_Merge_100-20_A02_D14.hdf5',\n",
       " 'stella/input/STELLA_sA400_semiauto_Merge_100-20_A02_D21.hdf5',\n",
       " 'stella/input/STELLA_sA400_semiauto_Merge_100-20_A02_D7.hdf5',\n",
       " 'stella/input/STELLA_sA400_semiauto_Merge_100-20_A03_D14.hdf5',\n",
       " 'stella/input/STELLA_sA400_semiauto_Merge_100-20_A03_D21.hdf5',\n",
       " 'stella/input/STELLA_sA400_semiauto_Merge_100-20_A03_D7.hdf5',\n",
       " 'stella/input/STELLA_sA400_semiauto_Merge_100-20_C01_D14.hdf5',\n",
       " 'stella/input/STELLA_sA400_semiauto_Merge_100-20_C01_D21.hdf5',\n",
       " 'stella/input/STELLA_sA400_semiauto_Merge_100-20_C06_D14.hdf5',\n",
       " 'stella/input/STELLA_sA400_semiauto_Merge_100-20_C06_D21.hdf5',\n",
       " 'stella/input/STELLA_sA400_semiauto_Merge_100-20_C06_D7.hdf5',\n",
       " 'stella/input/STELLA_sA400_semiauto_Merge_250-10_A01_D14.hdf5',\n",
       " 'stella/input/STELLA_sA400_semiauto_Merge_250-10_A01_D21.hdf5',\n",
       " 'stella/input/STELLA_sA400_semiauto_Merge_250-10_A01_D7.hdf5',\n",
       " 'stella/input/STELLA_sA400_semiauto_Merge_250-10_A05_D14.hdf5',\n",
       " 'stella/input/STELLA_sA400_semiauto_Merge_250-10_A05_D21.hdf5',\n",
       " 'stella/input/STELLA_sA400_semiauto_Merge_250-10_A05_D7.hdf5',\n",
       " 'stella/input/STELLA_sA400_semiauto_Merge_250-10_B03_D14.hdf5',\n",
       " 'stella/input/STELLA_sA400_semiauto_Merge_250-10_B03_D21.hdf5',\n",
       " 'stella/input/STELLA_sA400_semiauto_Merge_250-10_B03_D7.hdf5',\n",
       " 'stella/input/STELLA_sA400_semiauto_Merge_250-20_A04_D14.hdf5',\n",
       " 'stella/input/STELLA_sA400_semiauto_Merge_250-20_A04_D21.hdf5',\n",
       " 'stella/input/STELLA_sA400_semiauto_Merge_250-20_A04_D7.hdf5',\n",
       " 'stella/input/STELLA_sA400_semiauto_Merge_250-20_C05_D14.hdf5',\n",
       " 'stella/input/STELLA_sA400_semiauto_Merge_250-20_C05_D21.hdf5',\n",
       " 'stella/input/STELLA_sA400_semiauto_Merge_250-20_C5_D7.hdf5',\n",
       " 'stella/input/STELLA_sA400_semiauto_Merge_250-20_D02_D14.hdf5',\n",
       " 'stella/input/STELLA_sA400_semiauto_Merge_250-20_D02_D21.hdf5',\n",
       " 'stella/input/STELLA_sA400_semiauto_Merge_250-20_D02_D7.hdf5',\n",
       " 'stella/input/STELLA_sA400_semiauto_Merge_50-10_A06_D14.hdf5',\n",
       " 'stella/input/STELLA_sA400_semiauto_Merge_50-10_A06_D21.hdf5',\n",
       " 'stella/input/STELLA_sA400_semiauto_Merge_50-10_A06_D7.hdf5',\n",
       " 'stella/input/STELLA_sA400_semiauto_Merge_50-10_C02_D14.hdf5',\n",
       " 'stella/input/STELLA_sA400_semiauto_Merge_50-10_C02_D21.hdf5',\n",
       " 'stella/input/STELLA_sA400_semiauto_Merge_50-10_C02_D7.hdf5',\n",
       " 'stella/input/STELLA_sA400_semiauto_Merge_50-10_D01_D14.hdf5',\n",
       " 'stella/input/STELLA_sA400_semiauto_Merge_50-10_D01_D21.hdf5',\n",
       " 'stella/input/STELLA_sA400_semiauto_Merge_50-10_D01_D7.hdf5',\n",
       " 'stella/input/STELLA_sA400_semiauto_Merge_50-20_B05_D14.hdf5',\n",
       " 'stella/input/STELLA_sA400_semiauto_Merge_50-20_B05_D21.hdf5',\n",
       " 'stella/input/STELLA_sA400_semiauto_Merge_50-20_B05_D7.hdf5',\n",
       " 'stella/input/STELLA_sA400_semiauto_Merge_50-20_C04_D14.hdf5',\n",
       " 'stella/input/STELLA_sA400_semiauto_Merge_50-20_C04_D21.hdf5',\n",
       " 'stella/input/STELLA_sA400_semiauto_Merge_50-20_C04_D7.hdf5',\n",
       " 'stella/input/STELLA_sA400_semiauto_Merge_50-20_D06_D14.hdf5',\n",
       " 'stella/input/STELLA_sA400_semiauto_Merge_50-20_D06_D21.hdf5',\n",
       " 'stella/input/STELLA_sA400_semiauto_Merge_50-20_D06_D7.hdf5',\n",
       " 'stella/input/STELLA_sA400_semiauto_Merge_500-10_B01_D7.hdf5',\n",
       " 'stella/input/STELLA_sA400_semiauto_Merge_500-10_B06_D14.hdf5',\n",
       " 'stella/input/STELLA_sA400_semiauto_Merge_500-10_B06_D21.hdf5',\n",
       " 'stella/input/STELLA_sA400_semiauto_Merge_500-10_B06_D7.hdf5',\n",
       " 'stella/input/STELLA_sA400_semiauto_Merge_500-10_D04_D14.hdf5',\n",
       " 'stella/input/STELLA_sA400_semiauto_Merge_500-10_D04_D21.hdf5',\n",
       " 'stella/input/STELLA_sA400_semiauto_Merge_500-10_D04_D7.hdf5',\n",
       " 'stella/input/STELLA_sA400_semiauto_Merge_500-20_B01_D14.hdf5',\n",
       " 'stella/input/STELLA_sA400_semiauto_Merge_500-20_B01_D21.hdf5',\n",
       " 'stella/input/STELLA_sA400_semiauto_Merge_500-20_B02_D14.hdf5',\n",
       " 'stella/input/STELLA_sA400_semiauto_Merge_500-20_B02_D21.hdf5',\n",
       " 'stella/input/STELLA_sA400_semiauto_Merge_500-20_B02_D7.hdf5',\n",
       " 'stella/input/STELLA_sA400_semiauto_Merge_500-20_B04_D14.hdf5',\n",
       " 'stella/input/STELLA_sA400_semiauto_Merge_500-20_B04_D21.hdf5',\n",
       " 'stella/input/STELLA_sA400_semiauto_Merge_500-20_B04_D7.hdf5',\n",
       " 'stella/input/STELLA_sA400_semiauto_Merge_500-20_D03_D14.hdf5',\n",
       " 'stella/input/STELLA_sA400_semiauto_Merge_500-20_D03_D21.hdf5',\n",
       " 'stella/input/STELLA_sA400_semiauto_Merge_500-20_D03_D7.hdf5',\n",
       " 'stella/input/STELLA_sA800_semiauto_Merge_100-20_C01_D14.hdf5',\n",
       " 'stella/input/STELLA_sA800_semiauto_Merge_100-20_C01_D21.hdf5',\n",
       " 'stella/input/STELLA_sA800_semiauto_Merge_100-20_C01_D7.hdf5',\n",
       " 'stella/input/STELLA_sA800_semiauto_Merge_100-20_C03_D14.hdf5',\n",
       " 'stella/input/STELLA_sA800_semiauto_Merge_100-20_C03_D21.hdf5',\n",
       " 'stella/input/STELLA_sA800_semiauto_Merge_100-20_C03_D7.hdf5',\n",
       " 'stella/input/STELLA_sA800_semiauto_Merge_100-20_C06_D14.hdf5',\n",
       " 'stella/input/STELLA_sA800_semiauto_Merge_100-20_C06_D21.hdf5',\n",
       " 'stella/input/STELLA_sA800_semiauto_Merge_100-20_C06_D7.hdf5',\n",
       " 'stella/input/STELLA_sA800_semiauto_Merge_100-40_A02_D14.hdf5',\n",
       " 'stella/input/STELLA_sA800_semiauto_Merge_100-40_A02_D21.hdf5',\n",
       " 'stella/input/STELLA_sA800_semiauto_Merge_100-40_A02_D7.hdf5',\n",
       " 'stella/input/STELLA_sA800_semiauto_Merge_100-40_A03_D14.hdf5',\n",
       " 'stella/input/STELLA_sA800_semiauto_Merge_100-40_A03_D21.hdf5',\n",
       " 'stella/input/STELLA_sA800_semiauto_Merge_100-40_A03_D7.hdf5',\n",
       " 'stella/input/STELLA_sA800_semiauto_Merge_100-40_D05_D14.hdf5',\n",
       " 'stella/input/STELLA_sA800_semiauto_Merge_100-40_D05_D21.hdf5',\n",
       " 'stella/input/STELLA_sA800_semiauto_Merge_100-40_D05_D7.hdf5',\n",
       " 'stella/input/STELLA_sA800_semiauto_Merge_250-20_A05_D14.hdf5',\n",
       " 'stella/input/STELLA_sA800_semiauto_Merge_250-20_A05_D21.hdf5',\n",
       " 'stella/input/STELLA_sA800_semiauto_Merge_250-20_A05_D7.hdf5',\n",
       " 'stella/input/STELLA_sA800_semiauto_Merge_250-20_B03_D14.hdf5',\n",
       " 'stella/input/STELLA_sA800_semiauto_Merge_250-20_B03_D21.hdf5',\n",
       " 'stella/input/STELLA_sA800_semiauto_Merge_250-20_B03_D7.hdf5',\n",
       " 'stella/input/STELLA_sA800_semiauto_Merge_250-20_C05_D14.hdf5',\n",
       " 'stella/input/STELLA_sA800_semiauto_Merge_250-20_C05_D21.hdf5',\n",
       " 'stella/input/STELLA_sA800_semiauto_Merge_250-20_C05_D7.hdf5',\n",
       " 'stella/input/STELLA_sA800_semiauto_Merge_250-40_A01_D14.hdf5',\n",
       " 'stella/input/STELLA_sA800_semiauto_Merge_250-40_A01_D21.hdf5',\n",
       " 'stella/input/STELLA_sA800_semiauto_Merge_250-40_A01_D7.hdf5',\n",
       " 'stella/input/STELLA_sA800_semiauto_Merge_250-40_A04_D14.hdf5',\n",
       " 'stella/input/STELLA_sA800_semiauto_Merge_250-40_A04_D21.hdf5',\n",
       " 'stella/input/STELLA_sA800_semiauto_Merge_250-40_A04_D7.hdf5',\n",
       " 'stella/input/STELLA_sA800_semiauto_Merge_250-40_D02_D14.hdf5',\n",
       " 'stella/input/STELLA_sA800_semiauto_Merge_250-40_D02_D21.hdf5',\n",
       " 'stella/input/STELLA_sA800_semiauto_Merge_250-40_D02_D7.hdf5',\n",
       " 'stella/input/STELLA_sA800_semiauto_Merge_50-20_A06_D14.hdf5',\n",
       " 'stella/input/STELLA_sA800_semiauto_Merge_50-20_A06_D21.hdf5',\n",
       " 'stella/input/STELLA_sA800_semiauto_Merge_50-20_A06_D7.hdf5',\n",
       " 'stella/input/STELLA_sA800_semiauto_Merge_50-20_D01_D14.hdf5',\n",
       " 'stella/input/STELLA_sA800_semiauto_Merge_50-20_D01_D21.hdf5',\n",
       " 'stella/input/STELLA_sA800_semiauto_Merge_50-20_D01_D7.hdf5',\n",
       " 'stella/input/STELLA_sA800_semiauto_Merge_50-20_D06_D14.hdf5',\n",
       " 'stella/input/STELLA_sA800_semiauto_Merge_50-20_D06_D21.hdf5',\n",
       " 'stella/input/STELLA_sA800_semiauto_Merge_50-20_D06_D7.hdf5',\n",
       " 'stella/input/STELLA_sA800_semiauto_Merge_50-40_B05_D14.hdf5',\n",
       " 'stella/input/STELLA_sA800_semiauto_Merge_50-40_B05_D21.hdf5',\n",
       " 'stella/input/STELLA_sA800_semiauto_Merge_50-40_B05_D7.hdf5',\n",
       " 'stella/input/STELLA_sA800_semiauto_Merge_50-40_C02_D14.hdf5',\n",
       " 'stella/input/STELLA_sA800_semiauto_Merge_50-40_C02_D21.hdf5',\n",
       " 'stella/input/STELLA_sA800_semiauto_Merge_50-40_C02_D7.hdf5',\n",
       " 'stella/input/STELLA_sA800_semiauto_Merge_50-40_C04_D14.hdf5',\n",
       " 'stella/input/STELLA_sA800_semiauto_Merge_50-40_C04_D21.hdf5',\n",
       " 'stella/input/STELLA_sA800_semiauto_Merge_50-40_C04_D7.hdf5',\n",
       " 'stella/input/STELLA_sA800_semiauto_Merge_500-20_B01_D14.hdf5',\n",
       " 'stella/input/STELLA_sA800_semiauto_Merge_500-20_B01_D21.hdf5',\n",
       " 'stella/input/STELLA_sA800_semiauto_Merge_500-20_B01_D7.hdf5',\n",
       " 'stella/input/STELLA_sA800_semiauto_Merge_500-20_B02_D14.hdf5',\n",
       " 'stella/input/STELLA_sA800_semiauto_Merge_500-20_B02_D21.hdf5',\n",
       " 'stella/input/STELLA_sA800_semiauto_Merge_500-20_B02_D7.hdf5',\n",
       " 'stella/input/STELLA_sA800_semiauto_Merge_500-20_D04_D14.hdf5',\n",
       " 'stella/input/STELLA_sA800_semiauto_Merge_500-20_D04_D21.hdf5',\n",
       " 'stella/input/STELLA_sA800_semiauto_Merge_500-20_D04_D7.hdf5',\n",
       " 'stella/input/STELLA_sA800_semiauto_Merge_500-40_B04_D14.hdf5',\n",
       " 'stella/input/STELLA_sA800_semiauto_Merge_500-40_B04_D21.hdf5',\n",
       " 'stella/input/STELLA_sA800_semiauto_Merge_500-40_B04_D7.hdf5',\n",
       " 'stella/input/STELLA_sA800_semiauto_Merge_500-40_B06_D14.hdf5',\n",
       " 'stella/input/STELLA_sA800_semiauto_Merge_500-40_B06_D21.hdf5',\n",
       " 'stella/input/STELLA_sA800_semiauto_Merge_500-40_B06_D7.hdf5',\n",
       " 'stella/input/STELLA_sA800_semiauto_Merge_500-40_D03_D14.hdf5',\n",
       " 'stella/input/STELLA_sA800_semiauto_Merge_500-40_D03_D21.hdf5',\n",
       " 'stella/input/STELLA_sA800_semiauto_Merge_500-40_D03_D7.hdf5']"
      ]
     },
     "execution_count": 6,
     "metadata": {},
     "output_type": "execute_result"
    }
   ],
   "source": [
    "path_to_images = \"stella/input/\"\n",
    "all_files_in_path = os.listdir(path_to_images)\n",
    "\n",
    "all_images = [path_to_images + f for f in all_files_in_path if '.hdf5' in f]\n",
    "all_images"
   ]
  },
  {
   "cell_type": "code",
   "execution_count": 7,
   "id": "b80982a2-6a97-4fbb-bdcf-0c5b656c5297",
   "metadata": {},
   "outputs": [
    {
     "data": {
      "text/plain": [
       "144"
      ]
     },
     "execution_count": 7,
     "metadata": {},
     "output_type": "execute_result"
    }
   ],
   "source": [
    "len(all_images)"
   ]
  },
  {
   "cell_type": "markdown",
   "id": "b848e292-ac56-4261-a17a-cee32a63fe8d",
   "metadata": {
    "tags": []
   },
   "source": [
    "## Run all images"
   ]
  },
  {
   "cell_type": "code",
   "execution_count": 8,
   "id": "5883137b-e839-4c5c-8b8c-a24363bf0e7b",
   "metadata": {},
   "outputs": [
    {
     "name": "stdout",
     "output_type": "stream",
     "text": [
      "\n",
      "\n",
      "---------- Analyzing image # 144 / 144 , name: stella/input/STELLA_sA800_semiauto_Merge_500-40_D03_D7.hdf5 ----------\n",
      "\n",
      "\n"
     ]
    },
    {
     "name": "stderr",
     "output_type": "stream",
     "text": [
      "Input Notebook:  SpheroidClassifier_Manual.ipynb\n",
      "Output Notebook: Individual_Analysis.ipynb\n",
      "Generating grammar tables from /opt/conda/lib/python3.9/site-packages/blib2to3/Grammar.txt\n",
      "Writing grammar tables to /home/jovyan/.cache/black/21.12b0/Grammar3.9.7.final.0.pickle\n",
      "Writing failed: [Errno 2] No such file or directory: '/home/jovyan/.cache/black/21.12b0/tmpio3wr265'\n",
      "Generating grammar tables from /opt/conda/lib/python3.9/site-packages/blib2to3/PatternGrammar.txt\n",
      "Writing grammar tables to /home/jovyan/.cache/black/21.12b0/PatternGrammar3.9.7.final.0.pickle\n",
      "Writing failed: [Errno 2] No such file or directory: '/home/jovyan/.cache/black/21.12b0/tmpfzbl_zif'\n",
      "Executing:   0%|          | 0/76 [00:00<?, ?cell/s]Executing notebook with kernel: python3\n",
      "Executing:  25%|██▌       | 19/76 [00:03<00:08,  6.93cell/s]Warning: Ignoring your non-empty LD_LIBRARY_PATH\n",
      "/ilastik/ilastik-1.3.3post3-Linux/ilastik-meta/lazyflow/lazyflow/classifiers/__init__.py:20: UserWarning: init: Could not import tiktorch classifier\n",
      "  warnings.warn(\"init: Could not import tiktorch classifier\")\n"
     ]
    },
    {
     "name": "stdout",
     "output_type": "stream",
     "text": [
      "INFO ilastik_main: Starting ilastik from \"/ilastik/ilastik-1.3.3post3-Linux\".\n"
     ]
    },
    {
     "name": "stderr",
     "output_type": "stream",
     "text": [
      "WARNING 2022-08-22 16:45:34,420 opConservationTracking 18397 140463433533248 Could not find any ILP solver\n",
      "WARNING 2022-08-22 16:45:34,428 opStructuredTracking 18397 140463433533248 Could not find any ILP solver\n",
      "WARNING 2022-08-22 16:45:34,430 structuredTrackingWorkflow 18397 140463433533248 Could not find any learning solver. Tracking will use flow-based solver (DPCT). Learning for tracking will be disabled!\n"
     ]
    },
    {
     "name": "stdout",
     "output_type": "stream",
     "text": [
      "Starting ilastik from \"/ilastik/ilastik-1.3.3post3-Linux\".\n",
      "INFO ilastik.shell.projectManager: Opening Project: /home/host_home/figures/automated_image_analysis/semi_automated/stella/20220525_stella_manual_pixelclassification.ilp\n"
     ]
    },
    {
     "name": "stderr",
     "output_type": "stream",
     "text": [
      "WARNING dataset.py(313): H5pyDeprecationWarning: dataset.value has been deprecated. Use dataset[()] instead.\n",
      "WARNING opSimpleBlockedArrayCache.py(43): FutureWarning: Conversion of the second argument of issubdtype from `dtype` to `np.generic` is deprecated. In future, it will be treated as `np.object_ == np.dtype(dtype).type`.\n",
      "WARNING opSlicedBlockedArrayCache.py(141): FutureWarning: Conversion of the second argument of issubdtype from `dtype` to `np.generic` is deprecated. In future, it will be treated as `np.object_ == np.dtype(dtype).type`.\n"
     ]
    },
    {
     "name": "stdout",
     "output_type": "stream",
     "text": [
      "INFO ilastik.workflows.pixelClassification.pixelClassificationWorkflow: Beginning Batch Processing\n",
      "INFO ilastik.applets.batchProcessing.batchProcessingApplet: Exporting to /home/host_home/figures/automated_image_analysis/semi_automated/stella/output/images/STELLA_sA800_semiauto_Merge_500-40_D03_D7/ilastik/probabilities/STELLA_sA800_semiauto_Merge_500-40_D03_D7_Probabilities.h5/exported_data\n",
      "INFO lazyflow.operators.ioOperators.ioOperators.OpH5N5WriterBigDataset: Data shape: (1200, 1600, 2)\n",
      "INFO lazyflow.utility.bigRequestStreamer: Estimated RAM usage per pixel is 652.0B * safety factor (2.0)\n",
      "INFO lazyflow.utility.bigRequestStreamer: determining blockshape assuming available_ram is 4.8GiB, split between 8 threads\n",
      "INFO lazyflow.utility.bigRequestStreamer: Chose blockshape: (704, 704, 2)\n",
      "INFO lazyflow.utility.bigRequestStreamer: Estimated RAM usage per block is 616.3MiB\n",
      "DEBUG lazyflow.operators.classifierOperators: Features took 2.1704660000000002 seconds. Prediction took 2.1318799999999998 seconds. Subregion: start '[0, 1408, 0]' stop '[704, 1600, 2]'\n",
      "DEBUG lazyflow.operators.classifierOperators: Features took 4.187386 seconds. Prediction took 1.607554 seconds. Subregion: start '[0, 704, 0]' stop '[704, 1408, 2]'\n",
      "DEBUG lazyflow.operators.classifierOperators: Features took 2.247026 seconds. Prediction took 3.620197 seconds. Subregion: start '[0, 0, 0]' stop '[704, 704, 2]'\n",
      "DEBUG lazyflow.operators.classifierOperators: Features took 5.906126 seconds. Prediction took 1.1766429999999999 seconds. Subregion: start '[704, 0, 0]' stop '[1200, 704, 2]'\n",
      "DEBUG lazyflow.operators.classifierOperators: Features took 5.894962 seconds. Prediction took 1.24912 seconds. Subregion: start '[704, 1408, 0]' stop '[1200, 1600, 2]'\n",
      "DEBUG lazyflow.operators.classifierOperators: Features took 7.141372 seconds. Prediction took 0.658032 seconds. Subregion: start '[704, 704, 0]' stop '[1200, 1408, 2]'\n",
      "INFO ilastik.workflows.pixelClassification.pixelClassificationWorkflow: Completed Batch Processing\n"
     ]
    },
    {
     "name": "stderr",
     "output_type": "stream",
     "text": [
      "Executing:  29%|██▉       | 22/76 [00:16<01:25,  1.58s/cell]OpenJDK 64-Bit Server VM warning: ignoring option PermSize=128m; support was removed in 8.0\n",
      "OpenJDK 64-Bit Server VM warning: Using incremental CMS is deprecated and will likely be removed in a future release\n",
      "Executing:  42%|████▏     | 32/76 [00:23<00:24,  1.81cell/s]Times reported are CPU and Wall-clock times for each module\n",
      "Mon Aug 22 16:45:54 2022: Image # 1, module LoadData # 1: CPU_time = 1.40 secs, Wall_time = 0.73 secs\n",
      "Mon Aug 22 16:45:55 2022: Image # 1, module RescaleIntensity # 2: CPU_time = 0.63 secs, Wall_time = 0.50 secs\n",
      "Mon Aug 22 16:45:56 2022: Image # 1, module ColorToGray # 3: CPU_time = 0.04 secs, Wall_time = 0.04 secs\n",
      "Mon Aug 22 16:45:56 2022: Image # 1, module IdentifyPrimaryObjects # 4: CPU_time = 0.94 secs, Wall_time = 0.94 secs\n",
      "Mon Aug 22 16:45:57 2022: Image # 1, module MeasureObjectSizeShape # 5: CPU_time = 0.25 secs, Wall_time = 0.25 secs\n",
      "Mon Aug 22 16:45:57 2022: Image # 1, module FilterObjects # 6: CPU_time = 0.20 secs, Wall_time = 0.20 secs\n",
      "Mon Aug 22 16:45:57 2022: Image # 1, module MeasureObjectSizeShape # 7: CPU_time = 0.22 secs, Wall_time = 0.22 secs\n",
      "Mon Aug 22 16:45:57 2022: Image # 1, module MeasureTexture # 8: CPU_time = 22.28 secs, Wall_time = 1.43 secs\n",
      "Mon Aug 22 16:45:59 2022: Image # 1, module MeasureObjectIntensityDistribution # 9: CPU_time = 0.56 secs, Wall_time = 0.56 secs\n",
      "Mon Aug 22 16:45:59 2022: Image # 1, module MeasureObjectIntensity # 10: CPU_time = 0.18 secs, Wall_time = 0.18 secs\n",
      "Mon Aug 22 16:45:59 2022: Image # 1, module OverlayObjects # 11: CPU_time = 0.72 secs, Wall_time = 0.71 secs\n",
      "Mon Aug 22 16:46:00 2022: Image # 1, module SaveImages # 12: CPU_time = 0.35 secs, Wall_time = 0.38 secs\n",
      "Mon Aug 22 16:46:01 2022: Image # 1, module ExportToSpreadsheet # 13: CPU_time = 0.00 secs, Wall_time = 0.00 secs\n",
      "Executing:  50%|█████     | 38/76 [00:32<00:32,  1.16cell/s]Warning: Ignoring your non-empty LD_LIBRARY_PATH\n",
      "/ilastik/ilastik-1.3.3post3-Linux/ilastik-meta/lazyflow/lazyflow/classifiers/__init__.py:20: UserWarning: init: Could not import tiktorch classifier\n",
      "  warnings.warn(\"init: Could not import tiktorch classifier\")\n"
     ]
    },
    {
     "name": "stdout",
     "output_type": "stream",
     "text": [
      "INFO ilastik_main: Starting ilastik from \"/ilastik/ilastik-1.3.3post3-Linux\".\n"
     ]
    },
    {
     "name": "stderr",
     "output_type": "stream",
     "text": [
      "WARNING 2022-08-22 16:46:03,116 opConservationTracking 18536 139803443705664 Could not find any ILP solver\n",
      "WARNING 2022-08-22 16:46:03,124 opStructuredTracking 18536 139803443705664 Could not find any ILP solver\n",
      "WARNING 2022-08-22 16:46:03,126 structuredTrackingWorkflow 18536 139803443705664 Could not find any learning solver. Tracking will use flow-based solver (DPCT). Learning for tracking will be disabled!\n"
     ]
    },
    {
     "name": "stdout",
     "output_type": "stream",
     "text": [
      "Starting ilastik from \"/ilastik/ilastik-1.3.3post3-Linux\".\n",
      "INFO ilastik.shell.projectManager: Opening Project: /home/host_home/figures/automated_image_analysis/semi_automated/stella/20220525_stella_manual_GridDetection_pixelclassification.ilp\n"
     ]
    },
    {
     "name": "stderr",
     "output_type": "stream",
     "text": [
      "WARNING dataset.py(313): H5pyDeprecationWarning: dataset.value has been deprecated. Use dataset[()] instead.\n",
      "WARNING opSimpleBlockedArrayCache.py(43): FutureWarning: Conversion of the second argument of issubdtype from `dtype` to `np.generic` is deprecated. In future, it will be treated as `np.object_ == np.dtype(dtype).type`.\n",
      "WARNING opSlicedBlockedArrayCache.py(141): FutureWarning: Conversion of the second argument of issubdtype from `dtype` to `np.generic` is deprecated. In future, it will be treated as `np.object_ == np.dtype(dtype).type`.\n"
     ]
    },
    {
     "name": "stdout",
     "output_type": "stream",
     "text": [
      "INFO ilastik.workflows.pixelClassification.pixelClassificationWorkflow: Beginning Batch Processing\n",
      "INFO ilastik.applets.batchProcessing.batchProcessingApplet: Exporting to /home/host_home/figures/automated_image_analysis/semi_automated/stella/output/images/STELLA_sA800_semiauto_Merge_500-40_D03_D7/ilastik/probabilities/STELLA_sA800_semiauto_Merge_500-40_D03_D7_Simple Segmentation.tif\n",
      "INFO lazyflow.utility.bigRequestStreamer: Estimated RAM usage per pixel is 652.0B * safety factor (2.0)\n",
      "INFO lazyflow.utility.bigRequestStreamer: determining blockshape assuming available_ram is 4.8GiB, split between 8 threads\n",
      "INFO lazyflow.utility.bigRequestStreamer: Chose blockshape: (704, 704, 2)\n",
      "INFO lazyflow.utility.bigRequestStreamer: Estimated RAM usage per block is 616.3MiB\n",
      "DEBUG lazyflow.operators.classifierOperators: Features took 1.7779150000000001 seconds. Prediction took 1.046723 seconds. Subregion: start '[0, 0, 0]' stop '[704, 704, 2]'\n",
      "DEBUG lazyflow.operators.classifierOperators: Features took 2.754353 seconds. Prediction took 1.158919 seconds. Subregion: start '[0, 704, 0]' stop '[704, 1408, 2]'\n",
      "DEBUG lazyflow.operators.classifierOperators: Features took 2.729318 seconds. Prediction took 1.3600590000000001 seconds. Subregion: start '[0, 1408, 0]' stop '[704, 1600, 2]'\n",
      "DEBUG lazyflow.operators.classifierOperators: Features took 4.684581 seconds. Prediction took 0.771034 seconds. Subregion: start '[704, 0, 0]' stop '[1200, 704, 2]'\n",
      "DEBUG lazyflow.operators.classifierOperators: Features took 5.317384 seconds. Prediction took 0.878483 seconds. Subregion: start '[704, 1408, 0]' stop '[1200, 1600, 2]'\n",
      "DEBUG lazyflow.operators.classifierOperators: Features took 5.429979 seconds. Prediction took 0.771878 seconds. Subregion: start '[704, 704, 0]' stop '[1200, 1408, 2]'\n",
      "INFO ilastik.workflows.pixelClassification.pixelClassificationWorkflow: Completed Batch Processing\n"
     ]
    },
    {
     "name": "stderr",
     "output_type": "stream",
     "text": [
      "Executing:  99%|█████████▊| 75/76 [00:47<00:00,  8.94cell/s]Input Notebook:  R_image_analysis_Manual.ipynb\n",
      "Output Notebook: Image_DataAnalysis.ipynb\n",
      "Executing:   0%|          | 0/43 [00:00<?, ?cell/s]Executing notebook with kernel: ir\n",
      "Executing: 100%|██████████| 43/43 [00:06<00:00,  6.37cell/s]\n",
      "Executing: 100%|██████████| 76/76 [00:54<00:00,  1.39cell/s]\n"
     ]
    }
   ],
   "source": [
    "for n, imfile in enumerate(all_images):\n",
    "    print('\\n\\n---------- Analyzing image # ' + str(n + 1) + ' / ' + str(len(all_images)) + ' , name: ' + imfile + ' ----------\\n\\n')\n",
    "    # example: papermill SpheroidClassifier_Manual.ipynb Individual_Analysis.ipynb -p imagefile stella/input/STELLA_sA400_semiauto_Merge_50-10_A06_D14.tif\n",
    "    command = 'papermill SpheroidClassifier_Manual.ipynb Individual_Analysis.ipynb -p imagefile ' + imfile\n",
    "    \n",
    "    process = Popen(command, shell=True, stdout=PIPE)\n",
    "    # Poll process.stdout to show stdout live\n",
    "    while True:\n",
    "      output = process.stdout.readline()\n",
    "      if process.poll() is not None:\n",
    "        break\n",
    "      if output:\n",
    "        print(output.strip().decode('utf-8'))\n",
    "    \n",
    "    os.system('rm Individual_Analysis.ipynb')\n",
    "    clear_output(wait=True)    "
   ]
  }
 ],
 "metadata": {
  "kernelspec": {
   "display_name": "Python 3 (ipykernel)",
   "language": "python",
   "name": "python3"
  },
  "language_info": {
   "codemirror_mode": {
    "name": "ipython",
    "version": 3
   },
   "file_extension": ".py",
   "mimetype": "text/x-python",
   "name": "python",
   "nbconvert_exporter": "python",
   "pygments_lexer": "ipython3",
   "version": "3.9.7"
  }
 },
 "nbformat": 4,
 "nbformat_minor": 5
}
